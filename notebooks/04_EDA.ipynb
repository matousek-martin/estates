{
 "cells": [
  {
   "cell_type": "code",
   "execution_count": 1,
   "id": "56e304c9",
   "metadata": {},
   "outputs": [
    {
     "name": "stdout",
     "output_type": "stream",
     "text": [
      "/Users/martin/Git/estates/src\n"
     ]
    }
   ],
   "source": [
    "cd /Users/martin/Git/estates/src"
   ]
  },
  {
   "cell_type": "code",
   "execution_count": 2,
   "id": "5863f7a7",
   "metadata": {},
   "outputs": [],
   "source": [
    "%load_ext autoreload\n",
    "%autoreload 2"
   ]
  },
  {
   "cell_type": "code",
   "execution_count": 14,
   "id": "ad2f0846",
   "metadata": {},
   "outputs": [],
   "source": [
    "import pandas as pd\n",
    "import seaborn as sns\n",
    "import matplotlib.pyplot as plt\n",
    "\n",
    "from data import make_rentals, preprocess_rentals"
   ]
  },
  {
   "cell_type": "code",
   "execution_count": 9,
   "id": "e4a3d29a",
   "metadata": {},
   "outputs": [],
   "source": [
    "pd.set_option('display.float_format', lambda x: '%.2f' % x)"
   ]
  },
  {
   "cell_type": "code",
   "execution_count": 7,
   "id": "cfff86dd",
   "metadata": {},
   "outputs": [],
   "source": [
    "rentals = make_rentals('../data/silver')\n",
    "df = preprocess_rentals(rentals)"
   ]
  },
  {
   "cell_type": "code",
   "execution_count": 10,
   "id": "551ff8af",
   "metadata": {},
   "outputs": [
    {
     "data": {
      "text/html": [
       "<div>\n",
       "<style scoped>\n",
       "    .dataframe tbody tr th:only-of-type {\n",
       "        vertical-align: middle;\n",
       "    }\n",
       "\n",
       "    .dataframe tbody tr th {\n",
       "        vertical-align: top;\n",
       "    }\n",
       "\n",
       "    .dataframe thead th {\n",
       "        text-align: right;\n",
       "    }\n",
       "</style>\n",
       "<table border=\"1\" class=\"dataframe\">\n",
       "  <thead>\n",
       "    <tr style=\"text-align: right;\">\n",
       "      <th></th>\n",
       "      <th>theatre</th>\n",
       "      <th>cinema</th>\n",
       "      <th>groceries</th>\n",
       "      <th>candy_shop</th>\n",
       "      <th>tram</th>\n",
       "      <th>veterinary</th>\n",
       "      <th>train</th>\n",
       "      <th>pharmacist</th>\n",
       "      <th>atm</th>\n",
       "      <th>sports</th>\n",
       "      <th>bus</th>\n",
       "      <th>doctors</th>\n",
       "      <th>school</th>\n",
       "      <th>kindergarten</th>\n",
       "      <th>pub</th>\n",
       "      <th>post_office</th>\n",
       "      <th>restaurant</th>\n",
       "      <th>seven_eleven</th>\n",
       "      <th>playground</th>\n",
       "      <th>disposition</th>\n",
       "      <th>area_m2</th>\n",
       "      <th>furnishing</th>\n",
       "      <th>elevator</th>\n",
       "      <th>category</th>\n",
       "      <th>efficiency</th>\n",
       "      <th>floor</th>\n",
       "      <th>building_type</th>\n",
       "      <th>building_state</th>\n",
       "      <th>ownership</th>\n",
       "      <th>district</th>\n",
       "      <th>price</th>\n",
       "    </tr>\n",
       "  </thead>\n",
       "  <tbody>\n",
       "    <tr>\n",
       "      <th>1</th>\n",
       "      <td>0.00</td>\n",
       "      <td>0.00</td>\n",
       "      <td>0.00</td>\n",
       "      <td>0.00</td>\n",
       "      <td>0.00</td>\n",
       "      <td>0.00</td>\n",
       "      <td>0.00</td>\n",
       "      <td>0.00</td>\n",
       "      <td>0.00</td>\n",
       "      <td>0.00</td>\n",
       "      <td>0.00</td>\n",
       "      <td>0.00</td>\n",
       "      <td>0.00</td>\n",
       "      <td>0.00</td>\n",
       "      <td>0.00</td>\n",
       "      <td>0.00</td>\n",
       "      <td>0.00</td>\n",
       "      <td>0.00</td>\n",
       "      <td>0.00</td>\n",
       "      <td>1+kk</td>\n",
       "      <td>30.00</td>\n",
       "      <td>0.00</td>\n",
       "      <td>1.00</td>\n",
       "      <td>flat</td>\n",
       "      <td>7.00</td>\n",
       "      <td>3.00</td>\n",
       "      <td>Cihlová</td>\n",
       "      <td>Velmi dobrý</td>\n",
       "      <td>Osobní</td>\n",
       "      <td>brno-mesto</td>\n",
       "      <td>11200</td>\n",
       "    </tr>\n",
       "    <tr>\n",
       "      <th>4</th>\n",
       "      <td>0.00</td>\n",
       "      <td>0.00</td>\n",
       "      <td>0.00</td>\n",
       "      <td>1.00</td>\n",
       "      <td>0.00</td>\n",
       "      <td>1.00</td>\n",
       "      <td>0.00</td>\n",
       "      <td>1.00</td>\n",
       "      <td>1.00</td>\n",
       "      <td>0.00</td>\n",
       "      <td>1.00</td>\n",
       "      <td>1.00</td>\n",
       "      <td>1.00</td>\n",
       "      <td>1.00</td>\n",
       "      <td>1.00</td>\n",
       "      <td>1.00</td>\n",
       "      <td>1.00</td>\n",
       "      <td>1.00</td>\n",
       "      <td>1.00</td>\n",
       "      <td>2+1</td>\n",
       "      <td>55.00</td>\n",
       "      <td>0.00</td>\n",
       "      <td>0.00</td>\n",
       "      <td>flat</td>\n",
       "      <td>5.00</td>\n",
       "      <td>3.00</td>\n",
       "      <td>Cihlová</td>\n",
       "      <td>Po rekonstrukci</td>\n",
       "      <td>Osobní</td>\n",
       "      <td>ostrava-mesto</td>\n",
       "      <td>7950</td>\n",
       "    </tr>\n",
       "    <tr>\n",
       "      <th>5</th>\n",
       "      <td>0.00</td>\n",
       "      <td>0.00</td>\n",
       "      <td>0.00</td>\n",
       "      <td>0.00</td>\n",
       "      <td>0.00</td>\n",
       "      <td>1.00</td>\n",
       "      <td>1.00</td>\n",
       "      <td>1.00</td>\n",
       "      <td>1.00</td>\n",
       "      <td>1.00</td>\n",
       "      <td>1.00</td>\n",
       "      <td>1.00</td>\n",
       "      <td>1.00</td>\n",
       "      <td>1.00</td>\n",
       "      <td>1.00</td>\n",
       "      <td>1.00</td>\n",
       "      <td>0.00</td>\n",
       "      <td>1.00</td>\n",
       "      <td>0.00</td>\n",
       "      <td>1+1</td>\n",
       "      <td>28.00</td>\n",
       "      <td>0.00</td>\n",
       "      <td>0.00</td>\n",
       "      <td>flat</td>\n",
       "      <td>5.00</td>\n",
       "      <td>2.00</td>\n",
       "      <td>Cihlová</td>\n",
       "      <td>Dobrý</td>\n",
       "      <td>Osobní</td>\n",
       "      <td>karvina</td>\n",
       "      <td>3450</td>\n",
       "    </tr>\n",
       "    <tr>\n",
       "      <th>6</th>\n",
       "      <td>0.00</td>\n",
       "      <td>1.00</td>\n",
       "      <td>1.00</td>\n",
       "      <td>1.00</td>\n",
       "      <td>0.00</td>\n",
       "      <td>1.00</td>\n",
       "      <td>0.00</td>\n",
       "      <td>1.00</td>\n",
       "      <td>1.00</td>\n",
       "      <td>1.00</td>\n",
       "      <td>1.00</td>\n",
       "      <td>1.00</td>\n",
       "      <td>0.00</td>\n",
       "      <td>1.00</td>\n",
       "      <td>1.00</td>\n",
       "      <td>1.00</td>\n",
       "      <td>1.00</td>\n",
       "      <td>1.00</td>\n",
       "      <td>1.00</td>\n",
       "      <td>2+1</td>\n",
       "      <td>56.00</td>\n",
       "      <td>0.00</td>\n",
       "      <td>0.00</td>\n",
       "      <td>flat</td>\n",
       "      <td>5.00</td>\n",
       "      <td>4.00</td>\n",
       "      <td>Cihlová</td>\n",
       "      <td>Dobrý</td>\n",
       "      <td>Osobní</td>\n",
       "      <td>karvina</td>\n",
       "      <td>6000</td>\n",
       "    </tr>\n",
       "    <tr>\n",
       "      <th>8</th>\n",
       "      <td>0.00</td>\n",
       "      <td>0.00</td>\n",
       "      <td>0.00</td>\n",
       "      <td>0.00</td>\n",
       "      <td>0.00</td>\n",
       "      <td>0.00</td>\n",
       "      <td>0.00</td>\n",
       "      <td>0.00</td>\n",
       "      <td>0.00</td>\n",
       "      <td>0.00</td>\n",
       "      <td>0.00</td>\n",
       "      <td>0.00</td>\n",
       "      <td>0.00</td>\n",
       "      <td>0.00</td>\n",
       "      <td>0.00</td>\n",
       "      <td>0.00</td>\n",
       "      <td>0.00</td>\n",
       "      <td>0.00</td>\n",
       "      <td>0.00</td>\n",
       "      <td>rodinny</td>\n",
       "      <td>350.00</td>\n",
       "      <td>0.00</td>\n",
       "      <td>0.00</td>\n",
       "      <td>house</td>\n",
       "      <td>7.00</td>\n",
       "      <td>2.00</td>\n",
       "      <td>Cihlová</td>\n",
       "      <td>Novostavba</td>\n",
       "      <td>Osobní</td>\n",
       "      <td>ostatni</td>\n",
       "      <td>90000</td>\n",
       "    </tr>\n",
       "  </tbody>\n",
       "</table>\n",
       "</div>"
      ],
      "text/plain": [
       "   theatre  cinema  groceries  candy_shop  tram  veterinary  train  pharmacist  ...  category  efficiency  floor  building_type   building_state  ownership       district  price\n",
       "1     0.00    0.00       0.00        0.00  0.00        0.00   0.00        0.00  ...      flat        7.00   3.00        Cihlová      Velmi dobrý     Osobní     brno-mesto  11200\n",
       "4     0.00    0.00       0.00        1.00  0.00        1.00   0.00        1.00  ...      flat        5.00   3.00        Cihlová  Po rekonstrukci     Osobní  ostrava-mesto   7950\n",
       "5     0.00    0.00       0.00        0.00  0.00        1.00   1.00        1.00  ...      flat        5.00   2.00        Cihlová            Dobrý     Osobní        karvina   3450\n",
       "6     0.00    1.00       1.00        1.00  0.00        1.00   0.00        1.00  ...      flat        5.00   4.00        Cihlová            Dobrý     Osobní        karvina   6000\n",
       "8     0.00    0.00       0.00        0.00  0.00        0.00   0.00        0.00  ...     house        7.00   2.00        Cihlová       Novostavba     Osobní        ostatni  90000\n",
       "\n",
       "[5 rows x 31 columns]"
      ]
     },
     "execution_count": 10,
     "metadata": {},
     "output_type": "execute_result"
    }
   ],
   "source": [
    "df.head()"
   ]
  },
  {
   "cell_type": "code",
   "execution_count": 11,
   "id": "187deaa7",
   "metadata": {},
   "outputs": [
    {
     "data": {
      "text/plain": [
       "(12828, 31)"
      ]
     },
     "execution_count": 11,
     "metadata": {},
     "output_type": "execute_result"
    }
   ],
   "source": [
    "df.shape"
   ]
  },
  {
   "cell_type": "markdown",
   "id": "ab663e38",
   "metadata": {},
   "source": [
    "# price (target)"
   ]
  },
  {
   "cell_type": "code",
   "execution_count": 9,
   "id": "3a15ac2e",
   "metadata": {},
   "outputs": [],
   "source": [
    "price = rentals.loc[:, 'price']"
   ]
  },
  {
   "cell_type": "code",
   "execution_count": 26,
   "id": "25399f7d",
   "metadata": {},
   "outputs": [
    {
     "data": {
      "text/plain": [
       "count      12845.00000\n",
       "mean       20350.73928\n",
       "std       155637.46506\n",
       "min            6.00000\n",
       "25%         9900.00000\n",
       "50%        12500.00000\n",
       "75%        17500.00000\n",
       "90%        29000.00000\n",
       "99%        92312.16000\n",
       "max     11220000.00000\n",
       "Name: price, dtype: float64"
      ]
     },
     "execution_count": 26,
     "metadata": {},
     "output_type": "execute_result"
    }
   ],
   "source": [
    "price.describe(percentiles=[.25, 0.5, .75, .9, .99])"
   ]
  },
  {
   "cell_type": "code",
   "execution_count": 27,
   "id": "4b32a517",
   "metadata": {},
   "outputs": [
    {
     "data": {
      "text/plain": [
       "0"
      ]
     },
     "execution_count": 27,
     "metadata": {},
     "output_type": "execute_result"
    }
   ],
   "source": [
    "price.isna().sum()"
   ]
  },
  {
   "cell_type": "code",
   "execution_count": 33,
   "id": "271756e1",
   "metadata": {},
   "outputs": [
    {
     "data": {
      "text/html": [
       "<div>\n",
       "<style scoped>\n",
       "    .dataframe tbody tr th:only-of-type {\n",
       "        vertical-align: middle;\n",
       "    }\n",
       "\n",
       "    .dataframe tbody tr th {\n",
       "        vertical-align: top;\n",
       "    }\n",
       "\n",
       "    .dataframe thead th {\n",
       "        text-align: right;\n",
       "    }\n",
       "</style>\n",
       "<table border=\"1\" class=\"dataframe\">\n",
       "  <thead>\n",
       "    <tr style=\"text-align: right;\">\n",
       "      <th></th>\n",
       "      <th>price</th>\n",
       "      <th>area_m2</th>\n",
       "      <th>district</th>\n",
       "      <th>disposition</th>\n",
       "      <th>category</th>\n",
       "      <th>furnishing</th>\n",
       "      <th>efficiency</th>\n",
       "      <th>floor</th>\n",
       "      <th>building_type</th>\n",
       "      <th>building_state</th>\n",
       "      <th>ownership</th>\n",
       "      <th>tram</th>\n",
       "      <th>elevator</th>\n",
       "      <th>theatre</th>\n",
       "      <th>cinema</th>\n",
       "      <th>groceries</th>\n",
       "      <th>candy_shop</th>\n",
       "      <th>veterinary</th>\n",
       "      <th>train</th>\n",
       "      <th>pharmacist</th>\n",
       "      <th>atm</th>\n",
       "      <th>sports</th>\n",
       "      <th>bus</th>\n",
       "      <th>doctors</th>\n",
       "      <th>school</th>\n",
       "      <th>kindergarten</th>\n",
       "      <th>pub</th>\n",
       "      <th>post_office</th>\n",
       "      <th>restaurant</th>\n",
       "      <th>seven_eleven</th>\n",
       "      <th>playground</th>\n",
       "    </tr>\n",
       "  </thead>\n",
       "  <tbody>\n",
       "    <tr>\n",
       "      <th>14</th>\n",
       "      <td>2600000</td>\n",
       "      <td>200.00000</td>\n",
       "      <td>NaN</td>\n",
       "      <td>4+1</td>\n",
       "      <td>flat</td>\n",
       "      <td>1.00000</td>\n",
       "      <td>7.00000</td>\n",
       "      <td>1.00000</td>\n",
       "      <td>Cihlová</td>\n",
       "      <td>Po rekonstrukci</td>\n",
       "      <td>Osobní</td>\n",
       "      <td>NaN</td>\n",
       "      <td>NaN</td>\n",
       "      <td>152.00000</td>\n",
       "      <td>NaN</td>\n",
       "      <td>1021.00000</td>\n",
       "      <td>74.00000</td>\n",
       "      <td>291.00000</td>\n",
       "      <td>132.00000</td>\n",
       "      <td>158.00000</td>\n",
       "      <td>284.00000</td>\n",
       "      <td>148.00000</td>\n",
       "      <td>272.00000</td>\n",
       "      <td>113.00000</td>\n",
       "      <td>120.00000</td>\n",
       "      <td>257.00000</td>\n",
       "      <td>161.00000</td>\n",
       "      <td>484.00000</td>\n",
       "      <td>105.00000</td>\n",
       "      <td>224.00000</td>\n",
       "      <td>478.00000</td>\n",
       "    </tr>\n",
       "    <tr>\n",
       "      <th>172</th>\n",
       "      <td>139800</td>\n",
       "      <td>176.00000</td>\n",
       "      <td>praha 3</td>\n",
       "      <td>4+kk</td>\n",
       "      <td>flat</td>\n",
       "      <td>1.00000</td>\n",
       "      <td>NaN</td>\n",
       "      <td>5.00000</td>\n",
       "      <td>Smíšená</td>\n",
       "      <td>Po rekonstrukci</td>\n",
       "      <td>Osobní</td>\n",
       "      <td>161.00000</td>\n",
       "      <td>True</td>\n",
       "      <td>658.00000</td>\n",
       "      <td>754.00000</td>\n",
       "      <td>619.00000</td>\n",
       "      <td>187.00000</td>\n",
       "      <td>231.00000</td>\n",
       "      <td>1075.00000</td>\n",
       "      <td>208.00000</td>\n",
       "      <td>187.00000</td>\n",
       "      <td>684.00000</td>\n",
       "      <td>675.00000</td>\n",
       "      <td>24.00000</td>\n",
       "      <td>100.00000</td>\n",
       "      <td>264.00000</td>\n",
       "      <td>744.00000</td>\n",
       "      <td>166.00000</td>\n",
       "      <td>174.00000</td>\n",
       "      <td>303.00000</td>\n",
       "      <td>64.00000</td>\n",
       "    </tr>\n",
       "    <tr>\n",
       "      <th>810</th>\n",
       "      <td>130000</td>\n",
       "      <td>550.00000</td>\n",
       "      <td>NaN</td>\n",
       "      <td>vila</td>\n",
       "      <td>house</td>\n",
       "      <td>0.00000</td>\n",
       "      <td>NaN</td>\n",
       "      <td>3.00000</td>\n",
       "      <td>Cihlová</td>\n",
       "      <td>Dobrý</td>\n",
       "      <td>NaN</td>\n",
       "      <td>NaN</td>\n",
       "      <td>NaN</td>\n",
       "      <td>NaN</td>\n",
       "      <td>4672.00000</td>\n",
       "      <td>2936.00000</td>\n",
       "      <td>2124.00000</td>\n",
       "      <td>2161.00000</td>\n",
       "      <td>5771.00000</td>\n",
       "      <td>2106.00000</td>\n",
       "      <td>2185.00000</td>\n",
       "      <td>1043.00000</td>\n",
       "      <td>207.00000</td>\n",
       "      <td>1139.00000</td>\n",
       "      <td>1847.00000</td>\n",
       "      <td>1501.00000</td>\n",
       "      <td>1973.00000</td>\n",
       "      <td>2170.00000</td>\n",
       "      <td>1134.00000</td>\n",
       "      <td>1098.00000</td>\n",
       "      <td>1162.00000</td>\n",
       "    </tr>\n",
       "    <tr>\n",
       "      <th>930</th>\n",
       "      <td>124800</td>\n",
       "      <td>163.00000</td>\n",
       "      <td>praha 3</td>\n",
       "      <td>4+kk</td>\n",
       "      <td>flat</td>\n",
       "      <td>1.00000</td>\n",
       "      <td>NaN</td>\n",
       "      <td>5.00000</td>\n",
       "      <td>Smíšená</td>\n",
       "      <td>Po rekonstrukci</td>\n",
       "      <td>Osobní</td>\n",
       "      <td>161.00000</td>\n",
       "      <td>True</td>\n",
       "      <td>658.00000</td>\n",
       "      <td>754.00000</td>\n",
       "      <td>619.00000</td>\n",
       "      <td>187.00000</td>\n",
       "      <td>231.00000</td>\n",
       "      <td>1075.00000</td>\n",
       "      <td>208.00000</td>\n",
       "      <td>187.00000</td>\n",
       "      <td>684.00000</td>\n",
       "      <td>675.00000</td>\n",
       "      <td>24.00000</td>\n",
       "      <td>100.00000</td>\n",
       "      <td>264.00000</td>\n",
       "      <td>744.00000</td>\n",
       "      <td>166.00000</td>\n",
       "      <td>174.00000</td>\n",
       "      <td>303.00000</td>\n",
       "      <td>64.00000</td>\n",
       "    </tr>\n",
       "    <tr>\n",
       "      <th>1433</th>\n",
       "      <td>110000</td>\n",
       "      <td>400.00000</td>\n",
       "      <td>praha 5</td>\n",
       "      <td>vila</td>\n",
       "      <td>house</td>\n",
       "      <td>0.00000</td>\n",
       "      <td>7.00000</td>\n",
       "      <td>NaN</td>\n",
       "      <td>Cihlová</td>\n",
       "      <td>Velmi dobrý</td>\n",
       "      <td>NaN</td>\n",
       "      <td>NaN</td>\n",
       "      <td>True</td>\n",
       "      <td>NaN</td>\n",
       "      <td>NaN</td>\n",
       "      <td>NaN</td>\n",
       "      <td>NaN</td>\n",
       "      <td>NaN</td>\n",
       "      <td>NaN</td>\n",
       "      <td>NaN</td>\n",
       "      <td>NaN</td>\n",
       "      <td>NaN</td>\n",
       "      <td>NaN</td>\n",
       "      <td>NaN</td>\n",
       "      <td>NaN</td>\n",
       "      <td>NaN</td>\n",
       "      <td>NaN</td>\n",
       "      <td>NaN</td>\n",
       "      <td>NaN</td>\n",
       "      <td>NaN</td>\n",
       "      <td>NaN</td>\n",
       "    </tr>\n",
       "    <tr>\n",
       "      <th>1909</th>\n",
       "      <td>139800</td>\n",
       "      <td>174.00000</td>\n",
       "      <td>praha 3</td>\n",
       "      <td>4+kk</td>\n",
       "      <td>flat</td>\n",
       "      <td>0.00000</td>\n",
       "      <td>7.00000</td>\n",
       "      <td>5.00000</td>\n",
       "      <td>Smíšená</td>\n",
       "      <td>Velmi dobrý</td>\n",
       "      <td>Osobní</td>\n",
       "      <td>161.00000</td>\n",
       "      <td>True</td>\n",
       "      <td>658.00000</td>\n",
       "      <td>754.00000</td>\n",
       "      <td>619.00000</td>\n",
       "      <td>187.00000</td>\n",
       "      <td>231.00000</td>\n",
       "      <td>1075.00000</td>\n",
       "      <td>208.00000</td>\n",
       "      <td>187.00000</td>\n",
       "      <td>684.00000</td>\n",
       "      <td>675.00000</td>\n",
       "      <td>24.00000</td>\n",
       "      <td>100.00000</td>\n",
       "      <td>264.00000</td>\n",
       "      <td>744.00000</td>\n",
       "      <td>166.00000</td>\n",
       "      <td>174.00000</td>\n",
       "      <td>303.00000</td>\n",
       "      <td>64.00000</td>\n",
       "    </tr>\n",
       "    <tr>\n",
       "      <th>2370</th>\n",
       "      <td>110000</td>\n",
       "      <td>360.00000</td>\n",
       "      <td>praha 6</td>\n",
       "      <td>rodinny</td>\n",
       "      <td>house</td>\n",
       "      <td>0.00000</td>\n",
       "      <td>NaN</td>\n",
       "      <td>3.00000</td>\n",
       "      <td>Cihlová</td>\n",
       "      <td>Velmi dobrý</td>\n",
       "      <td>NaN</td>\n",
       "      <td>1702.00000</td>\n",
       "      <td>NaN</td>\n",
       "      <td>1018.00000</td>\n",
       "      <td>3792.00000</td>\n",
       "      <td>2496.00000</td>\n",
       "      <td>1596.00000</td>\n",
       "      <td>1363.00000</td>\n",
       "      <td>1824.00000</td>\n",
       "      <td>1162.00000</td>\n",
       "      <td>1402.00000</td>\n",
       "      <td>872.00000</td>\n",
       "      <td>241.00000</td>\n",
       "      <td>574.00000</td>\n",
       "      <td>182.00000</td>\n",
       "      <td>1262.00000</td>\n",
       "      <td>2160.00000</td>\n",
       "      <td>1364.00000</td>\n",
       "      <td>745.00000</td>\n",
       "      <td>1145.00000</td>\n",
       "      <td>330.00000</td>\n",
       "    </tr>\n",
       "    <tr>\n",
       "      <th>2697</th>\n",
       "      <td>552500</td>\n",
       "      <td>65.00000</td>\n",
       "      <td>NaN</td>\n",
       "      <td>2+1</td>\n",
       "      <td>flat</td>\n",
       "      <td>0.00000</td>\n",
       "      <td>7.00000</td>\n",
       "      <td>2.00000</td>\n",
       "      <td>Cihlová</td>\n",
       "      <td>Velmi dobrý</td>\n",
       "      <td>Osobní</td>\n",
       "      <td>2100.00000</td>\n",
       "      <td>False</td>\n",
       "      <td>1854.00000</td>\n",
       "      <td>1350.00000</td>\n",
       "      <td>1545.00000</td>\n",
       "      <td>353.00000</td>\n",
       "      <td>872.00000</td>\n",
       "      <td>278.00000</td>\n",
       "      <td>643.00000</td>\n",
       "      <td>438.00000</td>\n",
       "      <td>847.00000</td>\n",
       "      <td>62.00000</td>\n",
       "      <td>453.00000</td>\n",
       "      <td>501.00000</td>\n",
       "      <td>180.00000</td>\n",
       "      <td>1000.00000</td>\n",
       "      <td>432.00000</td>\n",
       "      <td>102.00000</td>\n",
       "      <td>97.00000</td>\n",
       "      <td>239.00000</td>\n",
       "    </tr>\n",
       "    <tr>\n",
       "      <th>2909</th>\n",
       "      <td>160000</td>\n",
       "      <td>580.00000</td>\n",
       "      <td>praha 5</td>\n",
       "      <td>vila</td>\n",
       "      <td>house</td>\n",
       "      <td>0.50000</td>\n",
       "      <td>7.00000</td>\n",
       "      <td>NaN</td>\n",
       "      <td>Cihlová</td>\n",
       "      <td>Velmi dobrý</td>\n",
       "      <td>NaN</td>\n",
       "      <td>374.00000</td>\n",
       "      <td>True</td>\n",
       "      <td>986.00000</td>\n",
       "      <td>1787.00000</td>\n",
       "      <td>1863.00000</td>\n",
       "      <td>1822.00000</td>\n",
       "      <td>538.00000</td>\n",
       "      <td>1111.00000</td>\n",
       "      <td>579.00000</td>\n",
       "      <td>477.00000</td>\n",
       "      <td>755.00000</td>\n",
       "      <td>207.00000</td>\n",
       "      <td>402.00000</td>\n",
       "      <td>282.00000</td>\n",
       "      <td>457.00000</td>\n",
       "      <td>1849.00000</td>\n",
       "      <td>307.00000</td>\n",
       "      <td>451.00000</td>\n",
       "      <td>388.00000</td>\n",
       "      <td>382.00000</td>\n",
       "    </tr>\n",
       "    <tr>\n",
       "      <th>3017</th>\n",
       "      <td>110000</td>\n",
       "      <td>350.00000</td>\n",
       "      <td>NaN</td>\n",
       "      <td>rodinny</td>\n",
       "      <td>house</td>\n",
       "      <td>0.00000</td>\n",
       "      <td>7.00000</td>\n",
       "      <td>NaN</td>\n",
       "      <td>Cihlová</td>\n",
       "      <td>Dobrý</td>\n",
       "      <td>NaN</td>\n",
       "      <td>NaN</td>\n",
       "      <td>NaN</td>\n",
       "      <td>4307.00000</td>\n",
       "      <td>4307.00000</td>\n",
       "      <td>851.00000</td>\n",
       "      <td>885.00000</td>\n",
       "      <td>735.00000</td>\n",
       "      <td>4027.00000</td>\n",
       "      <td>214.00000</td>\n",
       "      <td>143.00000</td>\n",
       "      <td>368.00000</td>\n",
       "      <td>186.00000</td>\n",
       "      <td>170.00000</td>\n",
       "      <td>210.00000</td>\n",
       "      <td>290.00000</td>\n",
       "      <td>2243.00000</td>\n",
       "      <td>269.00000</td>\n",
       "      <td>144.00000</td>\n",
       "      <td>269.00000</td>\n",
       "      <td>309.00000</td>\n",
       "    </tr>\n",
       "  </tbody>\n",
       "</table>\n",
       "</div>"
      ],
      "text/plain": [
       "        price   area_m2 district disposition category  furnishing  efficiency  ...     school kindergarten        pub post_office  restaurant seven_eleven  playground\n",
       "14    2600000 200.00000      NaN         4+1     flat     1.00000     7.00000  ...  120.00000    257.00000  161.00000   484.00000   105.00000    224.00000   478.00000\n",
       "172    139800 176.00000  praha 3        4+kk     flat     1.00000         NaN  ...  100.00000    264.00000  744.00000   166.00000   174.00000    303.00000    64.00000\n",
       "810    130000 550.00000      NaN        vila    house     0.00000         NaN  ... 1847.00000   1501.00000 1973.00000  2170.00000  1134.00000   1098.00000  1162.00000\n",
       "930    124800 163.00000  praha 3        4+kk     flat     1.00000         NaN  ...  100.00000    264.00000  744.00000   166.00000   174.00000    303.00000    64.00000\n",
       "1433   110000 400.00000  praha 5        vila    house     0.00000     7.00000  ...        NaN          NaN        NaN         NaN         NaN          NaN         NaN\n",
       "1909   139800 174.00000  praha 3        4+kk     flat     0.00000     7.00000  ...  100.00000    264.00000  744.00000   166.00000   174.00000    303.00000    64.00000\n",
       "2370   110000 360.00000  praha 6     rodinny    house     0.00000         NaN  ...  182.00000   1262.00000 2160.00000  1364.00000   745.00000   1145.00000   330.00000\n",
       "2697   552500  65.00000      NaN         2+1     flat     0.00000     7.00000  ...  501.00000    180.00000 1000.00000   432.00000   102.00000     97.00000   239.00000\n",
       "2909   160000 580.00000  praha 5        vila    house     0.50000     7.00000  ...  282.00000    457.00000 1849.00000   307.00000   451.00000    388.00000   382.00000\n",
       "3017   110000 350.00000      NaN     rodinny    house     0.00000     7.00000  ...  210.00000    290.00000 2243.00000   269.00000   144.00000    269.00000   309.00000\n",
       "\n",
       "[10 rows x 31 columns]"
      ]
     },
     "execution_count": 33,
     "metadata": {},
     "output_type": "execute_result"
    }
   ],
   "source": [
    "rentals.loc[rentals.price > 100000, :].head(10)"
   ]
  },
  {
   "cell_type": "code",
   "execution_count": 28,
   "id": "73662947",
   "metadata": {},
   "outputs": [],
   "source": [
    "price_filtered = price[price < 100000]"
   ]
  },
  {
   "cell_type": "code",
   "execution_count": 29,
   "id": "760b210e",
   "metadata": {},
   "outputs": [
    {
     "name": "stderr",
     "output_type": "stream",
     "text": [
      "/Users/martin/opt/miniconda3/envs/estates/lib/python3.8/site-packages/seaborn/distributions.py:2557: FutureWarning: `distplot` is a deprecated function and will be removed in a future version. Please adapt your code to use either `displot` (a figure-level function with similar flexibility) or `histplot` (an axes-level function for histograms).\n",
      "  warnings.warn(msg, FutureWarning)\n"
     ]
    },
    {
     "data": {
      "text/plain": [
       "<AxesSubplot:xlabel='price', ylabel='Density'>"
      ]
     },
     "execution_count": 29,
     "metadata": {},
     "output_type": "execute_result"
    },
    {
     "data": {
      "image/png": "[encoded data removed]",
      "text/plain": [
       "<Figure size 432x288 with 1 Axes>"
      ]
     },
     "metadata": {
      "needs_background": "light"
     },
     "output_type": "display_data"
    }
   ],
   "source": [
    "sns.distplot(price_filtered)"
   ]
  },
  {
   "cell_type": "markdown",
   "id": "2f7b40bf",
   "metadata": {},
   "source": [
    "# Area"
   ]
  },
  {
   "cell_type": "code",
   "execution_count": 37,
   "id": "b324256c",
   "metadata": {},
   "outputs": [],
   "source": [
    "area = rentals.area_m2"
   ]
  },
  {
   "cell_type": "code",
   "execution_count": 143,
   "id": "62f718bd",
   "metadata": {},
   "outputs": [],
   "source": [
    "rentals = rentals.assign(area_m2_bins = pd.qcut(data.area_m2, 5))"
   ]
  },
  {
   "cell_type": "code",
   "execution_count": 41,
   "id": "80c77dcc",
   "metadata": {},
   "outputs": [
    {
     "data": {
      "text/plain": [
       "<seaborn.axisgrid.FacetGrid at 0x7ff4d77b8a30>"
      ]
     },
     "execution_count": 41,
     "metadata": {},
     "output_type": "execute_result"
    },
    {
     "data": {
      "image/png": "[encoded data removed]",
      "text/plain": [
       "<Figure size 360x360 with 1 Axes>"
      ]
     },
     "metadata": {
      "needs_background": "light"
     },
     "output_type": "display_data"
    }
   ],
   "source": [
    "sns.displot(area[area < 500])"
   ]
  },
  {
   "cell_type": "code",
   "execution_count": 42,
   "id": "778f44e6",
   "metadata": {},
   "outputs": [
    {
     "data": {
      "text/plain": [
       "20"
      ]
     },
     "execution_count": 42,
     "metadata": {},
     "output_type": "execute_result"
    }
   ],
   "source": [
    "area[area > 500].shape[0]"
   ]
  },
  {
   "cell_type": "code",
   "execution_count": 44,
   "id": "e7fe7867",
   "metadata": {},
   "outputs": [
    {
     "data": {
      "text/html": [
       "<div>\n",
       "<style scoped>\n",
       "    .dataframe tbody tr th:only-of-type {\n",
       "        vertical-align: middle;\n",
       "    }\n",
       "\n",
       "    .dataframe tbody tr th {\n",
       "        vertical-align: top;\n",
       "    }\n",
       "\n",
       "    .dataframe thead th {\n",
       "        text-align: right;\n",
       "    }\n",
       "</style>\n",
       "<table border=\"1\" class=\"dataframe\">\n",
       "  <thead>\n",
       "    <tr style=\"text-align: right;\">\n",
       "      <th></th>\n",
       "      <th>price</th>\n",
       "      <th>area_m2</th>\n",
       "      <th>district</th>\n",
       "      <th>disposition</th>\n",
       "      <th>category</th>\n",
       "      <th>furnishing</th>\n",
       "      <th>efficiency</th>\n",
       "      <th>floor</th>\n",
       "      <th>building_type</th>\n",
       "      <th>building_state</th>\n",
       "      <th>ownership</th>\n",
       "      <th>tram</th>\n",
       "      <th>elevator</th>\n",
       "      <th>theatre</th>\n",
       "      <th>cinema</th>\n",
       "      <th>groceries</th>\n",
       "      <th>candy_shop</th>\n",
       "      <th>veterinary</th>\n",
       "      <th>train</th>\n",
       "      <th>pharmacist</th>\n",
       "      <th>atm</th>\n",
       "      <th>sports</th>\n",
       "      <th>bus</th>\n",
       "      <th>doctors</th>\n",
       "      <th>school</th>\n",
       "      <th>kindergarten</th>\n",
       "      <th>pub</th>\n",
       "      <th>post_office</th>\n",
       "      <th>restaurant</th>\n",
       "      <th>seven_eleven</th>\n",
       "      <th>playground</th>\n",
       "    </tr>\n",
       "  </thead>\n",
       "  <tbody>\n",
       "    <tr>\n",
       "      <th>810</th>\n",
       "      <td>130000</td>\n",
       "      <td>550.00000</td>\n",
       "      <td>NaN</td>\n",
       "      <td>vila</td>\n",
       "      <td>house</td>\n",
       "      <td>0.00000</td>\n",
       "      <td>NaN</td>\n",
       "      <td>3.00000</td>\n",
       "      <td>Cihlová</td>\n",
       "      <td>Dobrý</td>\n",
       "      <td>NaN</td>\n",
       "      <td>NaN</td>\n",
       "      <td>NaN</td>\n",
       "      <td>NaN</td>\n",
       "      <td>4672.00000</td>\n",
       "      <td>2936.00000</td>\n",
       "      <td>2124.00000</td>\n",
       "      <td>2161.00000</td>\n",
       "      <td>5771.00000</td>\n",
       "      <td>2106.00000</td>\n",
       "      <td>2185.00000</td>\n",
       "      <td>1043.00000</td>\n",
       "      <td>207.00000</td>\n",
       "      <td>1139.00000</td>\n",
       "      <td>1847.00000</td>\n",
       "      <td>1501.00000</td>\n",
       "      <td>1973.00000</td>\n",
       "      <td>2170.00000</td>\n",
       "      <td>1134.00000</td>\n",
       "      <td>1098.00000</td>\n",
       "      <td>1162.00000</td>\n",
       "    </tr>\n",
       "    <tr>\n",
       "      <th>1704</th>\n",
       "      <td>100000</td>\n",
       "      <td>520.00000</td>\n",
       "      <td>praha 5</td>\n",
       "      <td>rodinny</td>\n",
       "      <td>house</td>\n",
       "      <td>NaN</td>\n",
       "      <td>7.00000</td>\n",
       "      <td>4.00000</td>\n",
       "      <td>Cihlová</td>\n",
       "      <td>Velmi dobrý</td>\n",
       "      <td>NaN</td>\n",
       "      <td>263.00000</td>\n",
       "      <td>NaN</td>\n",
       "      <td>1268.00000</td>\n",
       "      <td>2159.00000</td>\n",
       "      <td>2192.00000</td>\n",
       "      <td>1436.00000</td>\n",
       "      <td>1089.00000</td>\n",
       "      <td>1092.00000</td>\n",
       "      <td>322.00000</td>\n",
       "      <td>297.00000</td>\n",
       "      <td>192.00000</td>\n",
       "      <td>145.00000</td>\n",
       "      <td>212.00000</td>\n",
       "      <td>227.00000</td>\n",
       "      <td>266.00000</td>\n",
       "      <td>397.00000</td>\n",
       "      <td>401.00000</td>\n",
       "      <td>272.00000</td>\n",
       "      <td>293.00000</td>\n",
       "      <td>189.00000</td>\n",
       "    </tr>\n",
       "    <tr>\n",
       "      <th>2909</th>\n",
       "      <td>160000</td>\n",
       "      <td>580.00000</td>\n",
       "      <td>praha 5</td>\n",
       "      <td>vila</td>\n",
       "      <td>house</td>\n",
       "      <td>0.50000</td>\n",
       "      <td>7.00000</td>\n",
       "      <td>NaN</td>\n",
       "      <td>Cihlová</td>\n",
       "      <td>Velmi dobrý</td>\n",
       "      <td>NaN</td>\n",
       "      <td>374.00000</td>\n",
       "      <td>True</td>\n",
       "      <td>986.00000</td>\n",
       "      <td>1787.00000</td>\n",
       "      <td>1863.00000</td>\n",
       "      <td>1822.00000</td>\n",
       "      <td>538.00000</td>\n",
       "      <td>1111.00000</td>\n",
       "      <td>579.00000</td>\n",
       "      <td>477.00000</td>\n",
       "      <td>755.00000</td>\n",
       "      <td>207.00000</td>\n",
       "      <td>402.00000</td>\n",
       "      <td>282.00000</td>\n",
       "      <td>457.00000</td>\n",
       "      <td>1849.00000</td>\n",
       "      <td>307.00000</td>\n",
       "      <td>451.00000</td>\n",
       "      <td>388.00000</td>\n",
       "      <td>382.00000</td>\n",
       "    </tr>\n",
       "    <tr>\n",
       "      <th>3467</th>\n",
       "      <td>150000</td>\n",
       "      <td>526.00000</td>\n",
       "      <td>praha 5</td>\n",
       "      <td>rodinny</td>\n",
       "      <td>house</td>\n",
       "      <td>0.00000</td>\n",
       "      <td>7.00000</td>\n",
       "      <td>5.00000</td>\n",
       "      <td>Cihlová</td>\n",
       "      <td>Velmi dobrý</td>\n",
       "      <td>NaN</td>\n",
       "      <td>NaN</td>\n",
       "      <td>False</td>\n",
       "      <td>NaN</td>\n",
       "      <td>NaN</td>\n",
       "      <td>NaN</td>\n",
       "      <td>NaN</td>\n",
       "      <td>NaN</td>\n",
       "      <td>NaN</td>\n",
       "      <td>NaN</td>\n",
       "      <td>NaN</td>\n",
       "      <td>NaN</td>\n",
       "      <td>NaN</td>\n",
       "      <td>NaN</td>\n",
       "      <td>NaN</td>\n",
       "      <td>NaN</td>\n",
       "      <td>NaN</td>\n",
       "      <td>NaN</td>\n",
       "      <td>NaN</td>\n",
       "      <td>NaN</td>\n",
       "      <td>NaN</td>\n",
       "    </tr>\n",
       "    <tr>\n",
       "      <th>3572</th>\n",
       "      <td>100000</td>\n",
       "      <td>502.00000</td>\n",
       "      <td>praha 5</td>\n",
       "      <td>vila</td>\n",
       "      <td>house</td>\n",
       "      <td>NaN</td>\n",
       "      <td>NaN</td>\n",
       "      <td>NaN</td>\n",
       "      <td>Cihlová</td>\n",
       "      <td>Velmi dobrý</td>\n",
       "      <td>NaN</td>\n",
       "      <td>133.00000</td>\n",
       "      <td>NaN</td>\n",
       "      <td>302.00000</td>\n",
       "      <td>245.00000</td>\n",
       "      <td>371.00000</td>\n",
       "      <td>349.00000</td>\n",
       "      <td>885.00000</td>\n",
       "      <td>1293.00000</td>\n",
       "      <td>315.00000</td>\n",
       "      <td>96.00000</td>\n",
       "      <td>96.00000</td>\n",
       "      <td>120.00000</td>\n",
       "      <td>315.00000</td>\n",
       "      <td>29.00000</td>\n",
       "      <td>598.00000</td>\n",
       "      <td>566.00000</td>\n",
       "      <td>43.00000</td>\n",
       "      <td>96.00000</td>\n",
       "      <td>187.00000</td>\n",
       "      <td>382.00000</td>\n",
       "    </tr>\n",
       "    <tr>\n",
       "      <th>6385</th>\n",
       "      <td>350000</td>\n",
       "      <td>600.00000</td>\n",
       "      <td>NaN</td>\n",
       "      <td>NaN</td>\n",
       "      <td>house</td>\n",
       "      <td>1.00000</td>\n",
       "      <td>NaN</td>\n",
       "      <td>3.00000</td>\n",
       "      <td>Cihlová</td>\n",
       "      <td>Velmi dobrý</td>\n",
       "      <td>NaN</td>\n",
       "      <td>NaN</td>\n",
       "      <td>NaN</td>\n",
       "      <td>NaN</td>\n",
       "      <td>NaN</td>\n",
       "      <td>3192.00000</td>\n",
       "      <td>2031.00000</td>\n",
       "      <td>863.00000</td>\n",
       "      <td>452.00000</td>\n",
       "      <td>2161.00000</td>\n",
       "      <td>2031.00000</td>\n",
       "      <td>1352.00000</td>\n",
       "      <td>112.00000</td>\n",
       "      <td>64.00000</td>\n",
       "      <td>12.00000</td>\n",
       "      <td>64.00000</td>\n",
       "      <td>3135.00000</td>\n",
       "      <td>586.00000</td>\n",
       "      <td>412.00000</td>\n",
       "      <td>563.00000</td>\n",
       "      <td>225.00000</td>\n",
       "    </tr>\n",
       "    <tr>\n",
       "      <th>26974</th>\n",
       "      <td>130000</td>\n",
       "      <td>550.00000</td>\n",
       "      <td>NaN</td>\n",
       "      <td>rodinny</td>\n",
       "      <td>house</td>\n",
       "      <td>0.00000</td>\n",
       "      <td>3.00000</td>\n",
       "      <td>3.00000</td>\n",
       "      <td>Cihlová</td>\n",
       "      <td>Velmi dobrý</td>\n",
       "      <td>NaN</td>\n",
       "      <td>NaN</td>\n",
       "      <td>NaN</td>\n",
       "      <td>4911.00000</td>\n",
       "      <td>4911.00000</td>\n",
       "      <td>1692.00000</td>\n",
       "      <td>1715.00000</td>\n",
       "      <td>1426.00000</td>\n",
       "      <td>4454.00000</td>\n",
       "      <td>979.00000</td>\n",
       "      <td>1008.00000</td>\n",
       "      <td>709.00000</td>\n",
       "      <td>18.00000</td>\n",
       "      <td>979.00000</td>\n",
       "      <td>589.00000</td>\n",
       "      <td>597.00000</td>\n",
       "      <td>2403.00000</td>\n",
       "      <td>1055.00000</td>\n",
       "      <td>417.00000</td>\n",
       "      <td>1055.00000</td>\n",
       "      <td>448.00000</td>\n",
       "    </tr>\n",
       "    <tr>\n",
       "      <th>27198</th>\n",
       "      <td>75000</td>\n",
       "      <td>528.00000</td>\n",
       "      <td>praha 10</td>\n",
       "      <td>rodinny</td>\n",
       "      <td>house</td>\n",
       "      <td>0.50000</td>\n",
       "      <td>3.00000</td>\n",
       "      <td>2.00000</td>\n",
       "      <td>Cihlová</td>\n",
       "      <td>Novostavba</td>\n",
       "      <td>NaN</td>\n",
       "      <td>1998.00000</td>\n",
       "      <td>NaN</td>\n",
       "      <td>2858.00000</td>\n",
       "      <td>4000.00000</td>\n",
       "      <td>1249.00000</td>\n",
       "      <td>1087.00000</td>\n",
       "      <td>1774.00000</td>\n",
       "      <td>1537.00000</td>\n",
       "      <td>1286.00000</td>\n",
       "      <td>1265.00000</td>\n",
       "      <td>801.00000</td>\n",
       "      <td>123.00000</td>\n",
       "      <td>1328.00000</td>\n",
       "      <td>852.00000</td>\n",
       "      <td>466.00000</td>\n",
       "      <td>1250.00000</td>\n",
       "      <td>1367.00000</td>\n",
       "      <td>664.00000</td>\n",
       "      <td>1038.00000</td>\n",
       "      <td>648.00000</td>\n",
       "    </tr>\n",
       "    <tr>\n",
       "      <th>27674</th>\n",
       "      <td>185000</td>\n",
       "      <td>1000.00000</td>\n",
       "      <td>praha 5</td>\n",
       "      <td>vila</td>\n",
       "      <td>house</td>\n",
       "      <td>NaN</td>\n",
       "      <td>NaN</td>\n",
       "      <td>4.00000</td>\n",
       "      <td>Cihlová</td>\n",
       "      <td>Velmi dobrý</td>\n",
       "      <td>NaN</td>\n",
       "      <td>494.00000</td>\n",
       "      <td>NaN</td>\n",
       "      <td>865.00000</td>\n",
       "      <td>2989.00000</td>\n",
       "      <td>2479.00000</td>\n",
       "      <td>810.00000</td>\n",
       "      <td>725.00000</td>\n",
       "      <td>772.00000</td>\n",
       "      <td>759.00000</td>\n",
       "      <td>774.00000</td>\n",
       "      <td>316.00000</td>\n",
       "      <td>111.00000</td>\n",
       "      <td>1739.00000</td>\n",
       "      <td>740.00000</td>\n",
       "      <td>775.00000</td>\n",
       "      <td>934.00000</td>\n",
       "      <td>775.00000</td>\n",
       "      <td>441.00000</td>\n",
       "      <td>837.00000</td>\n",
       "      <td>596.00000</td>\n",
       "    </tr>\n",
       "    <tr>\n",
       "      <th>30919</th>\n",
       "      <td>160000</td>\n",
       "      <td>580.00000</td>\n",
       "      <td>praha 5</td>\n",
       "      <td>vila</td>\n",
       "      <td>house</td>\n",
       "      <td>0.50000</td>\n",
       "      <td>7.00000</td>\n",
       "      <td>NaN</td>\n",
       "      <td>Cihlová</td>\n",
       "      <td>Velmi dobrý</td>\n",
       "      <td>NaN</td>\n",
       "      <td>NaN</td>\n",
       "      <td>True</td>\n",
       "      <td>NaN</td>\n",
       "      <td>NaN</td>\n",
       "      <td>NaN</td>\n",
       "      <td>NaN</td>\n",
       "      <td>NaN</td>\n",
       "      <td>NaN</td>\n",
       "      <td>NaN</td>\n",
       "      <td>NaN</td>\n",
       "      <td>NaN</td>\n",
       "      <td>NaN</td>\n",
       "      <td>NaN</td>\n",
       "      <td>NaN</td>\n",
       "      <td>NaN</td>\n",
       "      <td>NaN</td>\n",
       "      <td>NaN</td>\n",
       "      <td>NaN</td>\n",
       "      <td>NaN</td>\n",
       "      <td>NaN</td>\n",
       "    </tr>\n",
       "  </tbody>\n",
       "</table>\n",
       "</div>"
      ],
      "text/plain": [
       "        price    area_m2  district disposition category  furnishing  efficiency  ...     school kindergarten        pub post_office  restaurant seven_eleven  playground\n",
       "810    130000  550.00000       NaN        vila    house     0.00000         NaN  ... 1847.00000   1501.00000 1973.00000  2170.00000  1134.00000   1098.00000  1162.00000\n",
       "1704   100000  520.00000   praha 5     rodinny    house         NaN     7.00000  ...  227.00000    266.00000  397.00000   401.00000   272.00000    293.00000   189.00000\n",
       "2909   160000  580.00000   praha 5        vila    house     0.50000     7.00000  ...  282.00000    457.00000 1849.00000   307.00000   451.00000    388.00000   382.00000\n",
       "3467   150000  526.00000   praha 5     rodinny    house     0.00000     7.00000  ...        NaN          NaN        NaN         NaN         NaN          NaN         NaN\n",
       "3572   100000  502.00000   praha 5        vila    house         NaN         NaN  ...   29.00000    598.00000  566.00000    43.00000    96.00000    187.00000   382.00000\n",
       "6385   350000  600.00000       NaN         NaN    house     1.00000         NaN  ...   12.00000     64.00000 3135.00000   586.00000   412.00000    563.00000   225.00000\n",
       "26974  130000  550.00000       NaN     rodinny    house     0.00000     3.00000  ...  589.00000    597.00000 2403.00000  1055.00000   417.00000   1055.00000   448.00000\n",
       "27198   75000  528.00000  praha 10     rodinny    house     0.50000     3.00000  ...  852.00000    466.00000 1250.00000  1367.00000   664.00000   1038.00000   648.00000\n",
       "27674  185000 1000.00000   praha 5        vila    house         NaN         NaN  ...  740.00000    775.00000  934.00000   775.00000   441.00000    837.00000   596.00000\n",
       "30919  160000  580.00000   praha 5        vila    house     0.50000     7.00000  ...        NaN          NaN        NaN         NaN         NaN          NaN         NaN\n",
       "\n",
       "[10 rows x 31 columns]"
      ]
     },
     "execution_count": 44,
     "metadata": {},
     "output_type": "execute_result"
    }
   ],
   "source": [
    "rentals[rentals.area_m2 > 500].head(10)"
   ]
  },
  {
   "cell_type": "code",
   "execution_count": 46,
   "id": "ffb6cd3a",
   "metadata": {},
   "outputs": [
    {
     "data": {
      "text/plain": [
       "count   12844.00000\n",
       "mean       67.83736\n",
       "std       153.78677\n",
       "min         1.00000\n",
       "25%        40.00000\n",
       "50%        54.00000\n",
       "75%        75.00000\n",
       "90%       110.00000\n",
       "99%       288.00000\n",
       "max     15746.00000\n",
       "Name: area_m2, dtype: float64"
      ]
     },
     "execution_count": 46,
     "metadata": {},
     "output_type": "execute_result"
    }
   ],
   "source": [
    "area.describe(percentiles=[.25, 0.5, .75, .9, .99])"
   ]
  },
  {
   "cell_type": "code",
   "execution_count": 85,
   "id": "8f396e3c",
   "metadata": {},
   "outputs": [
    {
     "data": {
      "text/plain": [
       "1"
      ]
     },
     "execution_count": 85,
     "metadata": {},
     "output_type": "execute_result"
    }
   ],
   "source": [
    "area.isna().sum()"
   ]
  },
  {
   "cell_type": "code",
   "execution_count": 90,
   "id": "a2f3671d",
   "metadata": {},
   "outputs": [
    {
     "data": {
      "text/html": [
       "<div>\n",
       "<style scoped>\n",
       "    .dataframe tbody tr th:only-of-type {\n",
       "        vertical-align: middle;\n",
       "    }\n",
       "\n",
       "    .dataframe tbody tr th {\n",
       "        vertical-align: top;\n",
       "    }\n",
       "\n",
       "    .dataframe thead th {\n",
       "        text-align: right;\n",
       "    }\n",
       "</style>\n",
       "<table border=\"1\" class=\"dataframe\">\n",
       "  <thead>\n",
       "    <tr style=\"text-align: right;\">\n",
       "      <th></th>\n",
       "      <th>price</th>\n",
       "      <th>area_m2</th>\n",
       "      <th>district</th>\n",
       "      <th>disposition</th>\n",
       "      <th>category</th>\n",
       "      <th>furnishing</th>\n",
       "      <th>efficiency</th>\n",
       "      <th>floor</th>\n",
       "      <th>building_type</th>\n",
       "      <th>building_state</th>\n",
       "      <th>ownership</th>\n",
       "      <th>tram</th>\n",
       "      <th>elevator</th>\n",
       "      <th>theatre</th>\n",
       "      <th>cinema</th>\n",
       "      <th>groceries</th>\n",
       "      <th>candy_shop</th>\n",
       "      <th>veterinary</th>\n",
       "      <th>train</th>\n",
       "      <th>pharmacist</th>\n",
       "      <th>atm</th>\n",
       "      <th>sports</th>\n",
       "      <th>bus</th>\n",
       "      <th>doctors</th>\n",
       "      <th>school</th>\n",
       "      <th>kindergarten</th>\n",
       "      <th>pub</th>\n",
       "      <th>post_office</th>\n",
       "      <th>restaurant</th>\n",
       "      <th>seven_eleven</th>\n",
       "      <th>playground</th>\n",
       "    </tr>\n",
       "  </thead>\n",
       "  <tbody>\n",
       "    <tr>\n",
       "      <th>35987</th>\n",
       "      <td>15000</td>\n",
       "      <td>NaN</td>\n",
       "      <td>NaN</td>\n",
       "      <td>1+kk</td>\n",
       "      <td>flat</td>\n",
       "      <td>NaN</td>\n",
       "      <td>NaN</td>\n",
       "      <td>3.00000</td>\n",
       "      <td>Cihlová</td>\n",
       "      <td>Novostavba</td>\n",
       "      <td>Osobní</td>\n",
       "      <td>NaN</td>\n",
       "      <td>NaN</td>\n",
       "      <td>1777.00000</td>\n",
       "      <td>756.00000</td>\n",
       "      <td>923.00000</td>\n",
       "      <td>746.00000</td>\n",
       "      <td>513.00000</td>\n",
       "      <td>557.00000</td>\n",
       "      <td>697.00000</td>\n",
       "      <td>589.00000</td>\n",
       "      <td>429.00000</td>\n",
       "      <td>601.00000</td>\n",
       "      <td>543.00000</td>\n",
       "      <td>679.00000</td>\n",
       "      <td>446.00000</td>\n",
       "      <td>689.00000</td>\n",
       "      <td>1034.00000</td>\n",
       "      <td>365.00000</td>\n",
       "      <td>836.00000</td>\n",
       "      <td>546.00000</td>\n",
       "    </tr>\n",
       "  </tbody>\n",
       "</table>\n",
       "</div>"
      ],
      "text/plain": [
       "       price  area_m2 district disposition category  furnishing  efficiency  ...    school kindergarten       pub post_office  restaurant seven_eleven  playground\n",
       "35987  15000      NaN      NaN        1+kk     flat         NaN         NaN  ... 679.00000    446.00000 689.00000  1034.00000   365.00000    836.00000   546.00000\n",
       "\n",
       "[1 rows x 31 columns]"
      ]
     },
     "execution_count": 90,
     "metadata": {},
     "output_type": "execute_result"
    }
   ],
   "source": [
    "rentals[rentals.area_m2.isna()]"
   ]
  },
  {
   "cell_type": "markdown",
   "id": "7d968b68",
   "metadata": {},
   "source": [
    "# District"
   ]
  },
  {
   "cell_type": "code",
   "execution_count": 47,
   "id": "918e344b",
   "metadata": {},
   "outputs": [],
   "source": [
    "district = rentals.district"
   ]
  },
  {
   "cell_type": "code",
   "execution_count": 48,
   "id": "9eaef188",
   "metadata": {},
   "outputs": [
    {
     "data": {
      "text/plain": [
       "praha 5             1223\n",
       "brno-mesto          1167\n",
       "praha 4             1090\n",
       "praha 3              872\n",
       "praha 2              866\n",
       "praha 1              859\n",
       "praha 10             839\n",
       "praha 6              683\n",
       "praha 9              555\n",
       "praha 8              486\n",
       "ostrava-mesto        403\n",
       "plzen-mesto          400\n",
       "praha 7              320\n",
       "olomouc              270\n",
       "karvina              200\n",
       "ceske budejovice     135\n",
       "hradec kralove       110\n",
       "pardubice             98\n",
       "Name: district, dtype: int64"
      ]
     },
     "execution_count": 48,
     "metadata": {},
     "output_type": "execute_result"
    }
   ],
   "source": [
    "district.value_counts()"
   ]
  },
  {
   "cell_type": "code",
   "execution_count": 49,
   "id": "c229d091",
   "metadata": {},
   "outputs": [
    {
     "data": {
      "text/plain": [
       "2269"
      ]
     },
     "execution_count": 49,
     "metadata": {},
     "output_type": "execute_result"
    }
   ],
   "source": [
    "district.isna().sum()"
   ]
  },
  {
   "cell_type": "markdown",
   "id": "2e73d672",
   "metadata": {},
   "source": [
    "# Disposition"
   ]
  },
  {
   "cell_type": "code",
   "execution_count": 193,
   "id": "2d469194",
   "metadata": {},
   "outputs": [
    {
     "data": {
      "text/plain": [
       "2+kk        3435\n",
       "1+kk        2531\n",
       "2+1         1879\n",
       "3+kk        1366\n",
       "1+1         1216\n",
       "3+1         1100\n",
       "4+kk         380\n",
       "rodinny      285\n",
       "4+1          280\n",
       "ostatni       88\n",
       "5+kk          71\n",
       "vila          67\n",
       "5+1           61\n",
       "6 a vice      33\n",
       "atypicky      32\n",
       "chata         17\n",
       "chalupa        4\n",
       "Name: disposition, dtype: int64"
      ]
     },
     "execution_count": 193,
     "metadata": {},
     "output_type": "execute_result"
    }
   ],
   "source": [
    "rentals.disposition.value_counts()"
   ]
  },
  {
   "cell_type": "code",
   "execution_count": 52,
   "id": "56132d2f",
   "metadata": {},
   "outputs": [
    {
     "data": {
      "text/plain": [
       "88"
      ]
     },
     "execution_count": 52,
     "metadata": {},
     "output_type": "execute_result"
    }
   ],
   "source": [
    "rentals.disposition.isna().sum()"
   ]
  },
  {
   "cell_type": "code",
   "execution_count": 194,
   "id": "8b2f2576",
   "metadata": {},
   "outputs": [],
   "source": [
    "rentals.disposition = rentals.disposition.fillna('ostatni')"
   ]
  },
  {
   "cell_type": "code",
   "execution_count": 199,
   "id": "45848c84",
   "metadata": {},
   "outputs": [
    {
     "data": {
      "text/plain": [
       "disposition\n",
       "1+1         38.00000\n",
       "1+kk        31.00000\n",
       "2+1         57.00000\n",
       "2+kk        51.00000\n",
       "3+1         79.00000\n",
       "3+kk        81.00000\n",
       "4+1        130.00000\n",
       "4+kk       120.00000\n",
       "5+1        190.00000\n",
       "5+kk       178.00000\n",
       "6 a vice   230.00000\n",
       "atypicky    86.00000\n",
       "chalupa    120.00000\n",
       "chata       50.00000\n",
       "ostatni     20.00000\n",
       "rodinny    208.00000\n",
       "vila       320.00000\n",
       "Name: area_m2, dtype: float64"
      ]
     },
     "execution_count": 199,
     "metadata": {},
     "output_type": "execute_result"
    }
   ],
   "source": [
    "rentals.groupby('disposition')['area_m2'].median()"
   ]
  },
  {
   "cell_type": "markdown",
   "id": "b49628c9",
   "metadata": {},
   "source": [
    "# Category"
   ]
  },
  {
   "cell_type": "code",
   "execution_count": 53,
   "id": "f6db23a6",
   "metadata": {},
   "outputs": [
    {
     "data": {
      "text/plain": [
       "flat     12470\n",
       "house      375\n",
       "Name: category, dtype: int64"
      ]
     },
     "execution_count": 53,
     "metadata": {},
     "output_type": "execute_result"
    }
   ],
   "source": [
    "rentals.category.value_counts()"
   ]
  },
  {
   "cell_type": "code",
   "execution_count": 54,
   "id": "11d26fb3",
   "metadata": {},
   "outputs": [
    {
     "data": {
      "text/plain": [
       "0"
      ]
     },
     "execution_count": 54,
     "metadata": {},
     "output_type": "execute_result"
    }
   ],
   "source": [
    "rentals.category.isna().sum()"
   ]
  },
  {
   "cell_type": "markdown",
   "id": "60bfd209",
   "metadata": {},
   "source": [
    "# Furnishing"
   ]
  },
  {
   "cell_type": "code",
   "execution_count": 58,
   "id": "e5f5339c",
   "metadata": {},
   "outputs": [
    {
     "data": {
      "text/plain": [
       "1.00000    3722\n",
       "0.00000    2887\n",
       "0.50000    2721\n",
       "Name: furnishing, dtype: int64"
      ]
     },
     "execution_count": 58,
     "metadata": {},
     "output_type": "execute_result"
    }
   ],
   "source": [
    "rentals.furnishing.value_counts()"
   ]
  },
  {
   "cell_type": "code",
   "execution_count": 59,
   "id": "9a85c65f",
   "metadata": {},
   "outputs": [
    {
     "data": {
      "text/plain": [
       "3515"
      ]
     },
     "execution_count": 59,
     "metadata": {},
     "output_type": "execute_result"
    }
   ],
   "source": [
    "rentals.furnishing.isna().sum()"
   ]
  },
  {
   "cell_type": "code",
   "execution_count": 93,
   "id": "5f71d13b",
   "metadata": {},
   "outputs": [
    {
     "data": {
      "text/html": [
       "<div>\n",
       "<style scoped>\n",
       "    .dataframe tbody tr th:only-of-type {\n",
       "        vertical-align: middle;\n",
       "    }\n",
       "\n",
       "    .dataframe tbody tr th {\n",
       "        vertical-align: top;\n",
       "    }\n",
       "\n",
       "    .dataframe thead th {\n",
       "        text-align: right;\n",
       "    }\n",
       "</style>\n",
       "<table border=\"1\" class=\"dataframe\">\n",
       "  <thead>\n",
       "    <tr style=\"text-align: right;\">\n",
       "      <th></th>\n",
       "      <th>price</th>\n",
       "      <th>area_m2</th>\n",
       "      <th>district</th>\n",
       "      <th>disposition</th>\n",
       "      <th>category</th>\n",
       "      <th>furnishing</th>\n",
       "      <th>efficiency</th>\n",
       "      <th>floor</th>\n",
       "      <th>building_type</th>\n",
       "      <th>building_state</th>\n",
       "      <th>ownership</th>\n",
       "      <th>tram</th>\n",
       "      <th>elevator</th>\n",
       "      <th>theatre</th>\n",
       "      <th>cinema</th>\n",
       "      <th>groceries</th>\n",
       "      <th>candy_shop</th>\n",
       "      <th>veterinary</th>\n",
       "      <th>train</th>\n",
       "      <th>pharmacist</th>\n",
       "      <th>atm</th>\n",
       "      <th>sports</th>\n",
       "      <th>bus</th>\n",
       "      <th>doctors</th>\n",
       "      <th>school</th>\n",
       "      <th>kindergarten</th>\n",
       "      <th>pub</th>\n",
       "      <th>post_office</th>\n",
       "      <th>restaurant</th>\n",
       "      <th>seven_eleven</th>\n",
       "      <th>playground</th>\n",
       "    </tr>\n",
       "  </thead>\n",
       "  <tbody>\n",
       "    <tr>\n",
       "      <th>1</th>\n",
       "      <td>11200</td>\n",
       "      <td>30.00000</td>\n",
       "      <td>brno-mesto</td>\n",
       "      <td>1+kk</td>\n",
       "      <td>flat</td>\n",
       "      <td>NaN</td>\n",
       "      <td>NaN</td>\n",
       "      <td>3.00000</td>\n",
       "      <td>Cihlová</td>\n",
       "      <td>Velmi dobrý</td>\n",
       "      <td>Osobní</td>\n",
       "      <td>NaN</td>\n",
       "      <td>True</td>\n",
       "      <td>NaN</td>\n",
       "      <td>NaN</td>\n",
       "      <td>NaN</td>\n",
       "      <td>NaN</td>\n",
       "      <td>NaN</td>\n",
       "      <td>NaN</td>\n",
       "      <td>NaN</td>\n",
       "      <td>NaN</td>\n",
       "      <td>NaN</td>\n",
       "      <td>NaN</td>\n",
       "      <td>NaN</td>\n",
       "      <td>NaN</td>\n",
       "      <td>NaN</td>\n",
       "      <td>NaN</td>\n",
       "      <td>NaN</td>\n",
       "      <td>NaN</td>\n",
       "      <td>NaN</td>\n",
       "      <td>NaN</td>\n",
       "    </tr>\n",
       "    <tr>\n",
       "      <th>4</th>\n",
       "      <td>7950</td>\n",
       "      <td>55.00000</td>\n",
       "      <td>ostrava-mesto</td>\n",
       "      <td>2+1</td>\n",
       "      <td>flat</td>\n",
       "      <td>NaN</td>\n",
       "      <td>5.00000</td>\n",
       "      <td>3.00000</td>\n",
       "      <td>Cihlová</td>\n",
       "      <td>Po rekonstrukci</td>\n",
       "      <td>Osobní</td>\n",
       "      <td>505.00000</td>\n",
       "      <td>NaN</td>\n",
       "      <td>1864.00000</td>\n",
       "      <td>4338.00000</td>\n",
       "      <td>1324.00000</td>\n",
       "      <td>254.00000</td>\n",
       "      <td>318.00000</td>\n",
       "      <td>2514.00000</td>\n",
       "      <td>222.00000</td>\n",
       "      <td>211.00000</td>\n",
       "      <td>575.00000</td>\n",
       "      <td>232.00000</td>\n",
       "      <td>254.00000</td>\n",
       "      <td>192.00000</td>\n",
       "      <td>266.00000</td>\n",
       "      <td>175.00000</td>\n",
       "      <td>490.00000</td>\n",
       "      <td>241.00000</td>\n",
       "      <td>280.00000</td>\n",
       "      <td>317.00000</td>\n",
       "    </tr>\n",
       "    <tr>\n",
       "      <th>5</th>\n",
       "      <td>3450</td>\n",
       "      <td>28.00000</td>\n",
       "      <td>karvina</td>\n",
       "      <td>1+1</td>\n",
       "      <td>flat</td>\n",
       "      <td>NaN</td>\n",
       "      <td>5.00000</td>\n",
       "      <td>2.00000</td>\n",
       "      <td>Cihlová</td>\n",
       "      <td>Dobrý</td>\n",
       "      <td>Osobní</td>\n",
       "      <td>NaN</td>\n",
       "      <td>NaN</td>\n",
       "      <td>NaN</td>\n",
       "      <td>1211.00000</td>\n",
       "      <td>738.00000</td>\n",
       "      <td>1048.00000</td>\n",
       "      <td>342.00000</td>\n",
       "      <td>356.00000</td>\n",
       "      <td>272.00000</td>\n",
       "      <td>244.00000</td>\n",
       "      <td>82.00000</td>\n",
       "      <td>112.00000</td>\n",
       "      <td>272.00000</td>\n",
       "      <td>133.00000</td>\n",
       "      <td>293.00000</td>\n",
       "      <td>144.00000</td>\n",
       "      <td>430.00000</td>\n",
       "      <td>538.00000</td>\n",
       "      <td>174.00000</td>\n",
       "      <td>1246.00000</td>\n",
       "    </tr>\n",
       "    <tr>\n",
       "      <th>6</th>\n",
       "      <td>6000</td>\n",
       "      <td>56.00000</td>\n",
       "      <td>karvina</td>\n",
       "      <td>2+1</td>\n",
       "      <td>flat</td>\n",
       "      <td>NaN</td>\n",
       "      <td>5.00000</td>\n",
       "      <td>4.00000</td>\n",
       "      <td>Cihlová</td>\n",
       "      <td>Dobrý</td>\n",
       "      <td>Osobní</td>\n",
       "      <td>NaN</td>\n",
       "      <td>NaN</td>\n",
       "      <td>NaN</td>\n",
       "      <td>231.00000</td>\n",
       "      <td>456.00000</td>\n",
       "      <td>231.00000</td>\n",
       "      <td>199.00000</td>\n",
       "      <td>1439.00000</td>\n",
       "      <td>234.00000</td>\n",
       "      <td>338.00000</td>\n",
       "      <td>464.00000</td>\n",
       "      <td>294.00000</td>\n",
       "      <td>193.00000</td>\n",
       "      <td>640.00000</td>\n",
       "      <td>114.00000</td>\n",
       "      <td>199.00000</td>\n",
       "      <td>426.00000</td>\n",
       "      <td>231.00000</td>\n",
       "      <td>292.00000</td>\n",
       "      <td>284.00000</td>\n",
       "    </tr>\n",
       "    <tr>\n",
       "      <th>9</th>\n",
       "      <td>9900</td>\n",
       "      <td>102.00000</td>\n",
       "      <td>plzen-mesto</td>\n",
       "      <td>3+kk</td>\n",
       "      <td>flat</td>\n",
       "      <td>NaN</td>\n",
       "      <td>7.00000</td>\n",
       "      <td>4.00000</td>\n",
       "      <td>Cihlová</td>\n",
       "      <td>Velmi dobrý</td>\n",
       "      <td>Osobní</td>\n",
       "      <td>24.00000</td>\n",
       "      <td>NaN</td>\n",
       "      <td>377.00000</td>\n",
       "      <td>1102.00000</td>\n",
       "      <td>1047.00000</td>\n",
       "      <td>394.00000</td>\n",
       "      <td>425.00000</td>\n",
       "      <td>339.00000</td>\n",
       "      <td>73.00000</td>\n",
       "      <td>169.00000</td>\n",
       "      <td>562.00000</td>\n",
       "      <td>54.00000</td>\n",
       "      <td>106.00000</td>\n",
       "      <td>275.00000</td>\n",
       "      <td>182.00000</td>\n",
       "      <td>117.00000</td>\n",
       "      <td>63.00000</td>\n",
       "      <td>16.00000</td>\n",
       "      <td>63.00000</td>\n",
       "      <td>334.00000</td>\n",
       "    </tr>\n",
       "    <tr>\n",
       "      <th>65</th>\n",
       "      <td>10000</td>\n",
       "      <td>36.00000</td>\n",
       "      <td>brno-mesto</td>\n",
       "      <td>1+kk</td>\n",
       "      <td>flat</td>\n",
       "      <td>NaN</td>\n",
       "      <td>7.00000</td>\n",
       "      <td>3.00000</td>\n",
       "      <td>Cihlová</td>\n",
       "      <td>Velmi dobrý</td>\n",
       "      <td>Osobní</td>\n",
       "      <td>NaN</td>\n",
       "      <td>NaN</td>\n",
       "      <td>NaN</td>\n",
       "      <td>NaN</td>\n",
       "      <td>NaN</td>\n",
       "      <td>NaN</td>\n",
       "      <td>NaN</td>\n",
       "      <td>NaN</td>\n",
       "      <td>NaN</td>\n",
       "      <td>NaN</td>\n",
       "      <td>NaN</td>\n",
       "      <td>NaN</td>\n",
       "      <td>NaN</td>\n",
       "      <td>NaN</td>\n",
       "      <td>NaN</td>\n",
       "      <td>NaN</td>\n",
       "      <td>NaN</td>\n",
       "      <td>NaN</td>\n",
       "      <td>NaN</td>\n",
       "      <td>NaN</td>\n",
       "    </tr>\n",
       "    <tr>\n",
       "      <th>75</th>\n",
       "      <td>19000</td>\n",
       "      <td>50.00000</td>\n",
       "      <td>praha 1</td>\n",
       "      <td>2+kk</td>\n",
       "      <td>flat</td>\n",
       "      <td>NaN</td>\n",
       "      <td>7.00000</td>\n",
       "      <td>6.00000</td>\n",
       "      <td>Cihlová</td>\n",
       "      <td>Po rekonstrukci</td>\n",
       "      <td>Osobní</td>\n",
       "      <td>187.00000</td>\n",
       "      <td>NaN</td>\n",
       "      <td>319.00000</td>\n",
       "      <td>693.00000</td>\n",
       "      <td>639.00000</td>\n",
       "      <td>161.00000</td>\n",
       "      <td>624.00000</td>\n",
       "      <td>1066.00000</td>\n",
       "      <td>303.00000</td>\n",
       "      <td>334.00000</td>\n",
       "      <td>327.00000</td>\n",
       "      <td>105.00000</td>\n",
       "      <td>568.00000</td>\n",
       "      <td>106.00000</td>\n",
       "      <td>33.00000</td>\n",
       "      <td>783.00000</td>\n",
       "      <td>280.00000</td>\n",
       "      <td>18.00000</td>\n",
       "      <td>576.00000</td>\n",
       "      <td>457.00000</td>\n",
       "    </tr>\n",
       "    <tr>\n",
       "      <th>77</th>\n",
       "      <td>9500</td>\n",
       "      <td>29.00000</td>\n",
       "      <td>praha 7</td>\n",
       "      <td>1+kk</td>\n",
       "      <td>flat</td>\n",
       "      <td>NaN</td>\n",
       "      <td>7.00000</td>\n",
       "      <td>4.00000</td>\n",
       "      <td>Cihlová</td>\n",
       "      <td>Dobrý</td>\n",
       "      <td>Osobní</td>\n",
       "      <td>221.00000</td>\n",
       "      <td>NaN</td>\n",
       "      <td>297.00000</td>\n",
       "      <td>381.00000</td>\n",
       "      <td>1491.00000</td>\n",
       "      <td>335.00000</td>\n",
       "      <td>272.00000</td>\n",
       "      <td>803.00000</td>\n",
       "      <td>240.00000</td>\n",
       "      <td>387.00000</td>\n",
       "      <td>379.00000</td>\n",
       "      <td>180.00000</td>\n",
       "      <td>424.00000</td>\n",
       "      <td>44.00000</td>\n",
       "      <td>428.00000</td>\n",
       "      <td>493.00000</td>\n",
       "      <td>464.00000</td>\n",
       "      <td>289.00000</td>\n",
       "      <td>103.00000</td>\n",
       "      <td>320.00000</td>\n",
       "    </tr>\n",
       "    <tr>\n",
       "      <th>89</th>\n",
       "      <td>21000</td>\n",
       "      <td>55.00000</td>\n",
       "      <td>praha 1</td>\n",
       "      <td>3+kk</td>\n",
       "      <td>flat</td>\n",
       "      <td>NaN</td>\n",
       "      <td>5.00000</td>\n",
       "      <td>3.00000</td>\n",
       "      <td>Cihlová</td>\n",
       "      <td>Po rekonstrukci</td>\n",
       "      <td>Osobní</td>\n",
       "      <td>NaN</td>\n",
       "      <td>NaN</td>\n",
       "      <td>NaN</td>\n",
       "      <td>NaN</td>\n",
       "      <td>NaN</td>\n",
       "      <td>NaN</td>\n",
       "      <td>NaN</td>\n",
       "      <td>NaN</td>\n",
       "      <td>NaN</td>\n",
       "      <td>NaN</td>\n",
       "      <td>NaN</td>\n",
       "      <td>NaN</td>\n",
       "      <td>NaN</td>\n",
       "      <td>NaN</td>\n",
       "      <td>NaN</td>\n",
       "      <td>NaN</td>\n",
       "      <td>NaN</td>\n",
       "      <td>NaN</td>\n",
       "      <td>NaN</td>\n",
       "      <td>NaN</td>\n",
       "    </tr>\n",
       "    <tr>\n",
       "      <th>99</th>\n",
       "      <td>16900</td>\n",
       "      <td>40.00000</td>\n",
       "      <td>praha 4</td>\n",
       "      <td>2+kk</td>\n",
       "      <td>flat</td>\n",
       "      <td>NaN</td>\n",
       "      <td>1.00000</td>\n",
       "      <td>1.00000</td>\n",
       "      <td>Smíšená</td>\n",
       "      <td>Novostavba</td>\n",
       "      <td>Osobní</td>\n",
       "      <td>NaN</td>\n",
       "      <td>True</td>\n",
       "      <td>NaN</td>\n",
       "      <td>NaN</td>\n",
       "      <td>NaN</td>\n",
       "      <td>NaN</td>\n",
       "      <td>NaN</td>\n",
       "      <td>NaN</td>\n",
       "      <td>NaN</td>\n",
       "      <td>NaN</td>\n",
       "      <td>NaN</td>\n",
       "      <td>NaN</td>\n",
       "      <td>NaN</td>\n",
       "      <td>NaN</td>\n",
       "      <td>NaN</td>\n",
       "      <td>NaN</td>\n",
       "      <td>NaN</td>\n",
       "      <td>NaN</td>\n",
       "      <td>NaN</td>\n",
       "      <td>NaN</td>\n",
       "    </tr>\n",
       "  </tbody>\n",
       "</table>\n",
       "</div>"
      ],
      "text/plain": [
       "    price   area_m2       district disposition category  furnishing  efficiency  ...    school kindergarten       pub post_office  restaurant seven_eleven  playground\n",
       "1   11200  30.00000     brno-mesto        1+kk     flat         NaN         NaN  ...       NaN          NaN       NaN         NaN         NaN          NaN         NaN\n",
       "4    7950  55.00000  ostrava-mesto         2+1     flat         NaN     5.00000  ... 192.00000    266.00000 175.00000   490.00000   241.00000    280.00000   317.00000\n",
       "5    3450  28.00000        karvina         1+1     flat         NaN     5.00000  ... 133.00000    293.00000 144.00000   430.00000   538.00000    174.00000  1246.00000\n",
       "6    6000  56.00000        karvina         2+1     flat         NaN     5.00000  ... 640.00000    114.00000 199.00000   426.00000   231.00000    292.00000   284.00000\n",
       "9    9900 102.00000    plzen-mesto        3+kk     flat         NaN     7.00000  ... 275.00000    182.00000 117.00000    63.00000    16.00000     63.00000   334.00000\n",
       "65  10000  36.00000     brno-mesto        1+kk     flat         NaN     7.00000  ...       NaN          NaN       NaN         NaN         NaN          NaN         NaN\n",
       "75  19000  50.00000        praha 1        2+kk     flat         NaN     7.00000  ... 106.00000     33.00000 783.00000   280.00000    18.00000    576.00000   457.00000\n",
       "77   9500  29.00000        praha 7        1+kk     flat         NaN     7.00000  ...  44.00000    428.00000 493.00000   464.00000   289.00000    103.00000   320.00000\n",
       "89  21000  55.00000        praha 1        3+kk     flat         NaN     5.00000  ...       NaN          NaN       NaN         NaN         NaN          NaN         NaN\n",
       "99  16900  40.00000        praha 4        2+kk     flat         NaN     1.00000  ...       NaN          NaN       NaN         NaN         NaN          NaN         NaN\n",
       "\n",
       "[10 rows x 31 columns]"
      ]
     },
     "execution_count": 93,
     "metadata": {},
     "output_type": "execute_result"
    }
   ],
   "source": [
    "rentals[rentals.furnishing.isna()].head(10)"
   ]
  },
  {
   "cell_type": "markdown",
   "id": "1594b991",
   "metadata": {},
   "source": [
    "# Efficiency"
   ]
  },
  {
   "cell_type": "code",
   "execution_count": 60,
   "id": "93cf2b2a",
   "metadata": {},
   "outputs": [
    {
     "data": {
      "text/plain": [
       "count   10585.00000\n",
       "mean        5.72064\n",
       "std         1.90513\n",
       "min         1.00000\n",
       "25%         4.00000\n",
       "50%         7.00000\n",
       "75%         7.00000\n",
       "max         7.00000\n",
       "Name: efficiency, dtype: float64"
      ]
     },
     "execution_count": 60,
     "metadata": {},
     "output_type": "execute_result"
    }
   ],
   "source": [
    "rentals.efficiency.describe()"
   ]
  },
  {
   "cell_type": "code",
   "execution_count": 65,
   "id": "5a67cb3c",
   "metadata": {},
   "outputs": [
    {
     "data": {
      "text/plain": [
       "<AxesSubplot:>"
      ]
     },
     "execution_count": 65,
     "metadata": {},
     "output_type": "execute_result"
    },
    {
     "data": {
      "image/png": "[encoded data removed]",
      "text/plain": [
       "<Figure size 432x288 with 1 Axes>"
      ]
     },
     "metadata": {
      "needs_background": "light"
     },
     "output_type": "display_data"
    }
   ],
   "source": [
    "rentals.efficiency.value_counts().plot(kind='bar')"
   ]
  },
  {
   "cell_type": "code",
   "execution_count": 86,
   "id": "209e214e",
   "metadata": {},
   "outputs": [
    {
     "data": {
      "text/plain": [
       "2260"
      ]
     },
     "execution_count": 86,
     "metadata": {},
     "output_type": "execute_result"
    }
   ],
   "source": [
    "rentals.efficiency.isna().sum()"
   ]
  },
  {
   "cell_type": "code",
   "execution_count": 145,
   "id": "8d344320",
   "metadata": {},
   "outputs": [
    {
     "data": {
      "text/plain": [
       "7.0"
      ]
     },
     "execution_count": 145,
     "metadata": {},
     "output_type": "execute_result"
    }
   ],
   "source": [
    "rentals.efficiency.median()"
   ]
  },
  {
   "cell_type": "markdown",
   "id": "ece34c32",
   "metadata": {},
   "source": [
    "# Floor"
   ]
  },
  {
   "cell_type": "code",
   "execution_count": 66,
   "id": "01563645",
   "metadata": {},
   "outputs": [
    {
     "data": {
      "text/plain": [
       "count   12722.00000\n",
       "mean        3.27032\n",
       "std         2.10030\n",
       "min        -1.00000\n",
       "25%         2.00000\n",
       "50%         3.00000\n",
       "75%         4.00000\n",
       "max        20.00000\n",
       "Name: floor, dtype: float64"
      ]
     },
     "execution_count": 66,
     "metadata": {},
     "output_type": "execute_result"
    }
   ],
   "source": [
    "rentals.floor.describe()"
   ]
  },
  {
   "cell_type": "code",
   "execution_count": 67,
   "id": "228db822",
   "metadata": {},
   "outputs": [
    {
     "data": {
      "text/plain": [
       "<AxesSubplot:>"
      ]
     },
     "execution_count": 67,
     "metadata": {},
     "output_type": "execute_result"
    },
    {
     "data": {
      "image/png": "[encoded data removed]",
      "text/plain": [
       "<Figure size 432x288 with 1 Axes>"
      ]
     },
     "metadata": {
      "needs_background": "light"
     },
     "output_type": "display_data"
    }
   ],
   "source": [
    "rentals.floor.value_counts().plot(kind='bar')"
   ]
  },
  {
   "cell_type": "code",
   "execution_count": 87,
   "id": "04112be2",
   "metadata": {},
   "outputs": [
    {
     "data": {
      "text/plain": [
       "123"
      ]
     },
     "execution_count": 87,
     "metadata": {},
     "output_type": "execute_result"
    }
   ],
   "source": [
    "rentals.floor.isna().sum()"
   ]
  },
  {
   "cell_type": "code",
   "execution_count": 92,
   "id": "374b8f64",
   "metadata": {},
   "outputs": [
    {
     "data": {
      "text/html": [
       "<div>\n",
       "<style scoped>\n",
       "    .dataframe tbody tr th:only-of-type {\n",
       "        vertical-align: middle;\n",
       "    }\n",
       "\n",
       "    .dataframe tbody tr th {\n",
       "        vertical-align: top;\n",
       "    }\n",
       "\n",
       "    .dataframe thead th {\n",
       "        text-align: right;\n",
       "    }\n",
       "</style>\n",
       "<table border=\"1\" class=\"dataframe\">\n",
       "  <thead>\n",
       "    <tr style=\"text-align: right;\">\n",
       "      <th></th>\n",
       "      <th>price</th>\n",
       "      <th>area_m2</th>\n",
       "      <th>district</th>\n",
       "      <th>disposition</th>\n",
       "      <th>category</th>\n",
       "      <th>furnishing</th>\n",
       "      <th>efficiency</th>\n",
       "      <th>floor</th>\n",
       "      <th>building_type</th>\n",
       "      <th>building_state</th>\n",
       "      <th>ownership</th>\n",
       "      <th>tram</th>\n",
       "      <th>elevator</th>\n",
       "      <th>theatre</th>\n",
       "      <th>cinema</th>\n",
       "      <th>groceries</th>\n",
       "      <th>candy_shop</th>\n",
       "      <th>veterinary</th>\n",
       "      <th>train</th>\n",
       "      <th>pharmacist</th>\n",
       "      <th>atm</th>\n",
       "      <th>sports</th>\n",
       "      <th>bus</th>\n",
       "      <th>doctors</th>\n",
       "      <th>school</th>\n",
       "      <th>kindergarten</th>\n",
       "      <th>pub</th>\n",
       "      <th>post_office</th>\n",
       "      <th>restaurant</th>\n",
       "      <th>seven_eleven</th>\n",
       "      <th>playground</th>\n",
       "    </tr>\n",
       "  </thead>\n",
       "  <tbody>\n",
       "    <tr>\n",
       "      <th>24833</th>\n",
       "      <td>85000</td>\n",
       "      <td>288.00000</td>\n",
       "      <td>praha 6</td>\n",
       "      <td>rodinny</td>\n",
       "      <td>house</td>\n",
       "      <td>0.00000</td>\n",
       "      <td>7.00000</td>\n",
       "      <td>NaN</td>\n",
       "      <td>Cihlová</td>\n",
       "      <td>Velmi dobrý</td>\n",
       "      <td>NaN</td>\n",
       "      <td>2043.00000</td>\n",
       "      <td>NaN</td>\n",
       "      <td>570.00000</td>\n",
       "      <td>4319.00000</td>\n",
       "      <td>2773.00000</td>\n",
       "      <td>2040.00000</td>\n",
       "      <td>839.00000</td>\n",
       "      <td>2119.00000</td>\n",
       "      <td>649.00000</td>\n",
       "      <td>868.00000</td>\n",
       "      <td>373.00000</td>\n",
       "      <td>318.00000</td>\n",
       "      <td>90.00000</td>\n",
       "      <td>493.00000</td>\n",
       "      <td>836.00000</td>\n",
       "      <td>1896.00000</td>\n",
       "      <td>839.00000</td>\n",
       "      <td>472.00000</td>\n",
       "      <td>873.00000</td>\n",
       "      <td>289.00000</td>\n",
       "    </tr>\n",
       "    <tr>\n",
       "      <th>42666</th>\n",
       "      <td>65000</td>\n",
       "      <td>417.00000</td>\n",
       "      <td>praha 4</td>\n",
       "      <td>rodinny</td>\n",
       "      <td>house</td>\n",
       "      <td>1.00000</td>\n",
       "      <td>2.00000</td>\n",
       "      <td>NaN</td>\n",
       "      <td>Cihlová</td>\n",
       "      <td>Velmi dobrý</td>\n",
       "      <td>NaN</td>\n",
       "      <td>3530.00000</td>\n",
       "      <td>NaN</td>\n",
       "      <td>4021.00000</td>\n",
       "      <td>1272.00000</td>\n",
       "      <td>784.00000</td>\n",
       "      <td>677.00000</td>\n",
       "      <td>1882.00000</td>\n",
       "      <td>3170.00000</td>\n",
       "      <td>395.00000</td>\n",
       "      <td>243.00000</td>\n",
       "      <td>326.00000</td>\n",
       "      <td>384.00000</td>\n",
       "      <td>240.00000</td>\n",
       "      <td>183.00000</td>\n",
       "      <td>395.00000</td>\n",
       "      <td>668.00000</td>\n",
       "      <td>670.00000</td>\n",
       "      <td>331.00000</td>\n",
       "      <td>347.00000</td>\n",
       "      <td>135.00000</td>\n",
       "    </tr>\n",
       "    <tr>\n",
       "      <th>2909</th>\n",
       "      <td>160000</td>\n",
       "      <td>580.00000</td>\n",
       "      <td>praha 5</td>\n",
       "      <td>vila</td>\n",
       "      <td>house</td>\n",
       "      <td>0.50000</td>\n",
       "      <td>7.00000</td>\n",
       "      <td>NaN</td>\n",
       "      <td>Cihlová</td>\n",
       "      <td>Velmi dobrý</td>\n",
       "      <td>NaN</td>\n",
       "      <td>374.00000</td>\n",
       "      <td>True</td>\n",
       "      <td>986.00000</td>\n",
       "      <td>1787.00000</td>\n",
       "      <td>1863.00000</td>\n",
       "      <td>1822.00000</td>\n",
       "      <td>538.00000</td>\n",
       "      <td>1111.00000</td>\n",
       "      <td>579.00000</td>\n",
       "      <td>477.00000</td>\n",
       "      <td>755.00000</td>\n",
       "      <td>207.00000</td>\n",
       "      <td>402.00000</td>\n",
       "      <td>282.00000</td>\n",
       "      <td>457.00000</td>\n",
       "      <td>1849.00000</td>\n",
       "      <td>307.00000</td>\n",
       "      <td>451.00000</td>\n",
       "      <td>388.00000</td>\n",
       "      <td>382.00000</td>\n",
       "    </tr>\n",
       "    <tr>\n",
       "      <th>33287</th>\n",
       "      <td>89000</td>\n",
       "      <td>350.00000</td>\n",
       "      <td>NaN</td>\n",
       "      <td>rodinny</td>\n",
       "      <td>house</td>\n",
       "      <td>0.00000</td>\n",
       "      <td>NaN</td>\n",
       "      <td>NaN</td>\n",
       "      <td>Cihlová</td>\n",
       "      <td>Velmi dobrý</td>\n",
       "      <td>NaN</td>\n",
       "      <td>NaN</td>\n",
       "      <td>NaN</td>\n",
       "      <td>4416.00000</td>\n",
       "      <td>4416.00000</td>\n",
       "      <td>899.00000</td>\n",
       "      <td>1014.00000</td>\n",
       "      <td>674.00000</td>\n",
       "      <td>4280.00000</td>\n",
       "      <td>952.00000</td>\n",
       "      <td>892.00000</td>\n",
       "      <td>787.00000</td>\n",
       "      <td>637.00000</td>\n",
       "      <td>1148.00000</td>\n",
       "      <td>1072.00000</td>\n",
       "      <td>617.00000</td>\n",
       "      <td>1380.00000</td>\n",
       "      <td>1076.00000</td>\n",
       "      <td>617.00000</td>\n",
       "      <td>1076.00000</td>\n",
       "      <td>1324.00000</td>\n",
       "    </tr>\n",
       "    <tr>\n",
       "      <th>743</th>\n",
       "      <td>60000</td>\n",
       "      <td>165.00000</td>\n",
       "      <td>praha 5</td>\n",
       "      <td>rodinny</td>\n",
       "      <td>house</td>\n",
       "      <td>0.00000</td>\n",
       "      <td>2.00000</td>\n",
       "      <td>NaN</td>\n",
       "      <td>Smíšená</td>\n",
       "      <td>Novostavba</td>\n",
       "      <td>NaN</td>\n",
       "      <td>1744.00000</td>\n",
       "      <td>NaN</td>\n",
       "      <td>1502.00000</td>\n",
       "      <td>1185.00000</td>\n",
       "      <td>360.00000</td>\n",
       "      <td>343.00000</td>\n",
       "      <td>1432.00000</td>\n",
       "      <td>1681.00000</td>\n",
       "      <td>537.00000</td>\n",
       "      <td>310.00000</td>\n",
       "      <td>893.00000</td>\n",
       "      <td>349.00000</td>\n",
       "      <td>950.00000</td>\n",
       "      <td>513.00000</td>\n",
       "      <td>513.00000</td>\n",
       "      <td>716.00000</td>\n",
       "      <td>538.00000</td>\n",
       "      <td>310.00000</td>\n",
       "      <td>257.00000</td>\n",
       "      <td>152.00000</td>\n",
       "    </tr>\n",
       "    <tr>\n",
       "      <th>25795</th>\n",
       "      <td>15000</td>\n",
       "      <td>55.00000</td>\n",
       "      <td>NaN</td>\n",
       "      <td>rodinny</td>\n",
       "      <td>house</td>\n",
       "      <td>0.50000</td>\n",
       "      <td>7.00000</td>\n",
       "      <td>NaN</td>\n",
       "      <td>Cihlová</td>\n",
       "      <td>Dobrý</td>\n",
       "      <td>NaN</td>\n",
       "      <td>2813.00000</td>\n",
       "      <td>NaN</td>\n",
       "      <td>NaN</td>\n",
       "      <td>NaN</td>\n",
       "      <td>2585.00000</td>\n",
       "      <td>2596.00000</td>\n",
       "      <td>187.00000</td>\n",
       "      <td>800.00000</td>\n",
       "      <td>1499.00000</td>\n",
       "      <td>2011.00000</td>\n",
       "      <td>375.00000</td>\n",
       "      <td>107.00000</td>\n",
       "      <td>1252.00000</td>\n",
       "      <td>445.00000</td>\n",
       "      <td>445.00000</td>\n",
       "      <td>815.00000</td>\n",
       "      <td>445.00000</td>\n",
       "      <td>375.00000</td>\n",
       "      <td>285.00000</td>\n",
       "      <td>781.00000</td>\n",
       "    </tr>\n",
       "    <tr>\n",
       "      <th>12352</th>\n",
       "      <td>55000</td>\n",
       "      <td>300.00000</td>\n",
       "      <td>praha 5</td>\n",
       "      <td>rodinny</td>\n",
       "      <td>house</td>\n",
       "      <td>0.00000</td>\n",
       "      <td>7.00000</td>\n",
       "      <td>NaN</td>\n",
       "      <td>Cihlová</td>\n",
       "      <td>Dobrý</td>\n",
       "      <td>NaN</td>\n",
       "      <td>396.00000</td>\n",
       "      <td>False</td>\n",
       "      <td>2425.00000</td>\n",
       "      <td>2634.00000</td>\n",
       "      <td>1340.00000</td>\n",
       "      <td>551.00000</td>\n",
       "      <td>677.00000</td>\n",
       "      <td>1723.00000</td>\n",
       "      <td>1128.00000</td>\n",
       "      <td>343.00000</td>\n",
       "      <td>1171.00000</td>\n",
       "      <td>334.00000</td>\n",
       "      <td>1137.00000</td>\n",
       "      <td>702.00000</td>\n",
       "      <td>123.00000</td>\n",
       "      <td>470.00000</td>\n",
       "      <td>950.00000</td>\n",
       "      <td>228.00000</td>\n",
       "      <td>846.00000</td>\n",
       "      <td>402.00000</td>\n",
       "    </tr>\n",
       "    <tr>\n",
       "      <th>43259</th>\n",
       "      <td>65000</td>\n",
       "      <td>340.00000</td>\n",
       "      <td>praha 5</td>\n",
       "      <td>rodinny</td>\n",
       "      <td>house</td>\n",
       "      <td>0.00000</td>\n",
       "      <td>7.00000</td>\n",
       "      <td>NaN</td>\n",
       "      <td>Cihlová</td>\n",
       "      <td>Velmi dobrý</td>\n",
       "      <td>NaN</td>\n",
       "      <td>572.00000</td>\n",
       "      <td>NaN</td>\n",
       "      <td>973.00000</td>\n",
       "      <td>1845.00000</td>\n",
       "      <td>1849.00000</td>\n",
       "      <td>1330.00000</td>\n",
       "      <td>980.00000</td>\n",
       "      <td>1580.00000</td>\n",
       "      <td>795.00000</td>\n",
       "      <td>724.00000</td>\n",
       "      <td>427.00000</td>\n",
       "      <td>192.00000</td>\n",
       "      <td>500.00000</td>\n",
       "      <td>274.00000</td>\n",
       "      <td>53.00000</td>\n",
       "      <td>997.00000</td>\n",
       "      <td>593.00000</td>\n",
       "      <td>436.00000</td>\n",
       "      <td>589.00000</td>\n",
       "      <td>27.00000</td>\n",
       "    </tr>\n",
       "    <tr>\n",
       "      <th>30919</th>\n",
       "      <td>160000</td>\n",
       "      <td>580.00000</td>\n",
       "      <td>praha 5</td>\n",
       "      <td>vila</td>\n",
       "      <td>house</td>\n",
       "      <td>0.50000</td>\n",
       "      <td>7.00000</td>\n",
       "      <td>NaN</td>\n",
       "      <td>Cihlová</td>\n",
       "      <td>Velmi dobrý</td>\n",
       "      <td>NaN</td>\n",
       "      <td>NaN</td>\n",
       "      <td>True</td>\n",
       "      <td>NaN</td>\n",
       "      <td>NaN</td>\n",
       "      <td>NaN</td>\n",
       "      <td>NaN</td>\n",
       "      <td>NaN</td>\n",
       "      <td>NaN</td>\n",
       "      <td>NaN</td>\n",
       "      <td>NaN</td>\n",
       "      <td>NaN</td>\n",
       "      <td>NaN</td>\n",
       "      <td>NaN</td>\n",
       "      <td>NaN</td>\n",
       "      <td>NaN</td>\n",
       "      <td>NaN</td>\n",
       "      <td>NaN</td>\n",
       "      <td>NaN</td>\n",
       "      <td>NaN</td>\n",
       "      <td>NaN</td>\n",
       "    </tr>\n",
       "    <tr>\n",
       "      <th>52871</th>\n",
       "      <td>75000</td>\n",
       "      <td>200.00000</td>\n",
       "      <td>praha 6</td>\n",
       "      <td>vila</td>\n",
       "      <td>house</td>\n",
       "      <td>0.00000</td>\n",
       "      <td>4.00000</td>\n",
       "      <td>NaN</td>\n",
       "      <td>Cihlová</td>\n",
       "      <td>Po rekonstrukci</td>\n",
       "      <td>NaN</td>\n",
       "      <td>105.00000</td>\n",
       "      <td>NaN</td>\n",
       "      <td>681.00000</td>\n",
       "      <td>2426.00000</td>\n",
       "      <td>2314.00000</td>\n",
       "      <td>591.00000</td>\n",
       "      <td>925.00000</td>\n",
       "      <td>1295.00000</td>\n",
       "      <td>1075.00000</td>\n",
       "      <td>692.00000</td>\n",
       "      <td>201.00000</td>\n",
       "      <td>99.00000</td>\n",
       "      <td>77.00000</td>\n",
       "      <td>440.00000</td>\n",
       "      <td>450.00000</td>\n",
       "      <td>742.00000</td>\n",
       "      <td>427.00000</td>\n",
       "      <td>255.00000</td>\n",
       "      <td>1012.00000</td>\n",
       "      <td>262.00000</td>\n",
       "    </tr>\n",
       "  </tbody>\n",
       "</table>\n",
       "</div>"
      ],
      "text/plain": [
       "        price   area_m2 district disposition category  furnishing  efficiency  ...     school kindergarten        pub post_office  restaurant seven_eleven  playground\n",
       "24833   85000 288.00000  praha 6     rodinny    house     0.00000     7.00000  ...  493.00000    836.00000 1896.00000   839.00000   472.00000    873.00000   289.00000\n",
       "42666   65000 417.00000  praha 4     rodinny    house     1.00000     2.00000  ...  183.00000    395.00000  668.00000   670.00000   331.00000    347.00000   135.00000\n",
       "2909   160000 580.00000  praha 5        vila    house     0.50000     7.00000  ...  282.00000    457.00000 1849.00000   307.00000   451.00000    388.00000   382.00000\n",
       "33287   89000 350.00000      NaN     rodinny    house     0.00000         NaN  ... 1072.00000    617.00000 1380.00000  1076.00000   617.00000   1076.00000  1324.00000\n",
       "743     60000 165.00000  praha 5     rodinny    house     0.00000     2.00000  ...  513.00000    513.00000  716.00000   538.00000   310.00000    257.00000   152.00000\n",
       "25795   15000  55.00000      NaN     rodinny    house     0.50000     7.00000  ...  445.00000    445.00000  815.00000   445.00000   375.00000    285.00000   781.00000\n",
       "12352   55000 300.00000  praha 5     rodinny    house     0.00000     7.00000  ...  702.00000    123.00000  470.00000   950.00000   228.00000    846.00000   402.00000\n",
       "43259   65000 340.00000  praha 5     rodinny    house     0.00000     7.00000  ...  274.00000     53.00000  997.00000   593.00000   436.00000    589.00000    27.00000\n",
       "30919  160000 580.00000  praha 5        vila    house     0.50000     7.00000  ...        NaN          NaN        NaN         NaN         NaN          NaN         NaN\n",
       "52871   75000 200.00000  praha 6        vila    house     0.00000     4.00000  ...  440.00000    450.00000  742.00000   427.00000   255.00000   1012.00000   262.00000\n",
       "\n",
       "[10 rows x 31 columns]"
      ]
     },
     "execution_count": 92,
     "metadata": {},
     "output_type": "execute_result"
    }
   ],
   "source": [
    "rentals[rentals.floor.isna()].sample(10)"
   ]
  },
  {
   "cell_type": "markdown",
   "id": "0ba5cc6b",
   "metadata": {},
   "source": [
    "# Building_type"
   ]
  },
  {
   "cell_type": "code",
   "execution_count": 71,
   "id": "1327ef20",
   "metadata": {},
   "outputs": [
    {
     "data": {
      "text/plain": [
       "Cihlová      9391\n",
       "Panelová     2089\n",
       "Smíšená      1003\n",
       "Skeletová     299\n",
       "Dřevěná        26\n",
       "Kamenná        23\n",
       "Montovaná      14\n",
       "Name: building_type, dtype: int64"
      ]
     },
     "execution_count": 71,
     "metadata": {},
     "output_type": "execute_result"
    }
   ],
   "source": [
    "rentals.building_type.value_counts()"
   ]
  },
  {
   "cell_type": "code",
   "execution_count": 72,
   "id": "b9a6d410",
   "metadata": {},
   "outputs": [
    {
     "data": {
      "text/plain": [
       "0"
      ]
     },
     "execution_count": 72,
     "metadata": {},
     "output_type": "execute_result"
    }
   ],
   "source": [
    "rentals.building_type.isna().sum()"
   ]
  },
  {
   "cell_type": "markdown",
   "id": "40ac45cc",
   "metadata": {},
   "source": [
    "# Building_state"
   ]
  },
  {
   "cell_type": "code",
   "execution_count": 12,
   "id": "adcda18f",
   "metadata": {},
   "outputs": [
    {
     "data": {
      "text/plain": [
       "Velmi dobrý          6675\n",
       "Po rekonstrukci      2545\n",
       "Dobrý                1818\n",
       "Novostavba           1761\n",
       "Před rekonstrukcí      18\n",
       "Špatný                  5\n",
       "K demolici              4\n",
       "Ve výstavbě             1\n",
       "Projekt                 1\n",
       "Name: building_state, dtype: int64"
      ]
     },
     "execution_count": 12,
     "metadata": {},
     "output_type": "execute_result"
    }
   ],
   "source": [
    "df.building_state.value_counts()"
   ]
  },
  {
   "cell_type": "code",
   "execution_count": 74,
   "id": "d22e58c0",
   "metadata": {},
   "outputs": [
    {
     "data": {
      "text/plain": [
       "0"
      ]
     },
     "execution_count": 74,
     "metadata": {},
     "output_type": "execute_result"
    }
   ],
   "source": [
    "rentals.building_state.isna().sum()"
   ]
  },
  {
   "cell_type": "markdown",
   "id": "54029593",
   "metadata": {},
   "source": [
    "# Ownership"
   ]
  },
  {
   "cell_type": "code",
   "execution_count": 75,
   "id": "ec3c5185",
   "metadata": {},
   "outputs": [
    {
     "data": {
      "text/plain": [
       "Osobní           11912\n",
       "Družstevní         470\n",
       "Státní/obecní       88\n",
       "Name: ownership, dtype: int64"
      ]
     },
     "execution_count": 75,
     "metadata": {},
     "output_type": "execute_result"
    }
   ],
   "source": [
    "rentals.ownership.value_counts()"
   ]
  },
  {
   "cell_type": "code",
   "execution_count": 76,
   "id": "1667a6f9",
   "metadata": {
    "scrolled": true
   },
   "outputs": [
    {
     "data": {
      "text/plain": [
       "375"
      ]
     },
     "execution_count": 76,
     "metadata": {},
     "output_type": "execute_result"
    }
   ],
   "source": [
    "rentals.ownership.isna().sum()"
   ]
  },
  {
   "cell_type": "markdown",
   "id": "16f46cf0",
   "metadata": {},
   "source": [
    "# Elevator"
   ]
  },
  {
   "cell_type": "code",
   "execution_count": 84,
   "id": "9f2679e4",
   "metadata": {},
   "outputs": [
    {
     "data": {
      "text/plain": [
       "True     6152\n",
       "False    2611\n",
       "Name: elevator, dtype: int64"
      ]
     },
     "execution_count": 84,
     "metadata": {},
     "output_type": "execute_result"
    }
   ],
   "source": [
    "rentals.elevator.value_counts()"
   ]
  },
  {
   "cell_type": "code",
   "execution_count": 88,
   "id": "accd2842",
   "metadata": {},
   "outputs": [
    {
     "data": {
      "text/plain": [
       "4082"
      ]
     },
     "execution_count": 88,
     "metadata": {},
     "output_type": "execute_result"
    }
   ],
   "source": [
    "rentals.elevator.isna().sum()"
   ]
  },
  {
   "cell_type": "markdown",
   "id": "28370a30",
   "metadata": {},
   "source": [
    "# Points of interest"
   ]
  },
  {
   "cell_type": "code",
   "execution_count": 81,
   "id": "4a2a6c49",
   "metadata": {},
   "outputs": [
    {
     "data": {
      "text/plain": [
       "Index(['price', 'area_m2', 'district', 'disposition', 'category', 'furnishing',\n",
       "       'efficiency', 'floor', 'building_type', 'building_state', 'ownership',\n",
       "       'tram', 'elevator', 'theatre', 'cinema', 'groceries', 'candy_shop',\n",
       "       'veterinary', 'train', 'pharmacist', 'atm', 'sports', 'bus', 'doctors',\n",
       "       'school', 'kindergarten', 'pub', 'post_office', 'restaurant',\n",
       "       'seven_eleven', 'playground'],\n",
       "      dtype='object')"
      ]
     },
     "execution_count": 81,
     "metadata": {},
     "output_type": "execute_result"
    }
   ],
   "source": [
    "rentals.columns"
   ]
  },
  {
   "cell_type": "code",
   "execution_count": 79,
   "id": "4ede28f1",
   "metadata": {},
   "outputs": [
    {
     "data": {
      "text/plain": [
       "count   7353.00000\n",
       "mean     634.77764\n",
       "std      893.21820\n",
       "min        3.00000\n",
       "25%      140.00000\n",
       "50%      262.00000\n",
       "75%      660.00000\n",
       "max     5925.00000\n",
       "Name: tram, dtype: float64"
      ]
     },
     "execution_count": 79,
     "metadata": {},
     "output_type": "execute_result"
    }
   ],
   "source": [
    "rentals.tram.describe()"
   ]
  },
  {
   "cell_type": "code",
   "execution_count": 80,
   "id": "123bfb8b",
   "metadata": {},
   "outputs": [
    {
     "data": {
      "text/plain": [
       "<seaborn.axisgrid.FacetGrid at 0x7ff4d6f44610>"
      ]
     },
     "execution_count": 80,
     "metadata": {},
     "output_type": "execute_result"
    },
    {
     "data": {
      "image/png": "[encoded data removed]",
      "text/plain": [
       "<Figure size 360x360 with 1 Axes>"
      ]
     },
     "metadata": {
      "needs_background": "light"
     },
     "output_type": "display_data"
    }
   ],
   "source": [
    "sns.displot(rentals.tram)"
   ]
  },
  {
   "cell_type": "markdown",
   "id": "65b8d90f",
   "metadata": {},
   "source": [
    "# Correlation with target"
   ]
  },
  {
   "cell_type": "code",
   "execution_count": 16,
   "id": "e35d7c2d",
   "metadata": {},
   "outputs": [
    {
     "data": {
      "text/plain": [
       "<AxesSubplot:>"
      ]
     },
     "execution_count": 16,
     "metadata": {},
     "output_type": "execute_result"
    },
    {
     "data": {
      "image/png": "[encoded data removed]",
      "text/plain": [
       "<Figure size 1080x720 with 2 Axes>"
      ]
     },
     "metadata": {
      "needs_background": "light"
     },
     "output_type": "display_data"
    }
   ],
   "source": [
    "plt.figure(figsize=(15,10))\n",
    "sns.heatmap(df.corr())"
   ]
  },
  {
   "cell_type": "markdown",
   "id": "abc8b17e",
   "metadata": {},
   "source": [
    "## Getting most out of area"
   ]
  },
  {
   "cell_type": "code",
   "execution_count": 185,
   "id": "1cdbe43a",
   "metadata": {},
   "outputs": [
    {
     "data": {
      "text/plain": [
       "<AxesSubplot:xlabel='area_m2', ylabel='price'>"
      ]
     },
     "execution_count": 185,
     "metadata": {},
     "output_type": "execute_result"
    },
    {
     "data": {
      "image/png": "[encoded data removed]",
      "text/plain": [
       "<Figure size 432x288 with 1 Axes>"
      ]
     },
     "metadata": {
      "needs_background": "light"
     },
     "output_type": "display_data"
    }
   ],
   "source": [
    "data = rentals[(rentals.area_m2 < 2000) & (rentals.price < 200000)]\n",
    "sns.scatterplot(x=data.area_m2, y=data.price)"
   ]
  },
  {
   "cell_type": "code",
   "execution_count": 180,
   "id": "f4b8c294",
   "metadata": {},
   "outputs": [
    {
     "data": {
      "text/plain": [
       "<AxesSubplot:>"
      ]
     },
     "execution_count": 180,
     "metadata": {},
     "output_type": "execute_result"
    },
    {
     "data": {
      "image/png": "[encoded data removed]",
      "text/plain": [
       "<Figure size 1440x1080 with 2 Axes>"
      ]
     },
     "metadata": {
      "needs_background": "light"
     },
     "output_type": "display_data"
    }
   ],
   "source": [
    "plt.figure(figsize=(20,15))\n",
    "sns.heatmap(data.corr())"
   ]
  },
  {
   "cell_type": "markdown",
   "id": "e90a79da",
   "metadata": {},
   "source": [
    "## Getting most out of furnishing"
   ]
  },
  {
   "cell_type": "code",
   "execution_count": 107,
   "id": "78e3a209",
   "metadata": {},
   "outputs": [
    {
     "data": {
      "text/plain": [
       "furnishing\n",
       "0.00000    13000\n",
       "0.50000    12000\n",
       "1.00000    14900\n",
       "Name: price, dtype: int64"
      ]
     },
     "execution_count": 107,
     "metadata": {},
     "output_type": "execute_result"
    }
   ],
   "source": [
    "rentals.groupby('furnishing')['price'].median()"
   ]
  },
  {
   "cell_type": "code",
   "execution_count": 108,
   "id": "c11a32b2",
   "metadata": {},
   "outputs": [
    {
     "data": {
      "text/plain": [
       "furnishing\n",
       "0.00000    2887\n",
       "0.50000    2721\n",
       "1.00000    3722\n",
       "Name: price, dtype: int64"
      ]
     },
     "execution_count": 108,
     "metadata": {},
     "output_type": "execute_result"
    }
   ],
   "source": [
    "rentals.groupby('furnishing')['price'].count()"
   ]
  },
  {
   "cell_type": "code",
   "execution_count": 109,
   "id": "91e10f2e",
   "metadata": {},
   "outputs": [],
   "source": [
    "rentals = rentals.assign(furnishing_filled = rentals.furnishing.fillna(0))"
   ]
  },
  {
   "cell_type": "code",
   "execution_count": 110,
   "id": "41f21b56",
   "metadata": {},
   "outputs": [
    {
     "data": {
      "text/plain": [
       "furnishing_filled\n",
       "0.00000    12000\n",
       "0.50000    12000\n",
       "1.00000    14900\n",
       "Name: price, dtype: int64"
      ]
     },
     "execution_count": 110,
     "metadata": {},
     "output_type": "execute_result"
    }
   ],
   "source": [
    "rentals.groupby('furnishing_filled')['price'].median()"
   ]
  },
  {
   "cell_type": "code",
   "execution_count": 117,
   "id": "6cf9b293",
   "metadata": {},
   "outputs": [
    {
     "data": {
      "text/plain": [
       "disposition  furnishing_filled\n",
       "1+1          0.00000                8749.17273\n",
       "             0.50000                9964.64310\n",
       "             1.00000               10884.47104\n",
       "1+kk         0.00000                9194.82222\n",
       "             0.50000                9676.21284\n",
       "             1.00000               10907.07843\n",
       "2+1          0.00000               12470.09017\n",
       "             0.50000               12289.68170\n",
       "             1.00000               15188.49057\n",
       "2+kk         0.00000               15094.74337\n",
       "             0.50000               15931.42595\n",
       "             1.00000               17265.51976\n",
       "3+1          0.00000               27072.90065\n",
       "             0.50000               16638.57466\n",
       "             1.00000               24405.61887\n",
       "3+kk         0.00000               21310.87000\n",
       "             0.50000               20684.66225\n",
       "             1.00000               27491.28233\n",
       "4+1          0.00000               34216.14483\n",
       "             0.50000               28663.17073\n",
       "             1.00000               67465.85106\n",
       "4+kk         0.00000               41475.30769\n",
       "             0.50000               30788.08219\n",
       "             1.00000               42865.84800\n",
       "5+1          0.00000               61025.02128\n",
       "             0.50000               49200.00000\n",
       "             1.00000               55000.00000\n",
       "5+kk         0.00000               69113.15789\n",
       "             0.50000               45716.50000\n",
       "             1.00000               54555.55556\n",
       "6 a vice     0.00000               71828.94737\n",
       "             0.50000               47500.00000\n",
       "             1.00000               80500.00000\n",
       "atypicky     0.00000             1340070.58824\n",
       "             0.50000               14500.00000\n",
       "             1.00000               29111.11111\n",
       "chalupa      1.00000               29975.00000\n",
       "chata        0.00000               14316.66667\n",
       "             0.50000               12000.00000\n",
       "             1.00000               10625.00000\n",
       "rodinny      0.00000               77229.89950\n",
       "             0.50000               33127.77778\n",
       "             1.00000               38407.31707\n",
       "vila         0.00000               90311.10000\n",
       "             0.50000              101111.11111\n",
       "             1.00000               49000.00000\n",
       "Name: price, dtype: float64"
      ]
     },
     "execution_count": 117,
     "metadata": {},
     "output_type": "execute_result"
    }
   ],
   "source": [
    "rentals.groupby(['disposition', 'furnishing_filled'])['price'].mean()"
   ]
  },
  {
   "cell_type": "code",
   "execution_count": 135,
   "id": "1ee2c44c",
   "metadata": {},
   "outputs": [
    {
     "data": {
      "text/plain": [
       "area_m2_bins    furnishing\n",
       "(0.999, 36.0]   0.00000       8900.00000\n",
       "                0.50000       9000.00000\n",
       "                1.00000       9900.00000\n",
       "(36.0, 48.0]    0.00000      10900.00000\n",
       "                0.50000      11000.00000\n",
       "                1.00000      12350.00000\n",
       "(48.0, 60.0]    0.00000      12500.00000\n",
       "                0.50000      12000.00000\n",
       "                1.00000      15000.00000\n",
       "(60.0, 80.0]    0.00000      14800.00000\n",
       "                0.50000      14256.50000\n",
       "                1.00000      17500.00000\n",
       "(80.0, 1000.0]  0.00000      30000.00000\n",
       "                0.50000      23000.00000\n",
       "                1.00000      30000.00000\n",
       "Name: price, dtype: float64"
      ]
     },
     "execution_count": 135,
     "metadata": {},
     "output_type": "execute_result"
    }
   ],
   "source": [
    "data.groupby(['area_m2_bins', 'furnishing'])['price'].median()"
   ]
  },
  {
   "cell_type": "code",
   "execution_count": 13,
   "id": "b9a29684",
   "metadata": {},
   "outputs": [],
   "source": [
    "import numpy as np"
   ]
  },
  {
   "cell_type": "code",
   "execution_count": 16,
   "id": "1a1c9cce",
   "metadata": {},
   "outputs": [],
   "source": [
    "rentals.furnishing = rentals.furnishing.apply(lambda x: x==1).value_counts()"
   ]
  },
  {
   "cell_type": "code",
   "execution_count": null,
   "id": "b213e864",
   "metadata": {},
   "outputs": [],
   "source": [
    "df[['price', 'furnishing']]"
   ]
  },
  {
   "cell_type": "markdown",
   "id": "9ac004af",
   "metadata": {},
   "source": [
    "## Getting most out of POI"
   ]
  },
  {
   "cell_type": "code",
   "execution_count": 17,
   "id": "e8bd9ae8",
   "metadata": {},
   "outputs": [],
   "source": [
    "poi_cols = [\n",
    "    'tram', 'theatre', 'cinema', 'groceries', 'candy_shop',\n",
    "    'veterinary', 'train', 'pharmacist', 'atm', 'sports', 'bus', 'doctors',\n",
    "    'school', 'kindergarten', 'pub', 'post_office', 'restaurant',\n",
    "    'seven_eleven', 'playground'\n",
    "]"
   ]
  },
  {
   "cell_type": "code",
   "execution_count": 18,
   "id": "d2e48e52",
   "metadata": {},
   "outputs": [],
   "source": [
    "df = df.assign(num_pois = df[poi_cols].sum(axis=1))"
   ]
  },
  {
   "cell_type": "code",
   "execution_count": 19,
   "id": "e4947918",
   "metadata": {},
   "outputs": [
    {
     "data": {
      "text/plain": [
       "<AxesSubplot:>"
      ]
     },
     "execution_count": 19,
     "metadata": {},
     "output_type": "execute_result"
    },
    {
     "data": {
      "image/png": "[encoded data removed]",
      "text/plain": [
       "<Figure size 432x288 with 1 Axes>"
      ]
     },
     "metadata": {
      "needs_background": "light"
     },
     "output_type": "display_data"
    }
   ],
   "source": [
    "df.num_pois.value_counts().sort_index().plot(kind='bar')"
   ]
  },
  {
   "cell_type": "code",
   "execution_count": 164,
   "id": "01996ee4",
   "metadata": {},
   "outputs": [],
   "source": [
    "rentals = rentals.assign(has_pois = rentals.num_pois > 0)"
   ]
  },
  {
   "cell_type": "code",
   "execution_count": 179,
   "id": "9631ed4b",
   "metadata": {},
   "outputs": [
    {
     "data": {
      "text/plain": [
       "<AxesSubplot:>"
      ]
     },
     "execution_count": 179,
     "metadata": {},
     "output_type": "execute_result"
    },
    {
     "data": {
      "image/png": "[encoded data removed]",
      "text/plain": [
       "<Figure size 432x288 with 2 Axes>"
      ]
     },
     "metadata": {
      "needs_background": "light"
     },
     "output_type": "display_data"
    }
   ],
   "source": [
    "sns.heatmap(data[['price', 'num_pois', 'has_pois']].corr())"
   ]
  },
  {
   "cell_type": "code",
   "execution_count": 166,
   "id": "f6edb040",
   "metadata": {},
   "outputs": [
    {
     "data": {
      "text/plain": [
       "has_pois\n",
       "False    14500\n",
       "True     12000\n",
       "Name: price, dtype: int64"
      ]
     },
     "execution_count": 166,
     "metadata": {},
     "output_type": "execute_result"
    }
   ],
   "source": [
    "rentals.groupby('has_pois')['price'].median()"
   ]
  },
  {
   "cell_type": "markdown",
   "id": "5c19ce65",
   "metadata": {},
   "source": [
    "## GMOF disposition"
   ]
  },
  {
   "cell_type": "code",
   "execution_count": 20,
   "id": "485f637e",
   "metadata": {},
   "outputs": [
    {
     "data": {
      "text/plain": [
       "disposition\n",
       "1+1         38.00\n",
       "1+kk        31.00\n",
       "2+1         57.00\n",
       "2+kk        51.00\n",
       "3+1         79.50\n",
       "3+kk        81.00\n",
       "4+1        130.00\n",
       "4+kk       120.00\n",
       "5+1        190.00\n",
       "5+kk       178.00\n",
       "6 a vice   230.00\n",
       "atypicky    81.00\n",
       "chalupa    120.00\n",
       "chata       50.00\n",
       "ostatni     20.00\n",
       "rodinny    208.50\n",
       "vila       320.00\n",
       "Name: area_m2, dtype: float64"
      ]
     },
     "execution_count": 20,
     "metadata": {},
     "output_type": "execute_result"
    }
   ],
   "source": [
    "df.groupby('disposition')['area_m2'].median()"
   ]
  },
  {
   "cell_type": "code",
   "execution_count": 21,
   "id": "b78dc884",
   "metadata": {},
   "outputs": [],
   "source": [
    "room_mapping = {\n",
    "    '2+kk': 2,\n",
    "    '1+kk': 1,\n",
    "    '2+1': 2,\n",
    "    '3+kk': 3,\n",
    "    '1+1': 1,\n",
    "    '3+1': 3,\n",
    "    '4+kk': 4,\n",
    "    'rodinny': 5,\n",
    "    '4+1': 4,\n",
    "    '5+kk': 5,\n",
    "    'vila': 6,\n",
    "    '5+1': 5,\n",
    "    '6 a vice': 6,\n",
    "    'atypicky': 3,\n",
    "    'chata': 2,\n",
    "    'chalupa': 4,\n",
    "    'ostatni': 1\n",
    "}"
   ]
  },
  {
   "cell_type": "code",
   "execution_count": 22,
   "id": "8e93d422",
   "metadata": {},
   "outputs": [],
   "source": [
    "df = df.assign(rooms=df.disposition.map(room_mapping))"
   ]
  },
  {
   "cell_type": "code",
   "execution_count": 23,
   "id": "e2112d54",
   "metadata": {},
   "outputs": [
    {
     "data": {
      "text/plain": [
       "<AxesSubplot:xlabel='rooms'>"
      ]
     },
     "execution_count": 23,
     "metadata": {},
     "output_type": "execute_result"
    },
    {
     "data": {
      "image/png": "[encoded data removed]",
      "text/plain": [
       "<Figure size 432x288 with 1 Axes>"
      ]
     },
     "metadata": {
      "needs_background": "light"
     },
     "output_type": "display_data"
    }
   ],
   "source": [
    "df.groupby('rooms')['price'].median().plot(kind='bar')"
   ]
  },
  {
   "cell_type": "code",
   "execution_count": 24,
   "id": "5621efec",
   "metadata": {},
   "outputs": [
    {
     "data": {
      "text/plain": [
       "<AxesSubplot:xlabel='rooms', ylabel='price'>"
      ]
     },
     "execution_count": 24,
     "metadata": {},
     "output_type": "execute_result"
    },
    {
     "data": {
      "image/png": "[encoded data removed]",
      "text/plain": [
       "<Figure size 432x288 with 1 Axes>"
      ]
     },
     "metadata": {
      "needs_background": "light"
     },
     "output_type": "display_data"
    }
   ],
   "source": [
    "sns.boxplot(x=df.rooms, y=df.price)"
   ]
  },
  {
   "cell_type": "code",
   "execution_count": 26,
   "id": "af3a328e",
   "metadata": {},
   "outputs": [
    {
     "data": {
      "text/html": [
       "<div>\n",
       "<style scoped>\n",
       "    .dataframe tbody tr th:only-of-type {\n",
       "        vertical-align: middle;\n",
       "    }\n",
       "\n",
       "    .dataframe tbody tr th {\n",
       "        vertical-align: top;\n",
       "    }\n",
       "\n",
       "    .dataframe thead th {\n",
       "        text-align: right;\n",
       "    }\n",
       "</style>\n",
       "<table border=\"1\" class=\"dataframe\">\n",
       "  <thead>\n",
       "    <tr style=\"text-align: right;\">\n",
       "      <th></th>\n",
       "      <th>price</th>\n",
       "      <th>rooms</th>\n",
       "    </tr>\n",
       "  </thead>\n",
       "  <tbody>\n",
       "    <tr>\n",
       "      <th>price</th>\n",
       "      <td>1.00</td>\n",
       "      <td>0.67</td>\n",
       "    </tr>\n",
       "    <tr>\n",
       "      <th>rooms</th>\n",
       "      <td>0.67</td>\n",
       "      <td>1.00</td>\n",
       "    </tr>\n",
       "  </tbody>\n",
       "</table>\n",
       "</div>"
      ],
      "text/plain": [
       "       price  rooms\n",
       "price   1.00   0.67\n",
       "rooms   0.67   1.00"
      ]
     },
     "execution_count": 26,
     "metadata": {},
     "output_type": "execute_result"
    }
   ],
   "source": [
    "df.loc[:, ['price', 'rooms']].corr()"
   ]
  },
  {
   "cell_type": "markdown",
   "id": "2e527074",
   "metadata": {},
   "source": [
    "## GMFO overall_qual"
   ]
  },
  {
   "cell_type": "code",
   "execution_count": 192,
   "id": "539bfed1",
   "metadata": {},
   "outputs": [
    {
     "data": {
      "text/plain": [
       "<AxesSubplot:xlabel='overall_quality', ylabel='price'>"
      ]
     },
     "execution_count": 192,
     "metadata": {},
     "output_type": "execute_result"
    },
    {
     "data": {
      "image/png": "[encoded data removed]",
      "text/plain": [
       "<Figure size 720x504 with 1 Axes>"
      ]
     },
     "metadata": {
      "needs_background": "light"
     },
     "output_type": "display_data"
    }
   ],
   "source": [
    "plt.figure(figsize=(10,7))\n",
    "sns.boxplot(data=data, x='overall_quality', y='price', hue='rooms')"
   ]
  },
  {
   "cell_type": "code",
   "execution_count": 187,
   "id": "71a184bd",
   "metadata": {},
   "outputs": [
    {
     "data": {
      "text/html": [
       "<div>\n",
       "<style scoped>\n",
       "    .dataframe tbody tr th:only-of-type {\n",
       "        vertical-align: middle;\n",
       "    }\n",
       "\n",
       "    .dataframe tbody tr th {\n",
       "        vertical-align: top;\n",
       "    }\n",
       "\n",
       "    .dataframe thead th {\n",
       "        text-align: right;\n",
       "    }\n",
       "</style>\n",
       "<table border=\"1\" class=\"dataframe\">\n",
       "  <thead>\n",
       "    <tr style=\"text-align: right;\">\n",
       "      <th></th>\n",
       "      <th>price</th>\n",
       "      <th>overall_quality</th>\n",
       "    </tr>\n",
       "  </thead>\n",
       "  <tbody>\n",
       "    <tr>\n",
       "      <th>price</th>\n",
       "      <td>1.00000</td>\n",
       "      <td>0.12757</td>\n",
       "    </tr>\n",
       "    <tr>\n",
       "      <th>overall_quality</th>\n",
       "      <td>0.12757</td>\n",
       "      <td>1.00000</td>\n",
       "    </tr>\n",
       "  </tbody>\n",
       "</table>\n",
       "</div>"
      ],
      "text/plain": [
       "                  price  overall_quality\n",
       "price           1.00000          0.12757\n",
       "overall_quality 0.12757          1.00000"
      ]
     },
     "execution_count": 187,
     "metadata": {},
     "output_type": "execute_result"
    }
   ],
   "source": [
    "data.loc[:, ['price', 'overall_quality']].corr()"
   ]
  },
  {
   "cell_type": "code",
   "execution_count": 36,
   "id": "1b995b09",
   "metadata": {},
   "outputs": [
    {
     "data": {
      "text/plain": [
       "building_state\n",
       "Projekt              5000.00\n",
       "K demolici           8872.50\n",
       "Ve výstavbě         10000.00\n",
       "Dobrý               12170.03\n",
       "Před rekonstrukcí   13762.78\n",
       "Špatný              14300.00\n",
       "Po rekonstrukci     16870.42\n",
       "Novostavba          17871.88\n",
       "Velmi dobrý         18164.43\n",
       "Name: price, dtype: float64"
      ]
     },
     "execution_count": 36,
     "metadata": {},
     "output_type": "execute_result"
    }
   ],
   "source": [
    "df.groupby('building_state')['price'].mean().sort_values()"
   ]
  },
  {
   "cell_type": "code",
   "execution_count": 39,
   "id": "64f554df",
   "metadata": {},
   "outputs": [],
   "source": [
    "overall_quality_mapping = {\n",
    "    'K demolici': 1,\n",
    "    'Projekt': 2,\n",
    "    'Špatný': 3,\n",
    "    'Ve výstavbě': 4,\n",
    "    'Dobrý': 5,         \n",
    "    'Před rekonstrukcí': 6,\n",
    "    'Po rekonstrukci': 7,\n",
    "    'Novostavba': 8,\n",
    "    'Velmi dobrý': 9,\n",
    "}"
   ]
  },
  {
   "cell_type": "code",
   "execution_count": 38,
   "id": "ad171691",
   "metadata": {},
   "outputs": [
    {
     "data": {
      "text/html": [
       "<div>\n",
       "<style scoped>\n",
       "    .dataframe tbody tr th:only-of-type {\n",
       "        vertical-align: middle;\n",
       "    }\n",
       "\n",
       "    .dataframe tbody tr th {\n",
       "        vertical-align: top;\n",
       "    }\n",
       "\n",
       "    .dataframe thead th {\n",
       "        text-align: right;\n",
       "    }\n",
       "</style>\n",
       "<table border=\"1\" class=\"dataframe\">\n",
       "  <thead>\n",
       "    <tr style=\"text-align: right;\">\n",
       "      <th></th>\n",
       "      <th>theatre</th>\n",
       "      <th>cinema</th>\n",
       "      <th>groceries</th>\n",
       "      <th>candy_shop</th>\n",
       "      <th>tram</th>\n",
       "      <th>veterinary</th>\n",
       "      <th>train</th>\n",
       "      <th>pharmacist</th>\n",
       "      <th>atm</th>\n",
       "      <th>sports</th>\n",
       "      <th>bus</th>\n",
       "      <th>doctors</th>\n",
       "      <th>school</th>\n",
       "      <th>kindergarten</th>\n",
       "      <th>pub</th>\n",
       "      <th>post_office</th>\n",
       "      <th>restaurant</th>\n",
       "      <th>seven_eleven</th>\n",
       "      <th>playground</th>\n",
       "      <th>disposition</th>\n",
       "      <th>area_m2</th>\n",
       "      <th>furnishing</th>\n",
       "      <th>elevator</th>\n",
       "      <th>category</th>\n",
       "      <th>efficiency</th>\n",
       "      <th>floor</th>\n",
       "      <th>building_type</th>\n",
       "      <th>building_state</th>\n",
       "      <th>ownership</th>\n",
       "      <th>district</th>\n",
       "      <th>price</th>\n",
       "      <th>num_pois</th>\n",
       "      <th>rooms</th>\n",
       "    </tr>\n",
       "  </thead>\n",
       "  <tbody>\n",
       "    <tr>\n",
       "      <th>26201</th>\n",
       "      <td>0.00</td>\n",
       "      <td>0.00</td>\n",
       "      <td>0.00</td>\n",
       "      <td>0.00</td>\n",
       "      <td>0.00</td>\n",
       "      <td>0.00</td>\n",
       "      <td>0.00</td>\n",
       "      <td>0.00</td>\n",
       "      <td>0.00</td>\n",
       "      <td>0.00</td>\n",
       "      <td>1.00</td>\n",
       "      <td>0.00</td>\n",
       "      <td>1.00</td>\n",
       "      <td>1.00</td>\n",
       "      <td>0.00</td>\n",
       "      <td>0.00</td>\n",
       "      <td>1.00</td>\n",
       "      <td>0.00</td>\n",
       "      <td>1.00</td>\n",
       "      <td>ostatni</td>\n",
       "      <td>16.00</td>\n",
       "      <td>1.00</td>\n",
       "      <td>0.00</td>\n",
       "      <td>flat</td>\n",
       "      <td>1.00</td>\n",
       "      <td>3.00</td>\n",
       "      <td>Cihlová</td>\n",
       "      <td>Projekt</td>\n",
       "      <td>Osobní</td>\n",
       "      <td>praha 9</td>\n",
       "      <td>5000</td>\n",
       "      <td>5.00</td>\n",
       "      <td>1</td>\n",
       "    </tr>\n",
       "  </tbody>\n",
       "</table>\n",
       "</div>"
      ],
      "text/plain": [
       "       theatre  cinema  groceries  candy_shop  tram  veterinary  train  pharmacist  ...  floor  building_type  building_state  ownership  district  price  num_pois  rooms\n",
       "26201     0.00    0.00       0.00        0.00  0.00        0.00   0.00        0.00  ...   3.00        Cihlová         Projekt     Osobní   praha 9   5000      5.00      1\n",
       "\n",
       "[1 rows x 33 columns]"
      ]
     },
     "execution_count": 38,
     "metadata": {},
     "output_type": "execute_result"
    }
   ],
   "source": [
    "df[df.building_state=='Projekt']"
   ]
  },
  {
   "cell_type": "code",
   "execution_count": 40,
   "id": "b1222d1e",
   "metadata": {},
   "outputs": [],
   "source": [
    "df = df.assign(overall_quality=df.building_state.map(overall_quality_mapping))"
   ]
  },
  {
   "cell_type": "code",
   "execution_count": 43,
   "id": "485c95c2",
   "metadata": {},
   "outputs": [
    {
     "data": {
      "text/html": [
       "<div>\n",
       "<style scoped>\n",
       "    .dataframe tbody tr th:only-of-type {\n",
       "        vertical-align: middle;\n",
       "    }\n",
       "\n",
       "    .dataframe tbody tr th {\n",
       "        vertical-align: top;\n",
       "    }\n",
       "\n",
       "    .dataframe thead th {\n",
       "        text-align: right;\n",
       "    }\n",
       "</style>\n",
       "<table border=\"1\" class=\"dataframe\">\n",
       "  <thead>\n",
       "    <tr style=\"text-align: right;\">\n",
       "      <th></th>\n",
       "      <th>price</th>\n",
       "      <th>overall_quality</th>\n",
       "    </tr>\n",
       "  </thead>\n",
       "  <tbody>\n",
       "    <tr>\n",
       "      <th>price</th>\n",
       "      <td>1.00</td>\n",
       "      <td>0.12</td>\n",
       "    </tr>\n",
       "    <tr>\n",
       "      <th>overall_quality</th>\n",
       "      <td>0.12</td>\n",
       "      <td>1.00</td>\n",
       "    </tr>\n",
       "  </tbody>\n",
       "</table>\n",
       "</div>"
      ],
      "text/plain": [
       "                 price  overall_quality\n",
       "price             1.00             0.12\n",
       "overall_quality   0.12             1.00"
      ]
     },
     "execution_count": 43,
     "metadata": {},
     "output_type": "execute_result"
    }
   ],
   "source": [
    "df[['price', 'overall_quality']].corr()"
   ]
  },
  {
   "cell_type": "markdown",
   "id": "bbbafd02",
   "metadata": {},
   "source": [
    "# Final corr"
   ]
  },
  {
   "cell_type": "code",
   "execution_count": 41,
   "id": "6164e1fe",
   "metadata": {},
   "outputs": [
    {
     "data": {
      "text/plain": [
       "<AxesSubplot:>"
      ]
     },
     "execution_count": 41,
     "metadata": {},
     "output_type": "execute_result"
    },
    {
     "data": {
      "image/png": "[encoded data removed]",
      "text/plain": [
       "<Figure size 720x576 with 2 Axes>"
      ]
     },
     "metadata": {
      "needs_background": "light"
     },
     "output_type": "display_data"
    }
   ],
   "source": [
    "plt.figure(figsize=(10,8))\n",
    "sns.heatmap(df.corr())"
   ]
  },
  {
   "cell_type": "code",
   "execution_count": null,
   "id": "b3c936ea",
   "metadata": {},
   "outputs": [],
   "source": []
  }
 ],
 "metadata": {
  "kernelspec": {
   "display_name": "Python 3",
   "language": "python",
   "name": "python3"
  },
  "language_info": {
   "codemirror_mode": {
    "name": "ipython",
    "version": 3
   },
   "file_extension": ".py",
   "mimetype": "text/x-python",
   "name": "python",
   "nbconvert_exporter": "python",
   "pygments_lexer": "ipython3",
   "version": "3.8.10"
  }
 },
 "nbformat": 4,
 "nbformat_minor": 5
}
