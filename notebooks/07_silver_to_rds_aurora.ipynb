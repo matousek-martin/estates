{
 "cells": [
  {
   "cell_type": "code",
   "execution_count": 1,
   "id": "16e5f879",
   "metadata": {},
   "outputs": [
    {
     "name": "stdout",
     "output_type": "stream",
     "text": [
      "/Users/martin/Git/estates\n"
     ]
    }
   ],
   "source": [
    "cd /Users/martin/Git/estates"
   ]
  },
  {
   "cell_type": "code",
   "execution_count": 2,
   "id": "5edb47f4",
   "metadata": {},
   "outputs": [],
   "source": [
    "import pandas as pd\n",
    "import os\n",
    "import sqlalchemy\n",
    "from datetime import datetime"
   ]
  },
  {
   "cell_type": "code",
   "execution_count": 19,
   "id": "dee10290",
   "metadata": {},
   "outputs": [],
   "source": [
    "folder = 'data/silver'\n",
    "files = os.listdir(folder)\n",
    "\n",
    "dataframes = []\n",
    "for file in files:\n",
    "    date = file.split('_')[0]\n",
    "    date = datetime.strptime(date, \"%Y%m%d-%H%M%S\")\n",
    "    \n",
    "    csv = pd.read_csv(f'{folder}/{file}')\n",
    "    csv = csv.assign(created_at=date)\n",
    "    dataframes.append(csv)\n",
    "    \n",
    "df = pd.concat(dataframes, axis=0, ignore_index=True)\n",
    "df = df.drop_duplicates(subset=[col for col in df.columns if col != 'created_at'])"
   ]
  },
  {
   "cell_type": "code",
   "execution_count": 20,
   "id": "b5290cce",
   "metadata": {},
   "outputs": [
    {
     "data": {
      "text/html": [
       "<div>\n",
       "<style scoped>\n",
       "    .dataframe tbody tr th:only-of-type {\n",
       "        vertical-align: middle;\n",
       "    }\n",
       "\n",
       "    .dataframe tbody tr th {\n",
       "        vertical-align: top;\n",
       "    }\n",
       "\n",
       "    .dataframe thead th {\n",
       "        text-align: right;\n",
       "    }\n",
       "</style>\n",
       "<table border=\"1\" class=\"dataframe\">\n",
       "  <thead>\n",
       "    <tr style=\"text-align: right;\">\n",
       "      <th></th>\n",
       "      <th>estate_id</th>\n",
       "      <th>estate_title</th>\n",
       "      <th>estate_description_short</th>\n",
       "      <th>estate_description_long</th>\n",
       "      <th>estate_category_main_cb</th>\n",
       "      <th>estate_disposition</th>\n",
       "      <th>estate_rental_or_sell</th>\n",
       "      <th>estate_locality_district</th>\n",
       "      <th>estate_longitude</th>\n",
       "      <th>estate_latitude</th>\n",
       "      <th>...</th>\n",
       "      <th>Posudek znalce</th>\n",
       "      <th>Počet kanceláří</th>\n",
       "      <th>Anuita</th>\n",
       "      <th>Termín 1. prohlídky</th>\n",
       "      <th>Termín 2. prohlídky</th>\n",
       "      <th>estate_id.1</th>\n",
       "      <th>expires_at</th>\n",
       "      <th>Minimální kupní cena</th>\n",
       "      <th>Počet míst</th>\n",
       "      <th>Počet lůžek</th>\n",
       "    </tr>\n",
       "  </thead>\n",
       "  <tbody>\n",
       "    <tr>\n",
       "      <th>0</th>\n",
       "      <td>2829839708</td>\n",
       "      <td>Prodej  pozemku 2 259 m²</td>\n",
       "      <td>Pozemek 3 224 m² k prodeji Jeseník; 7 093 000 ...</td>\n",
       "      <td>Nabízíme k prodeji tři komerční pozemky v cent...</td>\n",
       "      <td>3</td>\n",
       "      <td>24</td>\n",
       "      <td>1</td>\n",
       "      <td>46</td>\n",
       "      <td>17.218935</td>\n",
       "      <td>50.217726</td>\n",
       "      <td>...</td>\n",
       "      <td>NaN</td>\n",
       "      <td>NaN</td>\n",
       "      <td>NaN</td>\n",
       "      <td>NaN</td>\n",
       "      <td>NaN</td>\n",
       "      <td>NaN</td>\n",
       "      <td>NaN</td>\n",
       "      <td>NaN</td>\n",
       "      <td>NaN</td>\n",
       "      <td>NaN</td>\n",
       "    </tr>\n",
       "    <tr>\n",
       "      <th>1</th>\n",
       "      <td>1101036124</td>\n",
       "      <td>Prodej  stavebního pozemku 1 089 m²</td>\n",
       "      <td>Stavební parcela 1 554 m² k prodeji Kácov, okr...</td>\n",
       "      <td>Kácov se nachází 4,7km (4 minuty) po rychlostn...</td>\n",
       "      <td>3</td>\n",
       "      <td>19</td>\n",
       "      <td>1</td>\n",
       "      <td>52</td>\n",
       "      <td>15.040132</td>\n",
       "      <td>49.763996</td>\n",
       "      <td>...</td>\n",
       "      <td>NaN</td>\n",
       "      <td>NaN</td>\n",
       "      <td>NaN</td>\n",
       "      <td>NaN</td>\n",
       "      <td>NaN</td>\n",
       "      <td>NaN</td>\n",
       "      <td>NaN</td>\n",
       "      <td>NaN</td>\n",
       "      <td>NaN</td>\n",
       "      <td>NaN</td>\n",
       "    </tr>\n",
       "    <tr>\n",
       "      <th>2</th>\n",
       "      <td>420809308</td>\n",
       "      <td>Prodej  rodinného domu 685 m², pozemek 2 381 m²</td>\n",
       "      <td>Rodinný dům 685 m² k prodeji Moravské Budějovi...</td>\n",
       "      <td>Rozestavěná stavba vily Residence Vranín Na pr...</td>\n",
       "      <td>2</td>\n",
       "      <td>37</td>\n",
       "      <td>1</td>\n",
       "      <td>69</td>\n",
       "      <td>15.745152</td>\n",
       "      <td>49.050579</td>\n",
       "      <td>...</td>\n",
       "      <td>NaN</td>\n",
       "      <td>NaN</td>\n",
       "      <td>NaN</td>\n",
       "      <td>NaN</td>\n",
       "      <td>NaN</td>\n",
       "      <td>NaN</td>\n",
       "      <td>NaN</td>\n",
       "      <td>NaN</td>\n",
       "      <td>NaN</td>\n",
       "      <td>NaN</td>\n",
       "    </tr>\n",
       "    <tr>\n",
       "      <th>3</th>\n",
       "      <td>2119215708</td>\n",
       "      <td>Prodej bytu 2+kk 78 m²</td>\n",
       "      <td>Byt 2+kk 78 m² k prodeji Havlíčkův Brod; 3 552...</td>\n",
       "      <td>Havlíčkův Brod, byt 2+kk, ulice U Tunelu, po r...</td>\n",
       "      <td>1</td>\n",
       "      <td>4</td>\n",
       "      <td>1</td>\n",
       "      <td>66</td>\n",
       "      <td>15.594960</td>\n",
       "      <td>49.593576</td>\n",
       "      <td>...</td>\n",
       "      <td>NaN</td>\n",
       "      <td>NaN</td>\n",
       "      <td>NaN</td>\n",
       "      <td>NaN</td>\n",
       "      <td>NaN</td>\n",
       "      <td>NaN</td>\n",
       "      <td>NaN</td>\n",
       "      <td>NaN</td>\n",
       "      <td>NaN</td>\n",
       "      <td>NaN</td>\n",
       "    </tr>\n",
       "    <tr>\n",
       "      <th>4</th>\n",
       "      <td>3934808668</td>\n",
       "      <td>Prodej bytu 2+kk 64 m²</td>\n",
       "      <td>Byt 2+kk 64 m² k prodeji Praha 8 - Bohnice; 4 ...</td>\n",
       "      <td>Nabízíme k prodeji byt 2+kk v družstevním vlas...</td>\n",
       "      <td>1</td>\n",
       "      <td>4</td>\n",
       "      <td>1</td>\n",
       "      <td>5008</td>\n",
       "      <td>14.443999</td>\n",
       "      <td>50.121771</td>\n",
       "      <td>...</td>\n",
       "      <td>NaN</td>\n",
       "      <td>NaN</td>\n",
       "      <td>NaN</td>\n",
       "      <td>NaN</td>\n",
       "      <td>NaN</td>\n",
       "      <td>NaN</td>\n",
       "      <td>NaN</td>\n",
       "      <td>NaN</td>\n",
       "      <td>NaN</td>\n",
       "      <td>NaN</td>\n",
       "    </tr>\n",
       "  </tbody>\n",
       "</table>\n",
       "<p>5 rows × 116 columns</p>\n",
       "</div>"
      ],
      "text/plain": [
       "    estate_id                                     estate_title  \\\n",
       "0  2829839708                         Prodej  pozemku 2 259 m²   \n",
       "1  1101036124              Prodej  stavebního pozemku 1 089 m²   \n",
       "2   420809308  Prodej  rodinného domu 685 m², pozemek 2 381 m²   \n",
       "3  2119215708                           Prodej bytu 2+kk 78 m²   \n",
       "4  3934808668                           Prodej bytu 2+kk 64 m²   \n",
       "\n",
       "                            estate_description_short  \\\n",
       "0  Pozemek 3 224 m² k prodeji Jeseník; 7 093 000 ...   \n",
       "1  Stavební parcela 1 554 m² k prodeji Kácov, okr...   \n",
       "2  Rodinný dům 685 m² k prodeji Moravské Budějovi...   \n",
       "3  Byt 2+kk 78 m² k prodeji Havlíčkův Brod; 3 552...   \n",
       "4  Byt 2+kk 64 m² k prodeji Praha 8 - Bohnice; 4 ...   \n",
       "\n",
       "                             estate_description_long  estate_category_main_cb  \\\n",
       "0  Nabízíme k prodeji tři komerční pozemky v cent...                        3   \n",
       "1  Kácov se nachází 4,7km (4 minuty) po rychlostn...                        3   \n",
       "2  Rozestavěná stavba vily Residence Vranín Na pr...                        2   \n",
       "3  Havlíčkův Brod, byt 2+kk, ulice U Tunelu, po r...                        1   \n",
       "4  Nabízíme k prodeji byt 2+kk v družstevním vlas...                        1   \n",
       "\n",
       "   estate_disposition  estate_rental_or_sell  estate_locality_district  \\\n",
       "0                  24                      1                        46   \n",
       "1                  19                      1                        52   \n",
       "2                  37                      1                        69   \n",
       "3                   4                      1                        66   \n",
       "4                   4                      1                      5008   \n",
       "\n",
       "   estate_longitude  estate_latitude  ...  Posudek znalce Počet kanceláří  \\\n",
       "0         17.218935        50.217726  ...             NaN             NaN   \n",
       "1         15.040132        49.763996  ...             NaN             NaN   \n",
       "2         15.745152        49.050579  ...             NaN             NaN   \n",
       "3         15.594960        49.593576  ...             NaN             NaN   \n",
       "4         14.443999        50.121771  ...             NaN             NaN   \n",
       "\n",
       "   Anuita Termín 1. prohlídky Termín 2. prohlídky estate_id.1 expires_at  \\\n",
       "0     NaN                 NaN                 NaN         NaN        NaN   \n",
       "1     NaN                 NaN                 NaN         NaN        NaN   \n",
       "2     NaN                 NaN                 NaN         NaN        NaN   \n",
       "3     NaN                 NaN                 NaN         NaN        NaN   \n",
       "4     NaN                 NaN                 NaN         NaN        NaN   \n",
       "\n",
       "  Minimální kupní cena  Počet míst  Počet lůžek  \n",
       "0                  NaN         NaN          NaN  \n",
       "1                  NaN         NaN          NaN  \n",
       "2                  NaN         NaN          NaN  \n",
       "3                  NaN         NaN          NaN  \n",
       "4                  NaN         NaN          NaN  \n",
       "\n",
       "[5 rows x 116 columns]"
      ]
     },
     "execution_count": 20,
     "metadata": {},
     "output_type": "execute_result"
    }
   ],
   "source": [
    "df.head()"
   ]
  },
  {
   "cell_type": "code",
   "execution_count": 21,
   "id": "887ceb23",
   "metadata": {},
   "outputs": [
    {
     "data": {
      "text/plain": [
       "(89493, 116)"
      ]
     },
     "execution_count": 21,
     "metadata": {},
     "output_type": "execute_result"
    }
   ],
   "source": [
    "df.shape"
   ]
  },
  {
   "cell_type": "code",
   "execution_count": null,
   "id": "d21f6a21",
   "metadata": {
    "scrolled": false
   },
   "outputs": [],
   "source": [
    "df.to_sql(name='silver-estates', con=engine, if_exists='replace', index=False)"
   ]
  },
  {
   "cell_type": "markdown",
   "id": "7229ba66",
   "metadata": {},
   "source": [
    "# aws secrets "
   ]
  },
  {
   "cell_type": "code",
   "execution_count": 3,
   "id": "6ae2d3cc",
   "metadata": {},
   "outputs": [],
   "source": [
    "secret_name = \"estates-rds\"\n",
    "region_name = \"eu-central-1\""
   ]
  },
  {
   "cell_type": "code",
   "execution_count": 4,
   "id": "8c69c2b2",
   "metadata": {},
   "outputs": [],
   "source": [
    "import base64\n",
    "import json\n",
    "from typing import Dict\n",
    "\n",
    "import boto3\n",
    "\n",
    "from botocore.exceptions import ClientError"
   ]
  },
  {
   "cell_type": "code",
   "execution_count": 5,
   "id": "896e0356",
   "metadata": {},
   "outputs": [],
   "source": [
    "def get_secret(secret_name: str, region_name: str) -> Dict:\n",
    "    session = boto3.session.Session()\n",
    "    client = session.client(\n",
    "        service_name='secretsmanager',\n",
    "        region_name=region_name,\n",
    "    )\n",
    "\n",
    "    try:\n",
    "        get_secret_value_response = client.get_secret_value(\n",
    "            SecretId=secret_name\n",
    "        )\n",
    "    except ClientError as e:\n",
    "        if e.response['Error']['Code'] == 'ResourceNotFoundException':\n",
    "            print(\"The requested secret \" + secret_name + \" was not found\")\n",
    "        elif e.response['Error']['Code'] == 'InvalidRequestException':\n",
    "            print(\"The request was invalid due to:\", e)\n",
    "        elif e.response['Error']['Code'] == 'InvalidParameterException':\n",
    "            print(\"The request had invalid params:\", e)\n",
    "        elif e.response['Error']['Code'] == 'DecryptionFailure':\n",
    "            print(\"The requested secret can't be decrypted using the provided KMS key:\", e)\n",
    "        elif e.response['Error']['Code'] == 'InternalServiceError':\n",
    "            print(\"An error occurred on service side:\", e)\n",
    "    else:\n",
    "        # Secrets Manager decrypts the secret value using the associated KMS CMK\n",
    "        # Depending on whether the secret was a string or binary, only one of these fields will be populated\n",
    "        if 'SecretString' in get_secret_value_response:\n",
    "            secret = get_secret_value_response['SecretString']\n",
    "        else:\n",
    "            secret = base64.b64decode(get_secret_value_response['SecretBinary'])\n",
    "\n",
    "        return json.loads(secret)  # returns the secret as dictionary"
   ]
  },
  {
   "cell_type": "code",
   "execution_count": 6,
   "id": "ae2a64f2",
   "metadata": {},
   "outputs": [],
   "source": [
    "secret = get_secret(secret_name, region_name)"
   ]
  },
  {
   "cell_type": "code",
   "execution_count": 7,
   "id": "1e258edc",
   "metadata": {},
   "outputs": [],
   "source": [
    "engine = sqlalchemy.create_engine(\"postgresql+psycopg2://{username}:{password}@{host}:{port}\".format(**secret))"
   ]
  },
  {
   "cell_type": "code",
   "execution_count": 8,
   "id": "ae0fae38",
   "metadata": {},
   "outputs": [
    {
     "name": "stderr",
     "output_type": "stream",
     "text": [
      "<ipython-input-8-d72bc75a6b62>:1: SADeprecationWarning: The Engine.table_names() method is deprecated and will be removed in a future release.  Please refer to Inspector.get_table_names(). (deprecated since: 1.4)\n",
      "  engine.table_names()\n"
     ]
    },
    {
     "data": {
      "text/plain": [
       "['silver-estates']"
      ]
     },
     "execution_count": 8,
     "metadata": {},
     "output_type": "execute_result"
    }
   ],
   "source": [
    "engine.table_names()"
   ]
  },
  {
   "cell_type": "code",
   "execution_count": null,
   "id": "8a6870e4",
   "metadata": {},
   "outputs": [],
   "source": [
    "engine.execute('select estate_id, created_at from estates where created_at')"
   ]
  },
  {
   "cell_type": "code",
   "execution_count": null,
   "id": "c8ef4c22",
   "metadata": {},
   "outputs": [],
   "source": [
    "engine.table_names()"
   ]
  },
  {
   "cell_type": "code",
   "execution_count": null,
   "id": "bf8d22cd",
   "metadata": {},
   "outputs": [],
   "source": [
    "df.dtypes.head(20)"
   ]
  },
  {
   "cell_type": "code",
   "execution_count": 15,
   "id": "d421f0f1",
   "metadata": {
    "scrolled": false
   },
   "outputs": [],
   "source": [
    "q = \"\"\"\n",
    "SELECT *\n",
    "FROM \"silver-estates\"\n",
    "WHERE created_at = '2021-07-09'::date\n",
    "\"\"\"\n",
    "df = pd.read_sql_query(q, con=engine)"
   ]
  },
  {
   "cell_type": "code",
   "execution_count": 18,
   "id": "811d658f",
   "metadata": {},
   "outputs": [
    {
     "data": {
      "text/plain": [
       "estate_id                    int64\n",
       "estate_title                object\n",
       "estate_description_short    object\n",
       "estate_description_long     object\n",
       "estate_category_main_cb      int64\n",
       "                             ...  \n",
       "estate_id.1                 object\n",
       "expires_at                  object\n",
       "Minimální kupní cena        object\n",
       "Počet míst                  object\n",
       "Počet lůžek                 object\n",
       "Length: 116, dtype: object"
      ]
     },
     "execution_count": 18,
     "metadata": {},
     "output_type": "execute_result"
    }
   ],
   "source": [
    "df.dtypes"
   ]
  },
  {
   "cell_type": "code",
   "execution_count": 9,
   "id": "cde568b0",
   "metadata": {},
   "outputs": [],
   "source": [
    "df_aws = pd.read_sql_table('silver-estates', con=engine)"
   ]
  },
  {
   "cell_type": "code",
   "execution_count": 10,
   "id": "07820a79",
   "metadata": {},
   "outputs": [
    {
     "data": {
      "text/plain": [
       "(89743, 116)"
      ]
     },
     "execution_count": 10,
     "metadata": {},
     "output_type": "execute_result"
    }
   ],
   "source": [
    "df_aws.shape"
   ]
  },
  {
   "cell_type": "code",
   "execution_count": 11,
   "id": "3afd5788",
   "metadata": {},
   "outputs": [
    {
     "data": {
      "text/plain": [
       "estate_id                       0\n",
       "estate_title                    0\n",
       "estate_description_short        0\n",
       "estate_description_long         0\n",
       "estate_category_main_cb         0\n",
       "                            ...  \n",
       "estate_id.1                 89380\n",
       "expires_at                  89380\n",
       "Minimální kupní cena        89720\n",
       "Počet míst                  89739\n",
       "Počet lůžek                 89740\n",
       "Length: 116, dtype: int64"
      ]
     },
     "execution_count": 11,
     "metadata": {},
     "output_type": "execute_result"
    }
   ],
   "source": [
    "df_aws.isna().sum()"
   ]
  },
  {
   "cell_type": "code",
   "execution_count": 12,
   "id": "0ccc41a4",
   "metadata": {},
   "outputs": [],
   "source": [
    "col_subset = df_aws.columns[:30]"
   ]
  },
  {
   "cell_type": "code",
   "execution_count": 14,
   "id": "5b7522c4",
   "metadata": {},
   "outputs": [
    {
     "data": {
      "text/html": [
       "<div>\n",
       "<style scoped>\n",
       "    .dataframe tbody tr th:only-of-type {\n",
       "        vertical-align: middle;\n",
       "    }\n",
       "\n",
       "    .dataframe tbody tr th {\n",
       "        vertical-align: top;\n",
       "    }\n",
       "\n",
       "    .dataframe thead th {\n",
       "        text-align: right;\n",
       "    }\n",
       "</style>\n",
       "<table border=\"1\" class=\"dataframe\">\n",
       "  <thead>\n",
       "    <tr style=\"text-align: right;\">\n",
       "      <th></th>\n",
       "      <th>estate_id</th>\n",
       "      <th>estate_title</th>\n",
       "      <th>estate_description_short</th>\n",
       "      <th>estate_description_long</th>\n",
       "      <th>estate_category_main_cb</th>\n",
       "      <th>estate_disposition</th>\n",
       "      <th>estate_rental_or_sell</th>\n",
       "      <th>estate_locality_district</th>\n",
       "      <th>estate_longitude</th>\n",
       "      <th>estate_latitude</th>\n",
       "      <th>...</th>\n",
       "      <th>Cukrárna</th>\n",
       "      <th>Lékárna</th>\n",
       "      <th>Školka</th>\n",
       "      <th>Lékař</th>\n",
       "      <th>Kino</th>\n",
       "      <th>Hřiště</th>\n",
       "      <th>Pošta</th>\n",
       "      <th>Restaurace</th>\n",
       "      <th>Škola</th>\n",
       "      <th>Obchod</th>\n",
       "    </tr>\n",
       "  </thead>\n",
       "  <tbody>\n",
       "    <tr>\n",
       "      <th>0</th>\n",
       "      <td>2829839708</td>\n",
       "      <td>Prodej  pozemku 2 259 m²</td>\n",
       "      <td>Pozemek 3 224 m² k prodeji Jeseník; 7 093 000 ...</td>\n",
       "      <td>Nabízíme k prodeji tři komerční pozemky v cent...</td>\n",
       "      <td>3</td>\n",
       "      <td>24</td>\n",
       "      <td>1</td>\n",
       "      <td>46</td>\n",
       "      <td>17.218935</td>\n",
       "      <td>50.217726</td>\n",
       "      <td>...</td>\n",
       "      <td>131.0</td>\n",
       "      <td>352.0</td>\n",
       "      <td>379.0</td>\n",
       "      <td>153.0</td>\n",
       "      <td>553.0</td>\n",
       "      <td>421.0</td>\n",
       "      <td>473.0</td>\n",
       "      <td>148.0</td>\n",
       "      <td>163.0</td>\n",
       "      <td>190.0</td>\n",
       "    </tr>\n",
       "    <tr>\n",
       "      <th>1</th>\n",
       "      <td>1101036124</td>\n",
       "      <td>Prodej  stavebního pozemku 1 089 m²</td>\n",
       "      <td>Stavební parcela 1 554 m² k prodeji Kácov, okr...</td>\n",
       "      <td>Kácov se nachází 4,7km (4 minuty) po rychlostn...</td>\n",
       "      <td>3</td>\n",
       "      <td>19</td>\n",
       "      <td>1</td>\n",
       "      <td>52</td>\n",
       "      <td>15.040132</td>\n",
       "      <td>49.763996</td>\n",
       "      <td>...</td>\n",
       "      <td>NaN</td>\n",
       "      <td>96.0</td>\n",
       "      <td>328.0</td>\n",
       "      <td>263.0</td>\n",
       "      <td>NaN</td>\n",
       "      <td>356.0</td>\n",
       "      <td>263.0</td>\n",
       "      <td>238.0</td>\n",
       "      <td>328.0</td>\n",
       "      <td>NaN</td>\n",
       "    </tr>\n",
       "    <tr>\n",
       "      <th>2</th>\n",
       "      <td>420809308</td>\n",
       "      <td>Prodej  rodinného domu 685 m², pozemek 2 381 m²</td>\n",
       "      <td>Rodinný dům 685 m² k prodeji Moravské Budějovi...</td>\n",
       "      <td>Rozestavěná stavba vily Residence Vranín Na pr...</td>\n",
       "      <td>2</td>\n",
       "      <td>37</td>\n",
       "      <td>1</td>\n",
       "      <td>69</td>\n",
       "      <td>15.745152</td>\n",
       "      <td>49.050579</td>\n",
       "      <td>...</td>\n",
       "      <td>NaN</td>\n",
       "      <td>NaN</td>\n",
       "      <td>2436.0</td>\n",
       "      <td>2927.0</td>\n",
       "      <td>NaN</td>\n",
       "      <td>2563.0</td>\n",
       "      <td>2700.0</td>\n",
       "      <td>2998.0</td>\n",
       "      <td>2469.0</td>\n",
       "      <td>NaN</td>\n",
       "    </tr>\n",
       "    <tr>\n",
       "      <th>3</th>\n",
       "      <td>2119215708</td>\n",
       "      <td>Prodej bytu 2+kk 78 m²</td>\n",
       "      <td>Byt 2+kk 78 m² k prodeji Havlíčkův Brod; 3 552...</td>\n",
       "      <td>Havlíčkův Brod, byt 2+kk, ulice U Tunelu, po r...</td>\n",
       "      <td>1</td>\n",
       "      <td>4</td>\n",
       "      <td>1</td>\n",
       "      <td>66</td>\n",
       "      <td>15.594960</td>\n",
       "      <td>49.593576</td>\n",
       "      <td>...</td>\n",
       "      <td>1035.0</td>\n",
       "      <td>1263.0</td>\n",
       "      <td>1500.0</td>\n",
       "      <td>1137.0</td>\n",
       "      <td>1742.0</td>\n",
       "      <td>499.0</td>\n",
       "      <td>1067.0</td>\n",
       "      <td>995.0</td>\n",
       "      <td>1622.0</td>\n",
       "      <td>1302.0</td>\n",
       "    </tr>\n",
       "    <tr>\n",
       "      <th>4</th>\n",
       "      <td>385931868</td>\n",
       "      <td>Pronájem bytu 2+1 55 m²</td>\n",
       "      <td>Byt 2+1 55 m² k pronájmu Čs. exilu, Ostrava - ...</td>\n",
       "      <td>Pronájem bytové jednotky 2 + 1, ul. Čs. exilu ...</td>\n",
       "      <td>1</td>\n",
       "      <td>5</td>\n",
       "      <td>2</td>\n",
       "      <td>65</td>\n",
       "      <td>18.169058</td>\n",
       "      <td>49.827350</td>\n",
       "      <td>...</td>\n",
       "      <td>254.0</td>\n",
       "      <td>222.0</td>\n",
       "      <td>266.0</td>\n",
       "      <td>254.0</td>\n",
       "      <td>4338.0</td>\n",
       "      <td>317.0</td>\n",
       "      <td>490.0</td>\n",
       "      <td>241.0</td>\n",
       "      <td>192.0</td>\n",
       "      <td>1324.0</td>\n",
       "    </tr>\n",
       "  </tbody>\n",
       "</table>\n",
       "<p>5 rows × 30 columns</p>\n",
       "</div>"
      ],
      "text/plain": [
       "    estate_id                                     estate_title  \\\n",
       "0  2829839708                         Prodej  pozemku 2 259 m²   \n",
       "1  1101036124              Prodej  stavebního pozemku 1 089 m²   \n",
       "2   420809308  Prodej  rodinného domu 685 m², pozemek 2 381 m²   \n",
       "3  2119215708                           Prodej bytu 2+kk 78 m²   \n",
       "4   385931868                          Pronájem bytu 2+1 55 m²   \n",
       "\n",
       "                            estate_description_short  \\\n",
       "0  Pozemek 3 224 m² k prodeji Jeseník; 7 093 000 ...   \n",
       "1  Stavební parcela 1 554 m² k prodeji Kácov, okr...   \n",
       "2  Rodinný dům 685 m² k prodeji Moravské Budějovi...   \n",
       "3  Byt 2+kk 78 m² k prodeji Havlíčkův Brod; 3 552...   \n",
       "4  Byt 2+1 55 m² k pronájmu Čs. exilu, Ostrava - ...   \n",
       "\n",
       "                             estate_description_long  estate_category_main_cb  \\\n",
       "0  Nabízíme k prodeji tři komerční pozemky v cent...                        3   \n",
       "1  Kácov se nachází 4,7km (4 minuty) po rychlostn...                        3   \n",
       "2  Rozestavěná stavba vily Residence Vranín Na pr...                        2   \n",
       "3  Havlíčkův Brod, byt 2+kk, ulice U Tunelu, po r...                        1   \n",
       "4  Pronájem bytové jednotky 2 + 1, ul. Čs. exilu ...                        1   \n",
       "\n",
       "   estate_disposition  estate_rental_or_sell  estate_locality_district  \\\n",
       "0                  24                      1                        46   \n",
       "1                  19                      1                        52   \n",
       "2                  37                      1                        69   \n",
       "3                   4                      1                        66   \n",
       "4                   5                      2                        65   \n",
       "\n",
       "   estate_longitude  estate_latitude  ...  Cukrárna Lékárna  Školka   Lékař  \\\n",
       "0         17.218935        50.217726  ...     131.0   352.0   379.0   153.0   \n",
       "1         15.040132        49.763996  ...       NaN    96.0   328.0   263.0   \n",
       "2         15.745152        49.050579  ...       NaN     NaN  2436.0  2927.0   \n",
       "3         15.594960        49.593576  ...    1035.0  1263.0  1500.0  1137.0   \n",
       "4         18.169058        49.827350  ...     254.0   222.0   266.0   254.0   \n",
       "\n",
       "     Kino  Hřiště   Pošta Restaurace   Škola  Obchod  \n",
       "0   553.0   421.0   473.0      148.0   163.0   190.0  \n",
       "1     NaN   356.0   263.0      238.0   328.0     NaN  \n",
       "2     NaN  2563.0  2700.0     2998.0  2469.0     NaN  \n",
       "3  1742.0   499.0  1067.0      995.0  1622.0  1302.0  \n",
       "4  4338.0   317.0   490.0      241.0   192.0  1324.0  \n",
       "\n",
       "[5 rows x 30 columns]"
      ]
     },
     "execution_count": 14,
     "metadata": {},
     "output_type": "execute_result"
    }
   ],
   "source": [
    "df_aws.loc[:, col_subset].head()"
   ]
  },
  {
   "cell_type": "code",
   "execution_count": null,
   "id": "bb27b6d5",
   "metadata": {},
   "outputs": [],
   "source": []
  }
 ],
 "metadata": {
  "kernelspec": {
   "display_name": "Python 3",
   "language": "python",
   "name": "python3"
  },
  "language_info": {
   "codemirror_mode": {
    "name": "ipython",
    "version": 3
   },
   "file_extension": ".py",
   "mimetype": "text/x-python",
   "name": "python",
   "nbconvert_exporter": "python",
   "pygments_lexer": "ipython3",
   "version": "3.8.10"
  }
 },
 "nbformat": 4,
 "nbformat_minor": 5
}
