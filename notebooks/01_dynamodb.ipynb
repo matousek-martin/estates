{
 "cells": [
  {
   "cell_type": "code",
   "execution_count": 3,
   "id": "3dfe3527",
   "metadata": {},
   "outputs": [
    {
     "name": "stdout",
     "output_type": "stream",
     "text": [
      "/Users/martin/Git/estates\n"
     ]
    }
   ],
   "source": [
    "cd /Users/martin/Git/estates"
   ]
  },
  {
   "cell_type": "code",
   "execution_count": 2,
   "id": "71ae564b",
   "metadata": {},
   "outputs": [],
   "source": [
    "import os\n",
    "import boto3\n",
    "import json\n",
    "from decimal import Decimal\n",
    "import pandas as pd"
   ]
  },
  {
   "cell_type": "code",
   "execution_count": 4,
   "id": "2aafffd5",
   "metadata": {},
   "outputs": [],
   "source": [
    "file = 'data/bronze/20210703-104535_1038932572.json'"
   ]
  },
  {
   "cell_type": "code",
   "execution_count": 5,
   "id": "40c42f56",
   "metadata": {},
   "outputs": [],
   "source": [
    "with open(file) as f:\n",
    "    data = json.load(f)"
   ]
  },
  {
   "cell_type": "code",
   "execution_count": 6,
   "id": "3d503073",
   "metadata": {},
   "outputs": [],
   "source": [
    "columns = [\n",
    "    # Web\n",
    "    'estate_id',\n",
    "    'timestamp',\n",
    "    'estate_title', \n",
    "    'estate_description_short',\n",
    "    'estate_description_long',\n",
    "    'estate_longitude',\n",
    "    'estate_latitude',\n",
    "    'estate_map_zoom',\n",
    "    'estate_images',\n",
    "    'seller_ico',\n",
    "    'seller_email',\n",
    "    'seller_numbers',\n",
    "    'seller_web',\n",
    "    'seller_address',\n",
    "    'seller_name',\n",
    "    \n",
    "    # Target\n",
    "    'Celková cena',\n",
    "\n",
    "    # Features\n",
    "    'Užitná plocha',\n",
    "    'Podlaží',\n",
    "    'estate_locality_district',\n",
    "    'estate_disposition',\n",
    "    'estate_category_main_cb',\n",
    "    'Stavba',\n",
    "    'Stav objektu',\n",
    "    'Poznámka k ceně',\n",
    "    'Energetická náročnost budovy',\n",
    "    'Vlastnictví',\n",
    "    'Tram',\n",
    "    'Vybavení',\n",
    "    'Výtah',\n",
    "    'Divadlo',\n",
    "    'Kino',\n",
    "    'Obchod',\n",
    "    'Cukrárna',\n",
    "    'Veterinář',\n",
    "    'Vlak',\n",
    "    'Lékárna',\n",
    "    'Bankomat',\n",
    "    'Sportoviště',\n",
    "    'Bus MHD',\n",
    "    'Lékař',\n",
    "    'Škola',\n",
    "    'Školka',\n",
    "    'Hospoda',\n",
    "    'Pošta',\n",
    "    'Restaurace',\n",
    "    'Večerka',\n",
    "    'Hřiště',\n",
    "]"
   ]
  },
  {
   "cell_type": "code",
   "execution_count": 7,
   "id": "a0dc8a13",
   "metadata": {},
   "outputs": [],
   "source": [
    "data = {\n",
    "    _id: {item: value for item, value in items.items() if item in columns}\n",
    "    for _id, items in data.items()\n",
    "}\n",
    "ddb_data = json.loads(json.dumps(data), parse_float=Decimal)"
   ]
  },
  {
   "cell_type": "code",
   "execution_count": 12,
   "id": "de537973",
   "metadata": {},
   "outputs": [],
   "source": [
    "dynamodb = boto3.resource('dynamodb')\n",
    "table = dynamodb.Table('estates')\n",
    "\n",
    "with table.batch_writer() as batch:\n",
    "    for _id, items in ddb_data.items():\n",
    "        batch.put_item(\n",
    "            Item={\n",
    "                'estate_id': _id,\n",
    "                'items': items\n",
    "            }\n",
    "        )"
   ]
  },
  {
   "cell_type": "code",
   "execution_count": null,
   "id": "7864aa28",
   "metadata": {},
   "outputs": [],
   "source": []
  }
 ],
 "metadata": {
  "kernelspec": {
   "display_name": "Python 3",
   "language": "python",
   "name": "python3"
  },
  "language_info": {
   "codemirror_mode": {
    "name": "ipython",
    "version": 3
   },
   "file_extension": ".py",
   "mimetype": "text/x-python",
   "name": "python",
   "nbconvert_exporter": "python",
   "pygments_lexer": "ipython3",
   "version": "3.8.10"
  }
 },
 "nbformat": 4,
 "nbformat_minor": 5
}
