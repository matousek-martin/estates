{
 "cells": [
  {
   "cell_type": "code",
   "execution_count": 7,
   "id": "9ade2f67",
   "metadata": {},
   "outputs": [],
   "source": [
    "import boto3\n",
    "import json\n",
    "from decimal import Decimal"
   ]
  },
  {
   "cell_type": "code",
   "execution_count": 8,
   "id": "2aafffd5",
   "metadata": {},
   "outputs": [],
   "source": [
    "with open('20210513-180352_1085963612.json', 'r') as f:\n",
    "    d = json.load(f, parse_float=Decimal)"
   ]
  },
  {
   "cell_type": "code",
   "execution_count": 22,
   "id": "a0808737",
   "metadata": {
    "scrolled": false
   },
   "outputs": [
    {
     "data": {
      "text/plain": [
       "['estate_title',\n",
       " 'estate_description_short',\n",
       " 'estate_description_long',\n",
       " 'estate_category_main_cb',\n",
       " 'estate_disposition',\n",
       " 'estate_rental_or_sell',\n",
       " 'estate_locality_district',\n",
       " 'estate_longitude',\n",
       " 'estate_latitude',\n",
       " 'estate_map_zoom',\n",
       " 'estate_images',\n",
       " 'seller_ico',\n",
       " 'seller_email',\n",
       " 'seller_numbers',\n",
       " 'seller_web',\n",
       " 'seller_address',\n",
       " 'seller_name',\n",
       " 'Cukrárna',\n",
       " 'Kino',\n",
       " 'Přírodní zajímavost',\n",
       " 'Hřiště',\n",
       " 'Večerka',\n",
       " 'Hospoda',\n",
       " 'Veterinář',\n",
       " 'Bus MHD',\n",
       " 'Pošta',\n",
       " 'Lékárna',\n",
       " 'Škola',\n",
       " 'Restaurace',\n",
       " 'Bankomat',\n",
       " 'Lékař',\n",
       " 'Vlak',\n",
       " 'Obchod',\n",
       " 'Školka',\n",
       " 'Sportoviště',\n",
       " 'Celková cena',\n",
       " 'Poznámka k ceně',\n",
       " 'ID zakázky',\n",
       " 'Aktualizace',\n",
       " 'Stavba',\n",
       " 'Stav objektu',\n",
       " 'Vlastnictví',\n",
       " 'Podlaží',\n",
       " 'Užitná plocha',\n",
       " 'Plocha podlahová',\n",
       " 'Balkón',\n",
       " 'Topení',\n",
       " 'Odpad',\n",
       " 'Doprava',\n",
       " 'Energetická náročnost budovy',\n",
       " 'Bezbariérový',\n",
       " 'Vybavení']"
      ]
     },
     "execution_count": 22,
     "metadata": {},
     "output_type": "execute_result"
    }
   ],
   "source": [
    "list(list(d.values())[0].keys())"
   ]
  },
  {
   "cell_type": "code",
   "execution_count": 17,
   "id": "de537973",
   "metadata": {},
   "outputs": [],
   "source": [
    "dynamodb = boto3.resource('dynamodb')\n",
    "table = dynamodb.Table('estates')"
   ]
  },
  {
   "cell_type": "code",
   "execution_count": 18,
   "id": "aafa8e19",
   "metadata": {},
   "outputs": [],
   "source": [
    "with table.batch_writer() as batch:\n",
    "    for _id, items in d.items():\n",
    "        batch.put_item(\n",
    "            Item={\n",
    "                'estate_id': _id,\n",
    "                'items': items\n",
    "            }\n",
    "        )"
   ]
  },
  {
   "cell_type": "code",
   "execution_count": null,
   "id": "b0f24a05",
   "metadata": {},
   "outputs": [],
   "source": [
    "{  \"Aktualizace\" : { \"S\" : \"Dnes\" },  \"Bankomat\" : { \"N\" : \"4812\" },  \"Bus MHD\" : { \"N\" : \"492\" },  \"Cena\" : { \"S\" : \"Informace o ceně na dotaz\" },  \"Cukrárna\" : { \"N\" : \"4641\" },  \"Doprava\" : { \"S\" : \"Silnice\" },  \"estate_category_main_cb\" : { \"N\" : \"3\" },  \"estate_description_long\" : { \"S\" : \"Nabízíme Vám ke koupi průmyslovou zónu, která se nachází v bezprostřední blízkosti dálnice D1, v obci Bravantice, nedaleko města Ostravy. Jedná se celkem o 9,4 ha pozemků, které jsou dostupné po obecní komunikaci. Dle platného územního plánu jsou pozemky určeny pro lehký průmysl, logistiku. Druhá zóna, která se nachází v blízkosti nabízených pozemků (velikost 30 ha) byla prodána v roce 2018. Více informací u makléře. Do konce května 2021 nabízíme prostřednictvím našeho partnera úrokové sazby od 2,09 % p.a. Více informací Vám sdělí náš specialista na prohlídce.\" },  \"estate_description_short\" : { \"S\" : \"Pozemek ke komerční výstavbě 66 671 m² k prodeji Bravantice, okres Nový Jičín; 0 Kč za m²,  stavba.\" },  \"estate_disposition\" : { \"N\" : \"18\" },  \"estate_images\" : { \"L\" : [      { \"S\" : \"https://d18-a.sdn.cz/d_18/c_img_QO_KT/fvipG.jpeg?fl=res,749,562,3|shr,,20|jpg,90\" },      { \"S\" : \"https://d18-a.sdn.cz/d_18/c_img_gV_Y/bIgFZc.jpeg?fl=res,749,562,3|shr,,20|jpg,90\" },      { \"S\" : \"https://d18-a.sdn.cz/d_18/c_img_QM_KD/znZpH.jpeg?fl=res,749,562,3|shr,,20|jpg,90\" }    ]  },  \"estate_latitude\" : { \"N\" : \"49.75010202246088\" },  \"estate_locality_district\" : { \"N\" : \"63\" },  \"estate_longitude\" : { \"N\" : \"18.089773111236717\" },  \"estate_map_zoom\" : { \"N\" : \"9\" },  \"estate_rental_or_sell\" : { \"N\" : \"1\" },  \"estate_title\" : { \"S\" : \"Prodej  komerčního pozemku 95 000 m²\" },  \"Hospoda\" : { \"N\" : \"195\" },  \"Hřiště\" : { \"N\" : \"2048\" },  \"ID zakázky\" : { \"S\" : \"112874\" },  \"Kino\" : { \"N\" : \"5025\" },  \"Komunikace\" : { \"S\" : \"Asfaltová\" },  \"Lékař\" : { \"N\" : \"3502\" },  \"Lékárna\" : { \"N\" : \"3905\" },  \"Plocha pozemku\" : { \"S\" : \"66671\" },  \"Pošta\" : { \"N\" : \"82\" },  \"Restaurace\" : { \"N\" : \"2685\" },  \"seller_address\" : { \"S\" : \"Bankovní 1826/6, 70200 Ostrava - Moravská Ostrava\" },  \"seller_email\" : { \"S\" : \"ostrava@rksting.cz\" },  \"seller_ico\" : { \"N\" : \"25842625\" },  \"seller_name\" : { \"S\" : \"Realitní kancelář STING, s.r.o.\" },  \"seller_numbers\" : { \"L\" : [      { \"S\" : \"420596918261\" }    ]  },  \"seller_web\" : { \"S\" : \"http://www.rksting.cz\" },  \"Sportoviště\" : { \"N\" : \"4416\" },  \"Večerka\" : { \"N\" : \"82\" },  \"Vlak\" : { \"N\" : \"3856\" },  \"Škola\" : { \"N\" : \"104\" },  \"Školka\" : { \"N\" : \"173\" }}"
   ]
  }
 ],
 "metadata": {
  "kernelspec": {
   "display_name": "Python 3",
   "language": "python",
   "name": "python3"
  },
  "language_info": {
   "codemirror_mode": {
    "name": "ipython",
    "version": 3
   },
   "file_extension": ".py",
   "mimetype": "text/x-python",
   "name": "python",
   "nbconvert_exporter": "python",
   "pygments_lexer": "ipython3",
   "version": "3.9.4"
  }
 },
 "nbformat": 4,
 "nbformat_minor": 5
}
