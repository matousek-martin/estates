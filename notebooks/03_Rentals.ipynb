{
 "cells": [
  {
   "cell_type": "code",
   "execution_count": 1,
   "id": "a754214d",
   "metadata": {},
   "outputs": [
    {
     "name": "stdout",
     "output_type": "stream",
     "text": [
      "/Users/martin/Git/estates\n"
     ]
    }
   ],
   "source": [
    "cd .."
   ]
  },
  {
   "cell_type": "code",
   "execution_count": 2,
   "id": "37cab237",
   "metadata": {},
   "outputs": [],
   "source": [
    "import os\n",
    "import re\n",
    "import pandas as pd\n",
    "import matplotlib.pyplot as plt\n",
    "import seaborn as sns\n",
    "import numpy as np"
   ]
  },
  {
   "cell_type": "code",
   "execution_count": 3,
   "id": "328a1fad",
   "metadata": {},
   "outputs": [],
   "source": [
    "folder = 'data/silver'\n",
    "files = os.listdir(folder)"
   ]
  },
  {
   "cell_type": "code",
   "execution_count": 4,
   "id": "9e65bdec",
   "metadata": {},
   "outputs": [],
   "source": [
    "dataframes = []\n",
    "for file in files:\n",
    "    csv = pd.read_csv(f'{folder}/{file}')\n",
    "    dataframes.append(csv)\n",
    "\n",
    "df = pd.concat(dataframes, axis=0, ignore_index=True)"
   ]
  },
  {
   "cell_type": "code",
   "execution_count": 5,
   "id": "ede572fa",
   "metadata": {},
   "outputs": [],
   "source": [
    "columns = [\n",
    "    # Target\n",
    "    'Celková cena',\n",
    "\n",
    "    # Features\n",
    "    'Užitná plocha',\n",
    "    'Podlaží',\n",
    "    'estate_locality_district',\n",
    "    'estate_disposition',\n",
    "    'estate_category_main_cb',\n",
    "    'Stavba',\n",
    "    'Stav objektu',\n",
    "    'Poznámka k ceně',\n",
    "    'Energetická náročnost budovy',\n",
    "    'Vlastnictví',\n",
    "    'Tram',\n",
    "    'Vybavení',\n",
    "    'Výtah',\n",
    "    'Divadlo',\n",
    "    'Kino',\n",
    "    'Obchod',\n",
    "    'Cukrárna',\n",
    "    'Veterinář',\n",
    "    'Vlak',\n",
    "    'Lékárna',\n",
    "    'Bankomat',\n",
    "    'Sportoviště',\n",
    "    'Bus MHD',\n",
    "    'Lékař',\n",
    "    'Škola',\n",
    "    'Školka',\n",
    "    'Hospoda',\n",
    "    'Pošta',\n",
    "    'Restaurace',\n",
    "    'Večerka',\n",
    "    'Hřiště',\n",
    "]"
   ]
  },
  {
   "cell_type": "code",
   "execution_count": 6,
   "id": "9f6f2a95",
   "metadata": {},
   "outputs": [],
   "source": [
    "is_rental = df.loc[:, 'estate_rental_or_sell'] == 2\n",
    "is_flat_or_house = df.loc[:, 'estate_category_main_cb'].isin([1, 2])\n",
    "has_price = ~df.loc[:, 'Celková cena'].isna()\n",
    "rentals = (\n",
    "    df\n",
    "    .loc[is_rental & is_flat_or_house & has_price, columns]\n",
    "    .drop_duplicates()\n",
    ")"
   ]
  },
  {
   "cell_type": "code",
   "execution_count": 7,
   "id": "ef1b56e3",
   "metadata": {},
   "outputs": [
    {
     "data": {
      "text/html": [
       "<div>\n",
       "<style scoped>\n",
       "    .dataframe tbody tr th:only-of-type {\n",
       "        vertical-align: middle;\n",
       "    }\n",
       "\n",
       "    .dataframe tbody tr th {\n",
       "        vertical-align: top;\n",
       "    }\n",
       "\n",
       "    .dataframe thead th {\n",
       "        text-align: right;\n",
       "    }\n",
       "</style>\n",
       "<table border=\"1\" class=\"dataframe\">\n",
       "  <thead>\n",
       "    <tr style=\"text-align: right;\">\n",
       "      <th></th>\n",
       "      <th>Celková cena</th>\n",
       "      <th>Užitná plocha</th>\n",
       "      <th>Podlaží</th>\n",
       "      <th>estate_locality_district</th>\n",
       "      <th>estate_disposition</th>\n",
       "      <th>estate_category_main_cb</th>\n",
       "      <th>Stavba</th>\n",
       "      <th>Stav objektu</th>\n",
       "      <th>Poznámka k ceně</th>\n",
       "      <th>Energetická náročnost budovy</th>\n",
       "      <th>...</th>\n",
       "      <th>Sportoviště</th>\n",
       "      <th>Bus MHD</th>\n",
       "      <th>Lékař</th>\n",
       "      <th>Škola</th>\n",
       "      <th>Školka</th>\n",
       "      <th>Hospoda</th>\n",
       "      <th>Pošta</th>\n",
       "      <th>Restaurace</th>\n",
       "      <th>Večerka</th>\n",
       "      <th>Hřiště</th>\n",
       "    </tr>\n",
       "  </thead>\n",
       "  <tbody>\n",
       "    <tr>\n",
       "      <th>1</th>\n",
       "      <td>11 200</td>\n",
       "      <td>30.0</td>\n",
       "      <td>3. podlaží</td>\n",
       "      <td>72</td>\n",
       "      <td>2</td>\n",
       "      <td>1</td>\n",
       "      <td>Cihlová</td>\n",
       "      <td>Velmi dobrý</td>\n",
       "      <td>+ inkaso 1.500 Kč, 2 kauce a provize</td>\n",
       "      <td>NaN</td>\n",
       "      <td>...</td>\n",
       "      <td>NaN</td>\n",
       "      <td>NaN</td>\n",
       "      <td>NaN</td>\n",
       "      <td>NaN</td>\n",
       "      <td>NaN</td>\n",
       "      <td>NaN</td>\n",
       "      <td>NaN</td>\n",
       "      <td>NaN</td>\n",
       "      <td>NaN</td>\n",
       "      <td>NaN</td>\n",
       "    </tr>\n",
       "    <tr>\n",
       "      <th>4</th>\n",
       "      <td>7 950</td>\n",
       "      <td>55.0</td>\n",
       "      <td>3. podlaží z celkem 5</td>\n",
       "      <td>65</td>\n",
       "      <td>5</td>\n",
       "      <td>1</td>\n",
       "      <td>Cihlová</td>\n",
       "      <td>Po rekonstrukci</td>\n",
       "      <td>+ služby 2360, kauce 15900, + adm. poplatek 4000</td>\n",
       "      <td>Třída E - Nehospodárná</td>\n",
       "      <td>...</td>\n",
       "      <td>575.0</td>\n",
       "      <td>232.0</td>\n",
       "      <td>254.0</td>\n",
       "      <td>192.0</td>\n",
       "      <td>266.0</td>\n",
       "      <td>175.0</td>\n",
       "      <td>490.0</td>\n",
       "      <td>241.0</td>\n",
       "      <td>280.0</td>\n",
       "      <td>317.0</td>\n",
       "    </tr>\n",
       "    <tr>\n",
       "      <th>5</th>\n",
       "      <td>3 450</td>\n",
       "      <td>28.0</td>\n",
       "      <td>2. podlaží z celkem 3</td>\n",
       "      <td>62</td>\n",
       "      <td>3</td>\n",
       "      <td>1</td>\n",
       "      <td>Cihlová</td>\n",
       "      <td>Dobrý</td>\n",
       "      <td>+ služby 1630, kauce 6900, + adm. poplatek 2000</td>\n",
       "      <td>Třída E - Nehospodárná</td>\n",
       "      <td>...</td>\n",
       "      <td>82.0</td>\n",
       "      <td>112.0</td>\n",
       "      <td>272.0</td>\n",
       "      <td>133.0</td>\n",
       "      <td>293.0</td>\n",
       "      <td>144.0</td>\n",
       "      <td>430.0</td>\n",
       "      <td>538.0</td>\n",
       "      <td>174.0</td>\n",
       "      <td>1246.0</td>\n",
       "    </tr>\n",
       "    <tr>\n",
       "      <th>6</th>\n",
       "      <td>6 000</td>\n",
       "      <td>56.0</td>\n",
       "      <td>4. podlaží z celkem 4</td>\n",
       "      <td>62</td>\n",
       "      <td>5</td>\n",
       "      <td>1</td>\n",
       "      <td>Cihlová</td>\n",
       "      <td>Dobrý</td>\n",
       "      <td>+ služby 2830, kauce 12000, + adm. poplatek 3000</td>\n",
       "      <td>Třída E - Nehospodárná</td>\n",
       "      <td>...</td>\n",
       "      <td>464.0</td>\n",
       "      <td>294.0</td>\n",
       "      <td>193.0</td>\n",
       "      <td>640.0</td>\n",
       "      <td>114.0</td>\n",
       "      <td>199.0</td>\n",
       "      <td>426.0</td>\n",
       "      <td>231.0</td>\n",
       "      <td>292.0</td>\n",
       "      <td>284.0</td>\n",
       "    </tr>\n",
       "    <tr>\n",
       "      <th>8</th>\n",
       "      <td>90 000</td>\n",
       "      <td>350.0</td>\n",
       "      <td>NaN</td>\n",
       "      <td>57</td>\n",
       "      <td>37</td>\n",
       "      <td>2</td>\n",
       "      <td>Cihlová</td>\n",
       "      <td>Novostavba</td>\n",
       "      <td>+ poplatky cca 8.000 Kč</td>\n",
       "      <td>Třída G - Mimořádně nehospodárná č. 78/2013 Sb...</td>\n",
       "      <td>...</td>\n",
       "      <td>742.0</td>\n",
       "      <td>602.0</td>\n",
       "      <td>1111.0</td>\n",
       "      <td>1043.0</td>\n",
       "      <td>577.0</td>\n",
       "      <td>1427.0</td>\n",
       "      <td>1039.0</td>\n",
       "      <td>577.0</td>\n",
       "      <td>1039.0</td>\n",
       "      <td>1286.0</td>\n",
       "    </tr>\n",
       "  </tbody>\n",
       "</table>\n",
       "<p>5 rows × 32 columns</p>\n",
       "</div>"
      ],
      "text/plain": [
       "  Celková cena  Užitná plocha                Podlaží  \\\n",
       "1       11 200           30.0             3. podlaží   \n",
       "4        7 950           55.0  3. podlaží z celkem 5   \n",
       "5        3 450           28.0  2. podlaží z celkem 3   \n",
       "6        6 000           56.0  4. podlaží z celkem 4   \n",
       "8       90 000          350.0                    NaN   \n",
       "\n",
       "   estate_locality_district  estate_disposition  estate_category_main_cb  \\\n",
       "1                        72                   2                        1   \n",
       "4                        65                   5                        1   \n",
       "5                        62                   3                        1   \n",
       "6                        62                   5                        1   \n",
       "8                        57                  37                        2   \n",
       "\n",
       "    Stavba     Stav objektu                                   Poznámka k ceně  \\\n",
       "1  Cihlová      Velmi dobrý              + inkaso 1.500 Kč, 2 kauce a provize   \n",
       "4  Cihlová  Po rekonstrukci  + služby 2360, kauce 15900, + adm. poplatek 4000   \n",
       "5  Cihlová            Dobrý   + služby 1630, kauce 6900, + adm. poplatek 2000   \n",
       "6  Cihlová            Dobrý  + služby 2830, kauce 12000, + adm. poplatek 3000   \n",
       "8  Cihlová       Novostavba                           + poplatky cca 8.000 Kč   \n",
       "\n",
       "                        Energetická náročnost budovy  ... Sportoviště  \\\n",
       "1                                                NaN  ...         NaN   \n",
       "4                             Třída E - Nehospodárná  ...       575.0   \n",
       "5                             Třída E - Nehospodárná  ...        82.0   \n",
       "6                             Třída E - Nehospodárná  ...       464.0   \n",
       "8  Třída G - Mimořádně nehospodárná č. 78/2013 Sb...  ...       742.0   \n",
       "\n",
       "   Bus MHD   Lékař   Škola  Školka  Hospoda   Pošta  Restaurace  Večerka  \\\n",
       "1      NaN     NaN     NaN     NaN      NaN     NaN         NaN      NaN   \n",
       "4    232.0   254.0   192.0   266.0    175.0   490.0       241.0    280.0   \n",
       "5    112.0   272.0   133.0   293.0    144.0   430.0       538.0    174.0   \n",
       "6    294.0   193.0   640.0   114.0    199.0   426.0       231.0    292.0   \n",
       "8    602.0  1111.0  1043.0   577.0   1427.0  1039.0       577.0   1039.0   \n",
       "\n",
       "   Hřiště  \n",
       "1     NaN  \n",
       "4   317.0  \n",
       "5  1246.0  \n",
       "6   284.0  \n",
       "8  1286.0  \n",
       "\n",
       "[5 rows x 32 columns]"
      ]
     },
     "execution_count": 7,
     "metadata": {},
     "output_type": "execute_result"
    }
   ],
   "source": [
    "rentals.head()"
   ]
  },
  {
   "cell_type": "markdown",
   "id": "3a565ae7",
   "metadata": {},
   "source": [
    "### celkova cena"
   ]
  },
  {
   "cell_type": "code",
   "execution_count": 150,
   "id": "5c583cdb",
   "metadata": {},
   "outputs": [
    {
     "name": "stderr",
     "output_type": "stream",
     "text": [
      "<ipython-input-150-be273b9fe8e5>:1: FutureWarning: The default value of regex will change from True to False in a future version.\n",
      "  rentals.loc[:, 'Celková cena'] = rentals.loc[:, 'Celková cena'].str.replace(r'\\s', '').astype(int)\n"
     ]
    }
   ],
   "source": [
    "rentals.loc[:, 'Celková cena'] = rentals.loc[:, 'Celková cena'].str.replace(r'\\s', '').astype(int)"
   ]
  },
  {
   "cell_type": "code",
   "execution_count": 151,
   "id": "cd3202c4",
   "metadata": {},
   "outputs": [],
   "source": [
    "x = rentals.loc[:, 'Celková cena']"
   ]
  },
  {
   "cell_type": "code",
   "execution_count": 152,
   "id": "101e5e84",
   "metadata": {},
   "outputs": [
    {
     "name": "stderr",
     "output_type": "stream",
     "text": [
      "/Users/martin/opt/miniconda3/envs/estates/lib/python3.8/site-packages/seaborn/distributions.py:2557: FutureWarning: `distplot` is a deprecated function and will be removed in a future version. Please adapt your code to use either `displot` (a figure-level function with similar flexibility) or `histplot` (an axes-level function for histograms).\n",
      "  warnings.warn(msg, FutureWarning)\n"
     ]
    },
    {
     "data": {
      "text/plain": [
       "<AxesSubplot:xlabel='Celková cena', ylabel='Density'>"
      ]
     },
     "execution_count": 152,
     "metadata": {},
     "output_type": "execute_result"
    },
    {
     "data": {
      "image/png": "[encoded data removed]",
      "text/plain": [
       "<Figure size 720x360 with 1 Axes>"
      ]
     },
     "metadata": {
      "needs_background": "light"
     },
     "output_type": "display_data"
    }
   ],
   "source": [
    "plt.figure(figsize=(10,5))\n",
    "sns.distplot(x[x < 100000])"
   ]
  },
  {
   "cell_type": "markdown",
   "id": "5bb6d7e3",
   "metadata": {},
   "source": [
    "### Užitná plocha"
   ]
  },
  {
   "cell_type": "code",
   "execution_count": 153,
   "id": "641c7e23",
   "metadata": {},
   "outputs": [],
   "source": [
    "x = rentals.loc[:, 'Užitná plocha']"
   ]
  },
  {
   "cell_type": "code",
   "execution_count": 154,
   "id": "fdefa575",
   "metadata": {},
   "outputs": [
    {
     "data": {
      "text/plain": [
       "count    12844.000000\n",
       "mean        67.837356\n",
       "std        153.786774\n",
       "min          1.000000\n",
       "25%         40.000000\n",
       "50%         54.000000\n",
       "75%         75.000000\n",
       "max      15746.000000\n",
       "Name: Užitná plocha, dtype: float64"
      ]
     },
     "execution_count": 154,
     "metadata": {},
     "output_type": "execute_result"
    }
   ],
   "source": [
    "x.describe()"
   ]
  },
  {
   "cell_type": "code",
   "execution_count": 155,
   "id": "adf2301e",
   "metadata": {},
   "outputs": [
    {
     "data": {
      "text/plain": [
       "1"
      ]
     },
     "execution_count": 155,
     "metadata": {},
     "output_type": "execute_result"
    }
   ],
   "source": [
    "x.isna().sum()"
   ]
  },
  {
   "cell_type": "code",
   "execution_count": 156,
   "id": "393cf5bc",
   "metadata": {},
   "outputs": [
    {
     "name": "stderr",
     "output_type": "stream",
     "text": [
      "/Users/martin/opt/miniconda3/envs/estates/lib/python3.8/site-packages/seaborn/distributions.py:2557: FutureWarning: `distplot` is a deprecated function and will be removed in a future version. Please adapt your code to use either `displot` (a figure-level function with similar flexibility) or `histplot` (an axes-level function for histograms).\n",
      "  warnings.warn(msg, FutureWarning)\n"
     ]
    },
    {
     "data": {
      "text/plain": [
       "<AxesSubplot:xlabel='Užitná plocha', ylabel='Density'>"
      ]
     },
     "execution_count": 156,
     "metadata": {},
     "output_type": "execute_result"
    },
    {
     "data": {
      "image/png": "[encoded data removed]",
      "text/plain": [
       "<Figure size 432x288 with 1 Axes>"
      ]
     },
     "metadata": {
      "needs_background": "light"
     },
     "output_type": "display_data"
    }
   ],
   "source": [
    "sns.distplot(x[x < 200])"
   ]
  },
  {
   "cell_type": "markdown",
   "id": "5a1d9c5c",
   "metadata": {},
   "source": [
    "### estate_locality_district"
   ]
  },
  {
   "cell_type": "code",
   "execution_count": 138,
   "id": "76a1e1b9",
   "metadata": {},
   "outputs": [
    {
     "data": {
      "text/plain": [
       "(16722, 32)"
      ]
     },
     "execution_count": 138,
     "metadata": {},
     "output_type": "execute_result"
    }
   ],
   "source": [
    "rentals.drop_duplicates().shape"
   ]
  },
  {
   "cell_type": "code",
   "execution_count": 160,
   "id": "2be8d826",
   "metadata": {},
   "outputs": [
    {
     "data": {
      "text/plain": [
       "5005    1223\n",
       "72      1167\n",
       "5004    1090\n",
       "5003     872\n",
       "5002     866\n",
       "5001     859\n",
       "5010     839\n",
       "5006     683\n",
       "5009     555\n",
       "5008     486\n",
       "65       403\n",
       "12       400\n",
       "5007     320\n",
       "42       270\n",
       "62       200\n",
       "1        135\n",
       "57       131\n",
       "28       110\n",
       "32        98\n",
       "61        89\n",
       "Name: estate_locality_district, dtype: int64"
      ]
     },
     "execution_count": 160,
     "metadata": {},
     "output_type": "execute_result"
    }
   ],
   "source": [
    "rentals.loc[:, 'estate_locality_district'].value_counts().head(20)"
   ]
  },
  {
   "cell_type": "code",
   "execution_count": 168,
   "id": "6102c2a7",
   "metadata": {},
   "outputs": [],
   "source": [
    "locality_district_mapping = {\n",
    "    1: \"ceske budejovice\",\n",
    "    12: \"plzen-mesto\",\n",
    "    28: \"hradec kralove\",\n",
    "    32: \"pardubice\",\n",
    "    42: \"olomouc\",\n",
    "    5001: \"praha 1\",\n",
    "    5002: \"praha 2\",\n",
    "    5003: \"praha 3\",\n",
    "    5004: \"praha 4\",\n",
    "    5005: \"praha 5\",\n",
    "    5006: \"praha 6\",\n",
    "    5007: \"praha 7\",\n",
    "    5008: \"praha 8\",\n",
    "    5009: \"praha 9\",\n",
    "    5010: \"praha 10\",\n",
    "    62: \"karvina\",\n",
    "    65: \"ostrava-mesto\",\n",
    "    72: \"brno-mesto\"\n",
    "}"
   ]
  },
  {
   "cell_type": "code",
   "execution_count": 170,
   "id": "17ac86c2",
   "metadata": {},
   "outputs": [
    {
     "data": {
      "text/plain": [
       "1           brno-mesto\n",
       "4        ostrava-mesto\n",
       "5              karvina\n",
       "6              karvina\n",
       "8              ostatni\n",
       "             ...      \n",
       "73357          ostatni\n",
       "73420    ostrava-mesto\n",
       "73439          olomouc\n",
       "73450          ostatni\n",
       "73454          ostatni\n",
       "Name: estate_locality_district, Length: 12845, dtype: object"
      ]
     },
     "execution_count": 170,
     "metadata": {},
     "output_type": "execute_result"
    }
   ],
   "source": [
    "rentals.loc[:, 'estate_locality_district'].map(locality_district_mapping).fillna('ostatni')"
   ]
  },
  {
   "cell_type": "markdown",
   "id": "64cb1da8",
   "metadata": {},
   "source": [
    "####     'estate_disposition',"
   ]
  },
  {
   "cell_type": "code",
   "execution_count": 171,
   "id": "469e8d18",
   "metadata": {},
   "outputs": [
    {
     "data": {
      "text/plain": [
       "4     3435\n",
       "2     2531\n",
       "5     1879\n",
       "6     1366\n",
       "3     1216\n",
       "7     1100\n",
       "8      380\n",
       "37     285\n",
       "9      280\n",
       "47      86\n",
       "10      71\n",
       "39      67\n",
       "11      61\n",
       "12      33\n",
       "16      32\n",
       "33      17\n",
       "43       4\n",
       "35       2\n",
       "Name: estate_disposition, dtype: int64"
      ]
     },
     "execution_count": 171,
     "metadata": {},
     "output_type": "execute_result"
    }
   ],
   "source": [
    "rentals.loc[:, 'estate_disposition'].value_counts()"
   ]
  },
  {
   "cell_type": "code",
   "execution_count": 172,
   "id": "2404f6c7",
   "metadata": {},
   "outputs": [],
   "source": [
    "disposition_mapping = {\n",
    "    2: \"1+kk\",\n",
    "    3: \"1+1\",\n",
    "    4: \"2+kk\",\n",
    "    5: \"2+1\",\n",
    "    6: \"3+kk\",\n",
    "    7: \"3+1\",\n",
    "    8: \"4+kk\",\n",
    "    9: \"4+1\",\n",
    "    10: \"5+kk\",\n",
    "    11: \"5+1\",\n",
    "    12: \"6 a vice\",\n",
    "    16: \"atypicky\",\n",
    "    37: \"rodinny\",\n",
    "    39: \"vila\",\n",
    "    43: \"chalupa\",\n",
    "    33: \"chata\",\n",
    "}"
   ]
  },
  {
   "cell_type": "code",
   "execution_count": 174,
   "id": "6a3285b6",
   "metadata": {},
   "outputs": [
    {
     "data": {
      "text/plain": [
       "2+kk        3435\n",
       "1+kk        2531\n",
       "2+1         1879\n",
       "3+kk        1366\n",
       "1+1         1216\n",
       "3+1         1100\n",
       "4+kk         380\n",
       "rodinny      285\n",
       "4+1          280\n",
       "ostatni       88\n",
       "5+kk          71\n",
       "vila          67\n",
       "5+1           61\n",
       "6 a vice      33\n",
       "atypicky      32\n",
       "chata         17\n",
       "chalupa        4\n",
       "Name: estate_disposition, dtype: int64"
      ]
     },
     "execution_count": 174,
     "metadata": {},
     "output_type": "execute_result"
    }
   ],
   "source": [
    "rentals.loc[:, 'estate_disposition'].map(disposition_mapping).fillna('ostatni').value_counts()"
   ]
  },
  {
   "cell_type": "markdown",
   "id": "ce390855",
   "metadata": {},
   "source": [
    "#### estate_category_main_cb"
   ]
  },
  {
   "cell_type": "code",
   "execution_count": 175,
   "id": "b33ba575",
   "metadata": {},
   "outputs": [
    {
     "data": {
      "text/plain": [
       "1    12470\n",
       "2      375\n",
       "Name: estate_category_main_cb, dtype: int64"
      ]
     },
     "execution_count": 175,
     "metadata": {},
     "output_type": "execute_result"
    }
   ],
   "source": [
    "rentals.estate_category_main_cb.value_counts()"
   ]
  },
  {
   "cell_type": "code",
   "execution_count": 176,
   "id": "56520c74",
   "metadata": {},
   "outputs": [],
   "source": [
    "category_mapping = {\n",
    "    1: 'flat',\n",
    "    2: 'house'\n",
    "}"
   ]
  },
  {
   "cell_type": "code",
   "execution_count": 177,
   "id": "6d1d0542",
   "metadata": {},
   "outputs": [
    {
     "data": {
      "text/plain": [
       "1         flat\n",
       "4         flat\n",
       "5         flat\n",
       "6         flat\n",
       "8        house\n",
       "         ...  \n",
       "73357     flat\n",
       "73420     flat\n",
       "73439     flat\n",
       "73450     flat\n",
       "73454     flat\n",
       "Name: estate_category_main_cb, Length: 12845, dtype: object"
      ]
     },
     "execution_count": 177,
     "metadata": {},
     "output_type": "execute_result"
    }
   ],
   "source": [
    "rentals.estate_category_main_cb.map(category_mapping)"
   ]
  },
  {
   "cell_type": "code",
   "execution_count": 179,
   "id": "640c98b4",
   "metadata": {},
   "outputs": [
    {
     "data": {
      "text/plain": [
       "Cihlová      9391\n",
       "Panelová     2089\n",
       "Smíšená      1003\n",
       "Skeletová     299\n",
       "Dřevěná        26\n",
       "Kamenná        23\n",
       "Montovaná      14\n",
       "Name: Stavba, dtype: int64"
      ]
     },
     "execution_count": 179,
     "metadata": {},
     "output_type": "execute_result"
    }
   ],
   "source": [
    "rentals.Stavba.value_counts()"
   ]
  },
  {
   "cell_type": "code",
   "execution_count": 59,
   "id": "fefa97d4",
   "metadata": {},
   "outputs": [
    {
     "data": {
      "text/plain": [
       "Třída G - Mimořádně nehospodárná                                   10721\n",
       "Třída G - Mimořádně nehospodárná č. 78/2013 Sb. podle vyhlášky      6728\n",
       "Třída C - Úsporná                                                   1600\n",
       "Třída C - Úsporná č. 78/2013 Sb. podle vyhlášky                     1572\n",
       "Třída G - Mimořádně nehospodárná č. 264/2020 Sb. podle vyhlášky     1460\n",
       "Třída B - Velmi úsporná č. 78/2013 Sb. podle vyhlášky               1158\n",
       "Třída G - Mimořádně nehospodárná č. 148/2007 Sb. podle vyhlášky     1016\n",
       "Třída B - Velmi úsporná                                             1014\n",
       "Třída D - Méně úsporná                                               756\n",
       "Třída D - Méně úsporná č. 78/2013 Sb. podle vyhlášky                 547\n",
       "Třída C - Úsporná č. 148/2007 Sb. podle vyhlášky                     340\n",
       "Třída E - Nehospodárná č. 78/2013 Sb. podle vyhlášky                 255\n",
       "Třída E - Nehospodárná                                               224\n",
       "Třída C - Úsporná č. 264/2020 Sb. podle vyhlášky                     194\n",
       "Třída B - Velmi úsporná č. 148/2007 Sb. podle vyhlášky               154\n",
       "Třída D - Méně úsporná č. 148/2007 Sb. podle vyhlášky                143\n",
       "Třída B - Velmi úsporná č. 264/2020 Sb. podle vyhlášky               112\n",
       "Třída A - Mimořádně úsporná                                          105\n",
       "Třída A - Mimořádně úsporná č. 78/2013 Sb. podle vyhlášky             91\n",
       "Třída E - Nehospodárná č. 148/2007 Sb. podle vyhlášky                 75\n",
       "Třída D - Méně úsporná č. 264/2020 Sb. podle vyhlášky                 59\n",
       "Třída F - Velmi nehospodárná č. 78/2013 Sb. podle vyhlášky            58\n",
       "Třída F - Velmi nehospodárná                                          37\n",
       "Třída E - Nehospodárná č. 264/2020 Sb. podle vyhlášky                 21\n",
       "Třída A - Mimořádně úsporná č. 148/2007 Sb. podle vyhlášky            13\n",
       "Třída A - Mimořádně úsporná č. 264/2020 Sb. podle vyhlášky            11\n",
       "Třída F - Velmi nehospodárná č. 148/2007 Sb. podle vyhlášky            2\n",
       "Třída F - Velmi nehospodárná č. 264/2020 Sb. podle vyhlášky            2\n",
       "Name: Energetická náročnost budovy, dtype: int64"
      ]
     },
     "execution_count": 59,
     "metadata": {},
     "output_type": "execute_result"
    }
   ],
   "source": [
    "rentals.loc[:, 'Energetická náročnost budovy'].value_counts()"
   ]
  },
  {
   "cell_type": "code",
   "execution_count": 202,
   "id": "3daca16e",
   "metadata": {},
   "outputs": [],
   "source": [
    "efficiency_mapping = {\n",
    "    'Třída A': 1,\n",
    "    'Třída B': 2,\n",
    "    'Třída C': 3,\n",
    "    'Třída D': 4,\n",
    "    'Třída E': 5,\n",
    "    'Třída F': 6,\n",
    "    'Třída G': 7\n",
    "}"
   ]
  },
  {
   "cell_type": "code",
   "execution_count": 219,
   "id": "4f48b462",
   "metadata": {},
   "outputs": [
    {
     "data": {
      "text/plain": [
       "1        NaN\n",
       "4        5.0\n",
       "5        5.0\n",
       "6        5.0\n",
       "8        7.0\n",
       "        ... \n",
       "73357    NaN\n",
       "73420    3.0\n",
       "73439    7.0\n",
       "73450    7.0\n",
       "73454    7.0\n",
       "Name: Energetická náročnost budovy, Length: 12845, dtype: float64"
      ]
     },
     "execution_count": 219,
     "metadata": {},
     "output_type": "execute_result"
    }
   ],
   "source": [
    "(\n",
    "    rentals\n",
    "    .loc[:, 'Energetická náročnost budovy']\n",
    "    .apply(lambda x: re.match(r'Třída \\w', x)[0] if isinstance(x, str) else x)\n",
    "    .map(efficiency_mapping)\n",
    ")"
   ]
  },
  {
   "cell_type": "code",
   "execution_count": 60,
   "id": "0424ffc8",
   "metadata": {},
   "outputs": [
    {
     "data": {
      "text/plain": [
       "+ poplatky                                                                                      137\n",
       "bez poplatků, + provize RK                                                                       86\n",
       "+ provize RK                                                                                     63\n",
       "poplatky: viz text                                                                               49\n",
       "+ energie                                                                                        37\n",
       "                                                                                               ... \n",
       "+ zálohy na vodu/teplo/služby 3000 (vyučtování podle spotřeby) + elektřina a plyn na nájemce      1\n",
       "+popl. 1800, +elektřina                                                                           1\n",
       "+ služby 500,- Kč a energie zvlášť, kauce 8500, provize rk 8000+DPH                               1\n",
       "+ služby + vratná kauce 20 000 Kč, poplatek RK  3 000 Kč                                          1\n",
       "+ popl.viz,text                                                                                   1\n",
       "Name: Poznámka k ceně, Length: 6865, dtype: int64"
      ]
     },
     "execution_count": 60,
     "metadata": {},
     "output_type": "execute_result"
    }
   ],
   "source": [
    "rentals.loc[:, 'Poznámka k ceně'].value_counts()"
   ]
  },
  {
   "cell_type": "code",
   "execution_count": 41,
   "id": "636f39d4",
   "metadata": {},
   "outputs": [],
   "source": [
    "def parse_floor(x):\n",
    "    if not x:\n",
    "        return None\n",
    "    elif isinstance(x, float) or isinstance(x, int):\n",
    "        return x\n",
    "    elif 'přízemí' in x:\n",
    "        return 0\n",
    "\n",
    "    parsed_x = str(x).split('.')[0]\n",
    "    if 'včetně' in parsed_x:\n",
    "        return int(parsed_x[0])\n",
    "\n",
    "    try:\n",
    "        x = int(parsed_x)\n",
    "        x = max(x, -1)\n",
    "        x = min(x, 20)\n",
    "        return x\n",
    "    except ValueError:\n",
    "        return None\n"
   ]
  },
  {
   "cell_type": "code",
   "execution_count": 42,
   "id": "f782d793",
   "metadata": {},
   "outputs": [
    {
     "data": {
      "text/plain": [
       " 2.0     3067\n",
       " 3.0     2665\n",
       " 1.0     2138\n",
       " 4.0     1890\n",
       " 5.0     1338\n",
       " 6.0      730\n",
       " 7.0      308\n",
       " 8.0      178\n",
       " 0.0       88\n",
       " 9.0       79\n",
       " 10.0      52\n",
       " 11.0      42\n",
       "-1.0       39\n",
       " 12.0      39\n",
       " 13.0      34\n",
       " 14.0      11\n",
       " 15.0       8\n",
       " 17.0       6\n",
       " 20.0       6\n",
       " 18.0       2\n",
       " 16.0       2\n",
       "Name: Podlaží, dtype: int64"
      ]
     },
     "execution_count": 42,
     "metadata": {},
     "output_type": "execute_result"
    }
   ],
   "source": [
    "rentals.loc[:,'Podlaží'].apply(lambda x: parse_floor(x)).value_counts()"
   ]
  },
  {
   "cell_type": "code",
   "execution_count": 74,
   "id": "6cf23ab4",
   "metadata": {},
   "outputs": [
    {
     "data": {
      "text/plain": [
       "Cihlová      46143\n",
       "Smíšená       8621\n",
       "Panelová      7587\n",
       "Skeletová     4045\n",
       "Dřevěná        898\n",
       "Montovaná      713\n",
       "Kamenná        309\n",
       "Name: Stavba, dtype: int64"
      ]
     },
     "execution_count": 74,
     "metadata": {},
     "output_type": "execute_result"
    }
   ],
   "source": [
    "df.loc[:,'Stavba',].value_counts()"
   ]
  },
  {
   "cell_type": "code",
   "execution_count": 75,
   "id": "9b429e1e",
   "metadata": {},
   "outputs": [
    {
     "data": {
      "text/plain": [
       "Velmi dobrý          29994\n",
       "Po rekonstrukci      12455\n",
       "Novostavba           10597\n",
       "Dobrý                10105\n",
       "Ve výstavbě           2267\n",
       "Před rekonstrukcí     1976\n",
       "Projekt                703\n",
       "Špatný                 161\n",
       "K demolici              58\n",
       "Name: Stav objektu, dtype: int64"
      ]
     },
     "execution_count": 75,
     "metadata": {},
     "output_type": "execute_result"
    }
   ],
   "source": [
    "df.loc[:,'Stav objektu'].value_counts()"
   ]
  },
  {
   "cell_type": "code",
   "execution_count": 43,
   "id": "a5694a1f",
   "metadata": {},
   "outputs": [],
   "source": [
    "furnishing_mapping = {\n",
    "    'True': 1,\n",
    "    'Částečně': 0.5,\n",
    "    'False': 0,\n",
    "}"
   ]
  },
  {
   "cell_type": "code",
   "execution_count": 45,
   "id": "e0da71e8",
   "metadata": {},
   "outputs": [
    {
     "data": {
      "text/plain": [
       "1.0    3722\n",
       "0.0    2887\n",
       "0.5    2721\n",
       "Name: Vybavení, dtype: int64"
      ]
     },
     "execution_count": 45,
     "metadata": {},
     "output_type": "execute_result"
    }
   ],
   "source": [
    "rentals.loc[:, 'Vybavení'].map(furnishing_mapping).value_counts()"
   ]
  },
  {
   "cell_type": "markdown",
   "id": "65f4a9d0",
   "metadata": {},
   "source": [
    "## round 2"
   ]
  },
  {
   "cell_type": "code",
   "execution_count": 49,
   "id": "c70aeb0c",
   "metadata": {},
   "outputs": [
    {
     "name": "stdout",
     "output_type": "stream",
     "text": [
      "/Users/martin/Git/estates/src/data/gold\n"
     ]
    }
   ],
   "source": [
    "cd src/data/gold"
   ]
  },
  {
   "cell_type": "code",
   "execution_count": 54,
   "id": "8d77d5c0",
   "metadata": {},
   "outputs": [],
   "source": [
    "from preprocessing import *\n",
    "from mappings import *"
   ]
  },
  {
   "cell_type": "code",
   "execution_count": 52,
   "id": "623faee8",
   "metadata": {},
   "outputs": [],
   "source": [
    "r = load_rentals(df)"
   ]
  },
  {
   "cell_type": "code",
   "execution_count": 58,
   "id": "c394ae0f",
   "metadata": {},
   "outputs": [],
   "source": [
    "b = pd.DataFrame()\n",
    "b = b.assign(\n",
    "    price = preprocess_price(r),\n",
    "    area_m2 = r.loc[:, 'Užitná plocha'],\n",
    "    district = apply_column_mapping(r, 'estate_locality_district', locality_district_mapping),\n",
    "    disposition = apply_column_mapping(r, 'estate_disposition', disposition_mapping),\n",
    "    category = apply_column_mapping(r, 'estate_category_main_cb', category_mapping),\n",
    "    furnishing = apply_column_mapping(r, 'Vybavení', furnishing_mapping),\n",
    "    efficiency = preprocess_efficiency(r),\n",
    "    floor = preprocess_floor(r),\n",
    "    building_type = r.loc[:, 'Stavba'],\n",
    "    building_state = r.loc[:, 'Stav objektu'],\n",
    "    ownership = r.loc[:, 'Vlastnictví'],\n",
    "    tram = r.loc[:, 'Tram'],\n",
    "    elevator = r.loc[:, 'Výtah'],\n",
    "    theatre = r.loc[:, 'Divadlo'],\n",
    "    cinema = r.loc[:, 'Kino'],\n",
    "    groceries = r.loc[:, 'Obchod'],\n",
    "    candy_shop = r.loc[:, 'Cukrárna'],\n",
    "    veterinary = r.loc[:, 'Veterinář'],\n",
    "    train = r.loc[:, 'Vlak'],\n",
    "    pharmacist = r.loc[:, 'Lékárna'],\n",
    "    atm = r.loc[:, 'Bankomat'],\n",
    "    sports = r.loc[:, 'Sportoviště'],\n",
    "    bus = r.loc[:, 'Bus MHD'],\n",
    "    doctors = r.loc[:, 'Lékař'],\n",
    "    school = r.loc[:, 'Škola'],\n",
    "    kindergarten = r.loc[:, 'Školka'],\n",
    "    pub = r.loc[:, 'Hospoda'],\n",
    "    post_office = r.loc[:, 'Pošta'],\n",
    "    restaurant = r.loc[:, 'Restaurace'],\n",
    "    seven_eleven = r.loc[:, 'Večerka'],\n",
    "    playground = r.loc[:, 'Hřiště'],\n",
    ")"
   ]
  },
  {
   "cell_type": "code",
   "execution_count": 59,
   "id": "e0a2d24b",
   "metadata": {},
   "outputs": [
    {
     "data": {
      "text/html": [
       "<div>\n",
       "<style scoped>\n",
       "    .dataframe tbody tr th:only-of-type {\n",
       "        vertical-align: middle;\n",
       "    }\n",
       "\n",
       "    .dataframe tbody tr th {\n",
       "        vertical-align: top;\n",
       "    }\n",
       "\n",
       "    .dataframe thead th {\n",
       "        text-align: right;\n",
       "    }\n",
       "</style>\n",
       "<table border=\"1\" class=\"dataframe\">\n",
       "  <thead>\n",
       "    <tr style=\"text-align: right;\">\n",
       "      <th></th>\n",
       "      <th>price</th>\n",
       "      <th>area_m2</th>\n",
       "      <th>district</th>\n",
       "      <th>disposition</th>\n",
       "      <th>category</th>\n",
       "      <th>furnishing</th>\n",
       "      <th>efficiency</th>\n",
       "      <th>floor</th>\n",
       "      <th>building_type</th>\n",
       "      <th>building_state</th>\n",
       "      <th>...</th>\n",
       "      <th>sports</th>\n",
       "      <th>bus</th>\n",
       "      <th>doctors</th>\n",
       "      <th>school</th>\n",
       "      <th>kindergarten</th>\n",
       "      <th>pub</th>\n",
       "      <th>post_office</th>\n",
       "      <th>restaurant</th>\n",
       "      <th>seven_eleven</th>\n",
       "      <th>playground</th>\n",
       "    </tr>\n",
       "  </thead>\n",
       "  <tbody>\n",
       "    <tr>\n",
       "      <th>1</th>\n",
       "      <td>11200</td>\n",
       "      <td>30.0</td>\n",
       "      <td>brno-mesto</td>\n",
       "      <td>1+kk</td>\n",
       "      <td>flat</td>\n",
       "      <td>NaN</td>\n",
       "      <td>NaN</td>\n",
       "      <td>3.0</td>\n",
       "      <td>Cihlová</td>\n",
       "      <td>Velmi dobrý</td>\n",
       "      <td>...</td>\n",
       "      <td>NaN</td>\n",
       "      <td>NaN</td>\n",
       "      <td>NaN</td>\n",
       "      <td>NaN</td>\n",
       "      <td>NaN</td>\n",
       "      <td>NaN</td>\n",
       "      <td>NaN</td>\n",
       "      <td>NaN</td>\n",
       "      <td>NaN</td>\n",
       "      <td>NaN</td>\n",
       "    </tr>\n",
       "    <tr>\n",
       "      <th>4</th>\n",
       "      <td>7950</td>\n",
       "      <td>55.0</td>\n",
       "      <td>ostrava-mesto</td>\n",
       "      <td>2+1</td>\n",
       "      <td>flat</td>\n",
       "      <td>NaN</td>\n",
       "      <td>5.0</td>\n",
       "      <td>3.0</td>\n",
       "      <td>Cihlová</td>\n",
       "      <td>Po rekonstrukci</td>\n",
       "      <td>...</td>\n",
       "      <td>575.0</td>\n",
       "      <td>232.0</td>\n",
       "      <td>254.0</td>\n",
       "      <td>192.0</td>\n",
       "      <td>266.0</td>\n",
       "      <td>175.0</td>\n",
       "      <td>490.0</td>\n",
       "      <td>241.0</td>\n",
       "      <td>280.0</td>\n",
       "      <td>317.0</td>\n",
       "    </tr>\n",
       "    <tr>\n",
       "      <th>5</th>\n",
       "      <td>3450</td>\n",
       "      <td>28.0</td>\n",
       "      <td>karvina</td>\n",
       "      <td>1+1</td>\n",
       "      <td>flat</td>\n",
       "      <td>NaN</td>\n",
       "      <td>5.0</td>\n",
       "      <td>2.0</td>\n",
       "      <td>Cihlová</td>\n",
       "      <td>Dobrý</td>\n",
       "      <td>...</td>\n",
       "      <td>82.0</td>\n",
       "      <td>112.0</td>\n",
       "      <td>272.0</td>\n",
       "      <td>133.0</td>\n",
       "      <td>293.0</td>\n",
       "      <td>144.0</td>\n",
       "      <td>430.0</td>\n",
       "      <td>538.0</td>\n",
       "      <td>174.0</td>\n",
       "      <td>1246.0</td>\n",
       "    </tr>\n",
       "    <tr>\n",
       "      <th>6</th>\n",
       "      <td>6000</td>\n",
       "      <td>56.0</td>\n",
       "      <td>karvina</td>\n",
       "      <td>2+1</td>\n",
       "      <td>flat</td>\n",
       "      <td>NaN</td>\n",
       "      <td>5.0</td>\n",
       "      <td>4.0</td>\n",
       "      <td>Cihlová</td>\n",
       "      <td>Dobrý</td>\n",
       "      <td>...</td>\n",
       "      <td>464.0</td>\n",
       "      <td>294.0</td>\n",
       "      <td>193.0</td>\n",
       "      <td>640.0</td>\n",
       "      <td>114.0</td>\n",
       "      <td>199.0</td>\n",
       "      <td>426.0</td>\n",
       "      <td>231.0</td>\n",
       "      <td>292.0</td>\n",
       "      <td>284.0</td>\n",
       "    </tr>\n",
       "    <tr>\n",
       "      <th>8</th>\n",
       "      <td>90000</td>\n",
       "      <td>350.0</td>\n",
       "      <td>NaN</td>\n",
       "      <td>rodinny</td>\n",
       "      <td>house</td>\n",
       "      <td>0.0</td>\n",
       "      <td>7.0</td>\n",
       "      <td>NaN</td>\n",
       "      <td>Cihlová</td>\n",
       "      <td>Novostavba</td>\n",
       "      <td>...</td>\n",
       "      <td>742.0</td>\n",
       "      <td>602.0</td>\n",
       "      <td>1111.0</td>\n",
       "      <td>1043.0</td>\n",
       "      <td>577.0</td>\n",
       "      <td>1427.0</td>\n",
       "      <td>1039.0</td>\n",
       "      <td>577.0</td>\n",
       "      <td>1039.0</td>\n",
       "      <td>1286.0</td>\n",
       "    </tr>\n",
       "  </tbody>\n",
       "</table>\n",
       "<p>5 rows × 31 columns</p>\n",
       "</div>"
      ],
      "text/plain": [
       "   price  area_m2       district disposition category  furnishing  efficiency  \\\n",
       "1  11200     30.0     brno-mesto        1+kk     flat         NaN         NaN   \n",
       "4   7950     55.0  ostrava-mesto         2+1     flat         NaN         5.0   \n",
       "5   3450     28.0        karvina         1+1     flat         NaN         5.0   \n",
       "6   6000     56.0        karvina         2+1     flat         NaN         5.0   \n",
       "8  90000    350.0            NaN     rodinny    house         0.0         7.0   \n",
       "\n",
       "   floor building_type   building_state  ... sports    bus doctors  school  \\\n",
       "1    3.0       Cihlová      Velmi dobrý  ...    NaN    NaN     NaN     NaN   \n",
       "4    3.0       Cihlová  Po rekonstrukci  ...  575.0  232.0   254.0   192.0   \n",
       "5    2.0       Cihlová            Dobrý  ...   82.0  112.0   272.0   133.0   \n",
       "6    4.0       Cihlová            Dobrý  ...  464.0  294.0   193.0   640.0   \n",
       "8    NaN       Cihlová       Novostavba  ...  742.0  602.0  1111.0  1043.0   \n",
       "\n",
       "   kindergarten     pub  post_office  restaurant  seven_eleven  playground  \n",
       "1           NaN     NaN          NaN         NaN           NaN         NaN  \n",
       "4         266.0   175.0        490.0       241.0         280.0       317.0  \n",
       "5         293.0   144.0        430.0       538.0         174.0      1246.0  \n",
       "6         114.0   199.0        426.0       231.0         292.0       284.0  \n",
       "8         577.0  1427.0       1039.0       577.0        1039.0      1286.0  \n",
       "\n",
       "[5 rows x 31 columns]"
      ]
     },
     "execution_count": 59,
     "metadata": {},
     "output_type": "execute_result"
    }
   ],
   "source": [
    "b.head()"
   ]
  },
  {
   "cell_type": "code",
   "execution_count": null,
   "id": "00a4066c",
   "metadata": {},
   "outputs": [],
   "source": []
  }
 ],
 "metadata": {
  "kernelspec": {
   "display_name": "Python 3",
   "language": "python",
   "name": "python3"
  },
  "language_info": {
   "codemirror_mode": {
    "name": "ipython",
    "version": 3
   },
   "file_extension": ".py",
   "mimetype": "text/x-python",
   "name": "python",
   "nbconvert_exporter": "python",
   "pygments_lexer": "ipython3",
   "version": "3.8.8"
  }
 },
 "nbformat": 4,
 "nbformat_minor": 5
}
