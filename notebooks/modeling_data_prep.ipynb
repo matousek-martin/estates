{
 "cells": [
  {
   "cell_type": "code",
   "execution_count": 66,
   "metadata": {},
   "outputs": [],
   "source": [
    "%load_ext autoreload\n",
    "%autoreload 2\n",
    "\n",
    "import pandas as pd\n",
    "import numpy as np\n",
    "\n",
    "from parsing_functions import *\n",
    "\n",
    "raw_df = pd.read_csv(\"sreality_output_16112019.csv\")\n",
    "raw_df = raw_df.rename(rename_mapping,axis=1)\n",
    "\n",
    "raw_df.loc[:,feature_transformation_mapping.keys()] = raw_df.apply(feature_transformation_mapping)\n",
    "raw_df = raw_df.loc[:,features + target]\n",
    "\n",
    "raw_df = raw_df.astype(type_mapping)"
   ]
  },
  {
   "cell_type": "code",
   "execution_count": null,
   "metadata": {},
   "outputs": [],
   "source": []
  }
 ],
 "metadata": {
  "kernelspec": {
   "display_name": "Python 3",
   "language": "python",
   "name": "python3"
  },
  "language_info": {
   "codemirror_mode": {
    "name": "ipython",
    "version": 3
   },
   "file_extension": ".py",
   "mimetype": "text/x-python",
   "name": "python",
   "nbconvert_exporter": "python",
   "pygments_lexer": "ipython3",
   "version": "3.7.5"
  }
 },
 "nbformat": 4,
 "nbformat_minor": 4
}
