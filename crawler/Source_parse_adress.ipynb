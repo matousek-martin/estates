{
 "cells": [
  {
   "cell_type": "markdown",
   "metadata": {},
   "source": [
    "# FIX NUMBER/NUMBER"
   ]
  },
  {
   "cell_type": "markdown",
   "metadata": {},
   "source": [
    "# This script is a parser of an address in czech format\n",
    "Purpose of this script is to parse given address into its elements (street, number, city, part of the city, zip)"
   ]
  },
  {
   "cell_type": "code",
   "execution_count": 3,
   "metadata": {},
   "outputs": [],
   "source": [
    "import re\n",
    "import os\n",
    "import pandas as pd\n",
    "import numpy as np"
   ]
  },
  {
   "cell_type": "code",
   "execution_count": 4,
   "metadata": {},
   "outputs": [],
   "source": [
    "def contains_digit(s):\n",
    "    '''\n",
    "    Simple help function for testing presence of a number in the string\n",
    "    '''\n",
    "    isdigit = str.isdigit\n",
    "    return any(map(isdigit,s))"
   ]
  },
  {
   "cell_type": "code",
   "execution_count": 49,
   "metadata": {},
   "outputs": [],
   "source": [
    "class parseAddressDataFrame():\n",
    "    '''\n",
    "    a class that takes a dataframe containing a column of addresses and returns the same df enriched by specific parts of the address (street, number, city, part of the city, zip)\n",
    "    '''\n",
    "    \n",
    "    def __init__(self, dataframe):\n",
    "        self.dataframe = dataframe\n",
    "    \n",
    "    def parseOne(self, adresa):\n",
    "        '''\n",
    "        This method servers as a parser for address. Input is a string containing an address that should be unique in the Czech Republic. i.e. a specific address of a house\n",
    "        Output is a dictionary containing parsed elements. It works well for standard address format, however, it might struggle to parse uncommon formats.\n",
    "        '''\n",
    "        adr = {}\n",
    "\n",
    "        #just to be sure of correct input format\n",
    "        adresa = str(adresa)\n",
    "        \n",
    "        #basic splits by comma and space and other characters\n",
    "        commaSplit = re.split(\",\",adresa)\n",
    "        barSplit_ini = [re.split(\"-\", q) for q in commaSplit]\n",
    "        barSplit = sum(barSplit_ini, [])\n",
    "        slashSplit_ini = [re.split(\"/\", q) for q in barSplit]\n",
    "        slashSplit = sum(slashSplit_ini, [])\n",
    "        spaceSplit_ini = [q.split() for q in slashSplit]\n",
    "        spaceSplit     = sum(spaceSplit_ini, [])\n",
    "\n",
    "\n",
    "        #locate first (resp second) element which is a number (or begins with) - we expect the first element to be an string + number which is a street and its number\n",
    "        i = 1\n",
    "        while i <= len(spaceSplit):\n",
    "            if spaceSplit[i][0].isdigit():\n",
    "                    locCP = i\n",
    "                    break\n",
    "            i = i+1\n",
    "\n",
    "        #solve streer (supposed to be at the beginning)\n",
    "        street = \" \".join(spaceSplit[:locCP])\n",
    "        adr['ulice'] = street\n",
    "\n",
    "        #cut the list with info\n",
    "        splitCut1 = spaceSplit[locCP:]\n",
    "\n",
    "        ################################################\n",
    "        ### This chunk determines street and its number\n",
    "        #expecting cislo popisne or/and orientacni\n",
    "        if os.sep in splitCut1[0]:\n",
    "            spl = splitCut1[0].split(os.sep)\n",
    "            cp = spl[0]\n",
    "            co = spl[1]\n",
    "            #drop the parsed cislo \n",
    "            splitCut2 = splitCut1[1:]\n",
    "        elif splitCut1[0].isdigit() & splitCut1[1][0].isalpha():\n",
    "            cp = splitCut1[0]\n",
    "            co = \"NotFound\"\n",
    "            #drop the parsed cislo \n",
    "            splitCut2 = splitCut1[1:]\n",
    "        elif splitCut1[0].isdigit():\n",
    "            cp = splitCut1[0]\n",
    "            co = \"NotFound\"\n",
    "            #drop the parsed cislo \n",
    "            splitCut2 = splitCut1[1:]       \n",
    "        elif splitCut1[0][0].isalpha():\n",
    "            cp = \"ExpNum\"\n",
    "            co = \"ExpNum\"\n",
    "            #drop the parsed cislo \n",
    "            splitCut2 = splitCut1\n",
    "            failToParse = True\n",
    "        else:\n",
    "            cp = \"UnknownError\"\n",
    "            co = \"UnknowError\"\n",
    "            splitCut2 = splitCut1\n",
    "            failToParse = True\n",
    "\n",
    "        adr['cp'] = cp\n",
    "        adr['co'] = co\n",
    "\n",
    "        ####################################################    \n",
    "        ### guess psc - at the end of the list\n",
    "        #sometimes remaining liest will be short (only city... ) in that case, it is probably only the city\n",
    "        if( len(splitCut2) < 2):\n",
    "            #psc is probably not presented\n",
    "            if splitCut2[0].isdigit():\n",
    "                psc   = splitCut2[0]\n",
    "            else:\n",
    "                psc   = 'NotFound'\n",
    "            splitCut3 = splitCut2\n",
    "        #switch to normal decision where psc, city and/or ctvrt are presented\n",
    "        else:\n",
    "            if (len(splitCut2[-1]) == 5) & splitCut2[-1].isdigit():\n",
    "                psc = splitCut2[-1]\n",
    "                #drop from the list psc\n",
    "                splitCut3 = splitCut2[:(len(splitCut2)-1)]\n",
    "            elif (len(splitCut2[-1]) + len(splitCut2[-2]) == 5) & splitCut2[-1].isdigit() & splitCut2[-2].isdigit():\n",
    "                psc = splitCut2[-2]  + splitCut2[-1]\n",
    "                splitCut3 = splitCut2[:(len(splitCut2)-2)]\n",
    "            elif (len(splitCut2[0]) == 5) & splitCut2[0].isdigit():\n",
    "                psc = splitCut2[0]\n",
    "                splitCut3 = splitCut2[1:]\n",
    "            elif (len(splitCut2[0]) + len(splitCut2[1]) == 5) & splitCut2[0].isdigit() & splitCut2[1].isdigit():\n",
    "                psc = splitCut2[0]  + splitCut2[1]\n",
    "                splitCut3 = splitCut2[2:]\n",
    "            else:\n",
    "                psc = \"NotFound\"\n",
    "                splitCut3 = splitCut2\n",
    "\n",
    "        adr['psc'] = psc\n",
    "\n",
    "        ##################################################\n",
    "        ### guess city and part of the city\n",
    "        # the rest of the list should contain city and/or part of city\n",
    "        i = 0\n",
    "\n",
    "        while i < len(splitCut3):\n",
    "            if splitCut3[i][0].isdigit():\n",
    "                    locNum = i\n",
    "                    break\n",
    "            else:\n",
    "                locNum = 0\n",
    "            i = i+1\n",
    "\n",
    "        if (len(splitCut3)-1) > locNum :\n",
    "            l = locNum+1\n",
    "            mesto1 = \" \".join(splitCut3[:l])\n",
    "            mesto2 = \" \".join(splitCut3[l:])\n",
    "        elif (len(splitCut3)-1) == locNum:\n",
    "            mesto1 = \" \".join(splitCut3[:-2])\n",
    "            mesto2 = \" \".join(splitCut3[-2:])\n",
    "        else:\n",
    "            mesto1 = splitCut3\n",
    "            mesto2 = splitCut3\n",
    "            failToParse = True\n",
    "        adr['obec'] = mesto1 if mesto1 != \"\" else \"NotFound\"\n",
    "        adr['castobce'] = mesto2 if mesto2 != \"\" else \"NotFound\"\n",
    "\n",
    "\n",
    "        #print(\"Input:\", adresa)\n",
    "\n",
    "        return adr\n",
    "    \n",
    "    def processDF(self):\n",
    "        '''\n",
    "        this function serves as an iterator over rows of the dataframe and add the parsed parts to the df\n",
    "        '''\n",
    "        self.parsed = {}\n",
    "        \n",
    "        #iterate over the file and assign results\n",
    "        for i,j in self.dataframe.itertuples():\n",
    "            #apply the parsing function\n",
    "            parsedone = self.parseOne(j)\n",
    "            \n",
    "            #add it to results dictionary\n",
    "            self.parsed[i] = parsedone\n",
    "            \n",
    "    def addprocessed(self):\n",
    "        '''\n",
    "        this method adds separated address elements to the original dataframe and creates one output file\n",
    "        '''\n",
    "        #processed as pandas\n",
    "        dfpandas = pd.DataFrame.from_dict(self.parsed, orient='index')\n",
    "        \n",
    "        #replace NotFound by nan\n",
    "        dfpandas.replace(\"NotFound\",np.nan, inplace=True)\n",
    "        \n",
    "        #replace not found by None        \n",
    "        self.outputdf =  pd.concat([self.dataframe, dfpandas], axis=1, sort=False)"
   ]
  },
  {
   "cell_type": "code",
   "execution_count": 40,
   "metadata": {},
   "outputs": [],
   "source": [
    "for i,j in df.itertuples():\n",
    "    if i ==0:\n",
    "        adresa = j"
   ]
  },
  {
   "cell_type": "code",
   "execution_count": 41,
   "metadata": {},
   "outputs": [
    {
     "data": {
      "text/plain": [
       "'Jugoslávských partyzánů 1580/3, Praha'"
      ]
     },
     "execution_count": 41,
     "metadata": {},
     "output_type": "execute_result"
    }
   ],
   "source": [
    "adresa"
   ]
  },
  {
   "cell_type": "code",
   "execution_count": 42,
   "metadata": {},
   "outputs": [],
   "source": [
    "#just to be sure of correct input format\n",
    "adresa = str(adresa)"
   ]
  },
  {
   "cell_type": "code",
   "execution_count": 43,
   "metadata": {},
   "outputs": [],
   "source": [
    "#basic splits by comma and space and other characters\n",
    "commaSplit = re.split(\",\",adresa)\n",
    "barSplit_ini = [re.split(\"-\", q) for q in commaSplit]\n",
    "barSplit = sum(barSplit_ini, [])"
   ]
  },
  {
   "cell_type": "code",
   "execution_count": 44,
   "metadata": {},
   "outputs": [
    {
     "data": {
      "text/plain": [
       "['Jugoslávských partyzánů 1580/3', ' Praha']"
      ]
     },
     "execution_count": 44,
     "metadata": {},
     "output_type": "execute_result"
    }
   ],
   "source": [
    "barSplit"
   ]
  },
  {
   "cell_type": "code",
   "execution_count": 45,
   "metadata": {},
   "outputs": [],
   "source": [
    "slashSplit_ini = [re.split(\"/\", q) for q in barSplit]"
   ]
  },
  {
   "cell_type": "code",
   "execution_count": 48,
   "metadata": {},
   "outputs": [
    {
     "data": {
      "text/plain": [
       "['Jugoslávských partyzánů 1580', '3', ' Praha']"
      ]
     },
     "execution_count": 48,
     "metadata": {},
     "output_type": "execute_result"
    }
   ],
   "source": [
    "slashSplit = sum(slashSplit_ini,[])\n",
    "slashSplit"
   ]
  },
  {
   "cell_type": "code",
   "execution_count": null,
   "metadata": {},
   "outputs": [],
   "source": [
    "#slashSplit = sum(slashSplit_ini, [])\n",
    "spaceSplit_ini = [q.split() for q in barSplit]\n",
    "spaceSplit     = sum(spaceSplit_ini, [])"
   ]
  },
  {
   "cell_type": "markdown",
   "metadata": {},
   "source": [
    "# Testing of the function"
   ]
  },
  {
   "cell_type": "markdown",
   "metadata": {},
   "source": [
    "### dummy data"
   ]
  },
  {
   "cell_type": "code",
   "execution_count": 21,
   "metadata": {},
   "outputs": [],
   "source": [
    "tsts = [\"Jugoslávských partyzánů 1580/3, Praha\",\n",
    "       \"Duškova 7, Praha 5\",\n",
    "       \"Opatovická 160/18, Praha \",\n",
    "       \"nám. W. Churchilla 4, Praha 3\",\n",
    "       \"Slezská 68, Praha 3 - Vinohrady\"]\n",
    "\n",
    "df = pd.DataFrame(tsts, columns=[\"adresa\"] )"
   ]
  },
  {
   "cell_type": "markdown",
   "metadata": {},
   "source": [
    "### run the class"
   ]
  },
  {
   "cell_type": "code",
   "execution_count": 50,
   "metadata": {},
   "outputs": [],
   "source": [
    "parsead  = parseAddressDataFrame(df)"
   ]
  },
  {
   "cell_type": "code",
   "execution_count": 51,
   "metadata": {},
   "outputs": [],
   "source": [
    "parsead.processDF()"
   ]
  },
  {
   "cell_type": "code",
   "execution_count": 52,
   "metadata": {},
   "outputs": [],
   "source": [
    "parsead.addprocessed()"
   ]
  },
  {
   "cell_type": "code",
   "execution_count": 53,
   "metadata": {},
   "outputs": [
    {
     "data": {
      "text/html": [
       "<div>\n",
       "<style scoped>\n",
       "    .dataframe tbody tr th:only-of-type {\n",
       "        vertical-align: middle;\n",
       "    }\n",
       "\n",
       "    .dataframe tbody tr th {\n",
       "        vertical-align: top;\n",
       "    }\n",
       "\n",
       "    .dataframe thead th {\n",
       "        text-align: right;\n",
       "    }\n",
       "</style>\n",
       "<table border=\"1\" class=\"dataframe\">\n",
       "  <thead>\n",
       "    <tr style=\"text-align: right;\">\n",
       "      <th></th>\n",
       "      <th>adresa</th>\n",
       "      <th>ulice</th>\n",
       "      <th>cp</th>\n",
       "      <th>co</th>\n",
       "      <th>psc</th>\n",
       "      <th>obec</th>\n",
       "      <th>castobce</th>\n",
       "    </tr>\n",
       "  </thead>\n",
       "  <tbody>\n",
       "    <tr>\n",
       "      <th>0</th>\n",
       "      <td>Jugoslávských partyzánů 1580/3, Praha</td>\n",
       "      <td>Jugoslávských partyzánů</td>\n",
       "      <td>1580</td>\n",
       "      <td>NaN</td>\n",
       "      <td>NaN</td>\n",
       "      <td>3</td>\n",
       "      <td>Praha</td>\n",
       "    </tr>\n",
       "    <tr>\n",
       "      <th>1</th>\n",
       "      <td>Duškova 7, Praha 5</td>\n",
       "      <td>Duškova</td>\n",
       "      <td>7</td>\n",
       "      <td>NaN</td>\n",
       "      <td>NaN</td>\n",
       "      <td>NaN</td>\n",
       "      <td>Praha 5</td>\n",
       "    </tr>\n",
       "    <tr>\n",
       "      <th>2</th>\n",
       "      <td>Opatovická 160/18, Praha</td>\n",
       "      <td>Opatovická</td>\n",
       "      <td>160</td>\n",
       "      <td>NaN</td>\n",
       "      <td>NaN</td>\n",
       "      <td>18</td>\n",
       "      <td>Praha</td>\n",
       "    </tr>\n",
       "    <tr>\n",
       "      <th>3</th>\n",
       "      <td>nám. W. Churchilla 4, Praha 3</td>\n",
       "      <td>nám. W. Churchilla</td>\n",
       "      <td>4</td>\n",
       "      <td>NaN</td>\n",
       "      <td>NaN</td>\n",
       "      <td>NaN</td>\n",
       "      <td>Praha 3</td>\n",
       "    </tr>\n",
       "    <tr>\n",
       "      <th>4</th>\n",
       "      <td>Slezská 68, Praha 3 - Vinohrady</td>\n",
       "      <td>Slezská</td>\n",
       "      <td>68</td>\n",
       "      <td>NaN</td>\n",
       "      <td>NaN</td>\n",
       "      <td>Praha 3</td>\n",
       "      <td>Vinohrady</td>\n",
       "    </tr>\n",
       "  </tbody>\n",
       "</table>\n",
       "</div>"
      ],
      "text/plain": [
       "                                  adresa                    ulice    cp  co  \\\n",
       "0  Jugoslávských partyzánů 1580/3, Praha  Jugoslávských partyzánů  1580 NaN   \n",
       "1                     Duškova 7, Praha 5                  Duškova     7 NaN   \n",
       "2              Opatovická 160/18, Praha                Opatovická   160 NaN   \n",
       "3          nám. W. Churchilla 4, Praha 3       nám. W. Churchilla     4 NaN   \n",
       "4        Slezská 68, Praha 3 - Vinohrady                  Slezská    68 NaN   \n",
       "\n",
       "   psc     obec   castobce  \n",
       "0  NaN        3      Praha  \n",
       "1  NaN      NaN    Praha 5  \n",
       "2  NaN       18      Praha  \n",
       "3  NaN      NaN    Praha 3  \n",
       "4  NaN  Praha 3  Vinohrady  "
      ]
     },
     "execution_count": 53,
     "metadata": {},
     "output_type": "execute_result"
    }
   ],
   "source": [
    "parsead.outputdf"
   ]
  },
  {
   "cell_type": "code",
   "execution_count": null,
   "metadata": {},
   "outputs": [],
   "source": []
  }
 ],
 "metadata": {
  "kernelspec": {
   "display_name": "Python 3",
   "language": "python",
   "name": "python3"
  },
  "language_info": {
   "codemirror_mode": {
    "name": "ipython",
    "version": 3
   },
   "file_extension": ".py",
   "mimetype": "text/x-python",
   "name": "python",
   "nbconvert_exporter": "python",
   "pygments_lexer": "ipython3",
   "version": "3.6.5"
  }
 },
 "nbformat": 4,
 "nbformat_minor": 2
}
