{
 "cells": [
  {
   "cell_type": "markdown",
   "metadata": {},
   "source": [
    "# This is an example run script for parsing an address\n",
    "It uses predefined functions and given dataframe returns parsed data"
   ]
  },
  {
   "cell_type": "code",
   "execution_count": 2,
   "metadata": {},
   "outputs": [],
   "source": [
    "import f_parse_adress as parser\n",
    "import pandas as pd"
   ]
  },
  {
   "cell_type": "markdown",
   "metadata": {},
   "source": [
    "### generate sample data\n"
   ]
  },
  {
   "cell_type": "code",
   "execution_count": 3,
   "metadata": {},
   "outputs": [],
   "source": [
    "tsts = [\"Jugoslávských partyzánů 1580/3, Praha 6\",\n",
    "       \"Duškova 7, Praha 5\",\n",
    "       \"Opatovická 160/18, Praha \",\n",
    "       \"nám. W. Churchilla 4, Praha 3\",\n",
    "       \"Slezská 68, Praha 3 - Vinohrady\"]\n",
    "\n",
    "df = pd.DataFrame(tsts, columns=[\"adresa\"])"
   ]
  },
  {
   "cell_type": "markdown",
   "metadata": {},
   "source": [
    "## parse"
   ]
  },
  {
   "cell_type": "code",
   "execution_count": 4,
   "metadata": {},
   "outputs": [],
   "source": [
    "par = parser.parseAddressDataFrame(df)"
   ]
  },
  {
   "cell_type": "code",
   "execution_count": 5,
   "metadata": {},
   "outputs": [],
   "source": [
    "par.processDF()"
   ]
  },
  {
   "cell_type": "code",
   "execution_count": 6,
   "metadata": {},
   "outputs": [],
   "source": [
    "par.addprocessed()"
   ]
  },
  {
   "cell_type": "code",
   "execution_count": 7,
   "metadata": {},
   "outputs": [
    {
     "data": {
      "text/html": [
       "<div>\n",
       "<style scoped>\n",
       "    .dataframe tbody tr th:only-of-type {\n",
       "        vertical-align: middle;\n",
       "    }\n",
       "\n",
       "    .dataframe tbody tr th {\n",
       "        vertical-align: top;\n",
       "    }\n",
       "\n",
       "    .dataframe thead th {\n",
       "        text-align: right;\n",
       "    }\n",
       "</style>\n",
       "<table border=\"1\" class=\"dataframe\">\n",
       "  <thead>\n",
       "    <tr style=\"text-align: right;\">\n",
       "      <th></th>\n",
       "      <th>adresa</th>\n",
       "      <th>ulice</th>\n",
       "      <th>cp</th>\n",
       "      <th>co</th>\n",
       "      <th>psc</th>\n",
       "      <th>obec</th>\n",
       "      <th>castobce</th>\n",
       "    </tr>\n",
       "  </thead>\n",
       "  <tbody>\n",
       "    <tr>\n",
       "      <th>0</th>\n",
       "      <td>Jugoslávských partyzánů 1580/3, Praha 6</td>\n",
       "      <td>Jugoslávských partyzánů</td>\n",
       "      <td>1580</td>\n",
       "      <td>3</td>\n",
       "      <td>NaN</td>\n",
       "      <td>NaN</td>\n",
       "      <td>Praha 6</td>\n",
       "    </tr>\n",
       "    <tr>\n",
       "      <th>1</th>\n",
       "      <td>Duškova 7, Praha 5</td>\n",
       "      <td>Duškova</td>\n",
       "      <td>7</td>\n",
       "      <td>NaN</td>\n",
       "      <td>NaN</td>\n",
       "      <td>NaN</td>\n",
       "      <td>Praha 5</td>\n",
       "    </tr>\n",
       "    <tr>\n",
       "      <th>2</th>\n",
       "      <td>Opatovická 160/18, Praha</td>\n",
       "      <td>Opatovická</td>\n",
       "      <td>160</td>\n",
       "      <td>18</td>\n",
       "      <td>NaN</td>\n",
       "      <td>NaN</td>\n",
       "      <td>Praha</td>\n",
       "    </tr>\n",
       "    <tr>\n",
       "      <th>3</th>\n",
       "      <td>nám. W. Churchilla 4, Praha 3</td>\n",
       "      <td>nám. W. Churchilla</td>\n",
       "      <td>4</td>\n",
       "      <td>NaN</td>\n",
       "      <td>NaN</td>\n",
       "      <td>NaN</td>\n",
       "      <td>Praha 3</td>\n",
       "    </tr>\n",
       "    <tr>\n",
       "      <th>4</th>\n",
       "      <td>Slezská 68, Praha 3 - Vinohrady</td>\n",
       "      <td>Slezská</td>\n",
       "      <td>68</td>\n",
       "      <td>NaN</td>\n",
       "      <td>NaN</td>\n",
       "      <td>Praha 3</td>\n",
       "      <td>Vinohrady</td>\n",
       "    </tr>\n",
       "  </tbody>\n",
       "</table>\n",
       "</div>"
      ],
      "text/plain": [
       "                                    adresa                    ulice    cp  \\\n",
       "0  Jugoslávských partyzánů 1580/3, Praha 6  Jugoslávských partyzánů  1580   \n",
       "1                       Duškova 7, Praha 5                  Duškova     7   \n",
       "2                Opatovická 160/18, Praha                Opatovická   160   \n",
       "3            nám. W. Churchilla 4, Praha 3       nám. W. Churchilla     4   \n",
       "4          Slezská 68, Praha 3 - Vinohrady                  Slezská    68   \n",
       "\n",
       "    co  psc     obec   castobce  \n",
       "0    3  NaN      NaN    Praha 6  \n",
       "1  NaN  NaN      NaN    Praha 5  \n",
       "2   18  NaN      NaN      Praha  \n",
       "3  NaN  NaN      NaN    Praha 3  \n",
       "4  NaN  NaN  Praha 3  Vinohrady  "
      ]
     },
     "execution_count": 7,
     "metadata": {},
     "output_type": "execute_result"
    }
   ],
   "source": [
    "par.outputdf"
   ]
  },
  {
   "cell_type": "code",
   "execution_count": null,
   "metadata": {},
   "outputs": [],
   "source": []
  }
 ],
 "metadata": {
  "kernelspec": {
   "display_name": "Python 3",
   "language": "python",
   "name": "python3"
  },
  "language_info": {
   "codemirror_mode": {
    "name": "ipython",
    "version": 3
   },
   "file_extension": ".py",
   "mimetype": "text/x-python",
   "name": "python",
   "nbconvert_exporter": "python",
   "pygments_lexer": "ipython3",
   "version": "3.7.2"
  }
 },
 "nbformat": 4,
 "nbformat_minor": 2
}
